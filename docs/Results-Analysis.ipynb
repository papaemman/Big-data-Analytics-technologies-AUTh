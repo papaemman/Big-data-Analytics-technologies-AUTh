{
 "cells": [
  {
   "cell_type": "markdown",
   "metadata": {},
   "source": [
    "# Results Analysis"
   ]
  },
  {
   "cell_type": "markdown",
   "metadata": {},
   "source": [
    "## Prepare dataset"
   ]
  },
  {
   "cell_type": "code",
   "execution_count": 69,
   "metadata": {},
   "outputs": [],
   "source": [
    "# Load modules\n",
    "import numpy as np\n",
    "import pandas as pd\n",
    "import seaborn as sns\n",
    "import plotly.express as px\n",
    "import plotly.graph_objects as go"
   ]
  },
  {
   "cell_type": "code",
   "execution_count": 70,
   "metadata": {},
   "outputs": [],
   "source": [
    "# Load datasets\n",
    "# experiment_times_temp.csv, experiment_times.csv\n",
    "experiment_times = pd.read_csv(\"experiment_times.csv\")"
   ]
  },
  {
   "cell_type": "code",
   "execution_count": 71,
   "metadata": {},
   "outputs": [],
   "source": [
    "# Extract variables from datapath\n",
    "experiment_times[\"total_points\"] = experiment_times[\"datapath\"].apply(lambda x: x.split(\"_\")[1])\n",
    "experiment_times[\"dim\"] = experiment_times[\"datapath\"].apply(lambda x: x.split(\"_\")[3])\n",
    "experiment_times[\"distribution\"] = experiment_times[\"datapath\"].apply(lambda x: x.split(\"_\")[5])\n",
    "experiment_times[\"datapath\"] = experiment_times[\"datapath\"].astype(str)"
   ]
  },
  {
   "cell_type": "code",
   "execution_count": 72,
   "metadata": {},
   "outputs": [
    {
     "data": {
      "text/html": [
       "<div>\n",
       "<style scoped>\n",
       "    .dataframe tbody tr th:only-of-type {\n",
       "        vertical-align: middle;\n",
       "    }\n",
       "\n",
       "    .dataframe tbody tr th {\n",
       "        vertical-align: top;\n",
       "    }\n",
       "\n",
       "    .dataframe thead th {\n",
       "        text-align: right;\n",
       "    }\n",
       "</style>\n",
       "<table border=\"1\" class=\"dataframe\">\n",
       "  <thead>\n",
       "    <tr style=\"text-align: right;\">\n",
       "      <th></th>\n",
       "      <th>datapath</th>\n",
       "      <th>cores</th>\n",
       "      <th>k</th>\n",
       "      <th>create_rdd_time</th>\n",
       "      <th>skyline_time</th>\n",
       "      <th>topk_time</th>\n",
       "      <th>skyline_topk_time</th>\n",
       "      <th>total_points</th>\n",
       "      <th>dim</th>\n",
       "      <th>distribution</th>\n",
       "    </tr>\n",
       "  </thead>\n",
       "  <tbody>\n",
       "    <tr>\n",
       "      <th>0</th>\n",
       "      <td>./datasets/dataset_10000_points_4_dimension_an...</td>\n",
       "      <td>1</td>\n",
       "      <td>1</td>\n",
       "      <td>0.442238</td>\n",
       "      <td>0.736803</td>\n",
       "      <td>1.115741</td>\n",
       "      <td>0.044212</td>\n",
       "      <td>10000</td>\n",
       "      <td>4</td>\n",
       "      <td>anticorrelated</td>\n",
       "    </tr>\n",
       "    <tr>\n",
       "      <th>1</th>\n",
       "      <td>./datasets/dataset_10000_points_4_dimension_an...</td>\n",
       "      <td>1</td>\n",
       "      <td>10</td>\n",
       "      <td>0.036769</td>\n",
       "      <td>0.225161</td>\n",
       "      <td>1.313375</td>\n",
       "      <td>0.039799</td>\n",
       "      <td>10000</td>\n",
       "      <td>4</td>\n",
       "      <td>anticorrelated</td>\n",
       "    </tr>\n",
       "    <tr>\n",
       "      <th>2</th>\n",
       "      <td>./datasets/dataset_10000_points_4_dimension_an...</td>\n",
       "      <td>1</td>\n",
       "      <td>50</td>\n",
       "      <td>0.022133</td>\n",
       "      <td>0.171891</td>\n",
       "      <td>1.215638</td>\n",
       "      <td>0.033380</td>\n",
       "      <td>10000</td>\n",
       "      <td>4</td>\n",
       "      <td>anticorrelated</td>\n",
       "    </tr>\n",
       "    <tr>\n",
       "      <th>3</th>\n",
       "      <td>./datasets/dataset_10000_points_4_dimension_an...</td>\n",
       "      <td>1</td>\n",
       "      <td>100</td>\n",
       "      <td>0.034553</td>\n",
       "      <td>0.117338</td>\n",
       "      <td>1.251911</td>\n",
       "      <td>0.029572</td>\n",
       "      <td>10000</td>\n",
       "      <td>4</td>\n",
       "      <td>anticorrelated</td>\n",
       "    </tr>\n",
       "    <tr>\n",
       "      <th>4</th>\n",
       "      <td>./datasets/dataset_10000_points_4_dimension_an...</td>\n",
       "      <td>2</td>\n",
       "      <td>1</td>\n",
       "      <td>0.023164</td>\n",
       "      <td>0.128539</td>\n",
       "      <td>0.483169</td>\n",
       "      <td>0.031901</td>\n",
       "      <td>10000</td>\n",
       "      <td>4</td>\n",
       "      <td>anticorrelated</td>\n",
       "    </tr>\n",
       "    <tr>\n",
       "      <th>...</th>\n",
       "      <td>...</td>\n",
       "      <td>...</td>\n",
       "      <td>...</td>\n",
       "      <td>...</td>\n",
       "      <td>...</td>\n",
       "      <td>...</td>\n",
       "      <td>...</td>\n",
       "      <td>...</td>\n",
       "      <td>...</td>\n",
       "      <td>...</td>\n",
       "    </tr>\n",
       "    <tr>\n",
       "      <th>157</th>\n",
       "      <td>./datasets/dataset_10000_points_50_dimension_c...</td>\n",
       "      <td>1</td>\n",
       "      <td>1</td>\n",
       "      <td>0.021490</td>\n",
       "      <td>42.926742</td>\n",
       "      <td>39.560707</td>\n",
       "      <td>0.076767</td>\n",
       "      <td>10000</td>\n",
       "      <td>50</td>\n",
       "      <td>correlated</td>\n",
       "    </tr>\n",
       "    <tr>\n",
       "      <th>158</th>\n",
       "      <td>./datasets/dataset_10000_points_50_dimension_a...</td>\n",
       "      <td>8</td>\n",
       "      <td>1</td>\n",
       "      <td>0.456833</td>\n",
       "      <td>7.534045</td>\n",
       "      <td>1.840883</td>\n",
       "      <td>0.142556</td>\n",
       "      <td>10000</td>\n",
       "      <td>50</td>\n",
       "      <td>anticorrelated</td>\n",
       "    </tr>\n",
       "    <tr>\n",
       "      <th>159</th>\n",
       "      <td>./datasets/dataset_10000_points_50_dimension_a...</td>\n",
       "      <td>4</td>\n",
       "      <td>1</td>\n",
       "      <td>0.037298</td>\n",
       "      <td>42.912147</td>\n",
       "      <td>10.269494</td>\n",
       "      <td>0.091192</td>\n",
       "      <td>10000</td>\n",
       "      <td>50</td>\n",
       "      <td>anticorrelated</td>\n",
       "    </tr>\n",
       "    <tr>\n",
       "      <th>160</th>\n",
       "      <td>./datasets/dataset_10000_points_50_dimension_a...</td>\n",
       "      <td>2</td>\n",
       "      <td>1</td>\n",
       "      <td>0.025070</td>\n",
       "      <td>40.216422</td>\n",
       "      <td>9.725658</td>\n",
       "      <td>0.074000</td>\n",
       "      <td>10000</td>\n",
       "      <td>50</td>\n",
       "      <td>anticorrelated</td>\n",
       "    </tr>\n",
       "    <tr>\n",
       "      <th>161</th>\n",
       "      <td>./datasets/dataset_10000_points_50_dimension_a...</td>\n",
       "      <td>1</td>\n",
       "      <td>1</td>\n",
       "      <td>0.014766</td>\n",
       "      <td>42.352802</td>\n",
       "      <td>38.839274</td>\n",
       "      <td>0.063869</td>\n",
       "      <td>10000</td>\n",
       "      <td>50</td>\n",
       "      <td>anticorrelated</td>\n",
       "    </tr>\n",
       "  </tbody>\n",
       "</table>\n",
       "<p>162 rows × 10 columns</p>\n",
       "</div>"
      ],
      "text/plain": [
       "                                              datapath  cores    k  \\\n",
       "0    ./datasets/dataset_10000_points_4_dimension_an...      1    1   \n",
       "1    ./datasets/dataset_10000_points_4_dimension_an...      1   10   \n",
       "2    ./datasets/dataset_10000_points_4_dimension_an...      1   50   \n",
       "3    ./datasets/dataset_10000_points_4_dimension_an...      1  100   \n",
       "4    ./datasets/dataset_10000_points_4_dimension_an...      2    1   \n",
       "..                                                 ...    ...  ...   \n",
       "157  ./datasets/dataset_10000_points_50_dimension_c...      1    1   \n",
       "158  ./datasets/dataset_10000_points_50_dimension_a...      8    1   \n",
       "159  ./datasets/dataset_10000_points_50_dimension_a...      4    1   \n",
       "160  ./datasets/dataset_10000_points_50_dimension_a...      2    1   \n",
       "161  ./datasets/dataset_10000_points_50_dimension_a...      1    1   \n",
       "\n",
       "     create_rdd_time  skyline_time  topk_time  skyline_topk_time total_points  \\\n",
       "0           0.442238      0.736803   1.115741           0.044212        10000   \n",
       "1           0.036769      0.225161   1.313375           0.039799        10000   \n",
       "2           0.022133      0.171891   1.215638           0.033380        10000   \n",
       "3           0.034553      0.117338   1.251911           0.029572        10000   \n",
       "4           0.023164      0.128539   0.483169           0.031901        10000   \n",
       "..               ...           ...        ...                ...          ...   \n",
       "157         0.021490     42.926742  39.560707           0.076767        10000   \n",
       "158         0.456833      7.534045   1.840883           0.142556        10000   \n",
       "159         0.037298     42.912147  10.269494           0.091192        10000   \n",
       "160         0.025070     40.216422   9.725658           0.074000        10000   \n",
       "161         0.014766     42.352802  38.839274           0.063869        10000   \n",
       "\n",
       "    dim    distribution  \n",
       "0     4  anticorrelated  \n",
       "1     4  anticorrelated  \n",
       "2     4  anticorrelated  \n",
       "3     4  anticorrelated  \n",
       "4     4  anticorrelated  \n",
       "..   ..             ...  \n",
       "157  50      correlated  \n",
       "158  50  anticorrelated  \n",
       "159  50  anticorrelated  \n",
       "160  50  anticorrelated  \n",
       "161  50  anticorrelated  \n",
       "\n",
       "[162 rows x 10 columns]"
      ]
     },
     "execution_count": 72,
     "metadata": {},
     "output_type": "execute_result"
    }
   ],
   "source": [
    "# Check dataset\n",
    "experiment_times"
   ]
  },
  {
   "cell_type": "code",
   "execution_count": 73,
   "metadata": {},
   "outputs": [
    {
     "data": {
      "text/plain": [
       "datapath              object\n",
       "cores                  int64\n",
       "k                      int64\n",
       "create_rdd_time      float64\n",
       "skyline_time         float64\n",
       "topk_time            float64\n",
       "skyline_topk_time    float64\n",
       "total_points          object\n",
       "dim                   object\n",
       "distribution          object\n",
       "dtype: object"
      ]
     },
     "execution_count": 73,
     "metadata": {},
     "output_type": "execute_result"
    }
   ],
   "source": [
    "experiment_times.dtypes"
   ]
  },
  {
   "cell_type": "code",
   "execution_count": 74,
   "metadata": {},
   "outputs": [],
   "source": [
    "# Fix data types\n",
    "experiment_times[\"total_points\"] = experiment_times[\"total_points\"].astype(int)\n",
    "experiment_times[\"dim\"] = experiment_times[\"dim\"].astype(int)"
   ]
  },
  {
   "cell_type": "markdown",
   "metadata": {},
   "source": [
    "## Experiments"
   ]
  },
  {
   "cell_type": "code",
   "execution_count": 75,
   "metadata": {},
   "outputs": [
    {
     "name": "stdout",
     "output_type": "stream",
     "text": [
      "Total experiments: 162\n"
     ]
    }
   ],
   "source": [
    "# Total experiments\n",
    "print(f\"Total experiments: {experiment_times.shape[0]}\")"
   ]
  },
  {
   "cell_type": "code",
   "execution_count": 76,
   "metadata": {},
   "outputs": [
    {
     "data": {
      "text/plain": [
       "10000      108\n",
       "100000      36\n",
       "1000000     18\n",
       "Name: total_points, dtype: int64"
      ]
     },
     "execution_count": 76,
     "metadata": {},
     "output_type": "execute_result"
    }
   ],
   "source": [
    "# total points\n",
    "experiment_times[\"total_points\"].value_counts()"
   ]
  },
  {
   "cell_type": "code",
   "execution_count": 77,
   "metadata": {},
   "outputs": [
    {
     "data": {
      "text/plain": [
       "10    80\n",
       "4     64\n",
       "50    16\n",
       "2      2\n",
       "Name: dim, dtype: int64"
      ]
     },
     "execution_count": 77,
     "metadata": {},
     "output_type": "execute_result"
    }
   ],
   "source": [
    "# dataset dimensions\n",
    "experiment_times[\"dim\"].value_counts()"
   ]
  },
  {
   "cell_type": "code",
   "execution_count": 78,
   "metadata": {},
   "outputs": [
    {
     "data": {
      "text/plain": [
       "correlated        56\n",
       "uniform           42\n",
       "anticorrelated    36\n",
       "normal            28\n",
       "Name: distribution, dtype: int64"
      ]
     },
     "execution_count": 78,
     "metadata": {},
     "output_type": "execute_result"
    }
   ],
   "source": [
    "# distribution\n",
    "experiment_times[\"distribution\"].value_counts()"
   ]
  },
  {
   "cell_type": "code",
   "execution_count": 79,
   "metadata": {},
   "outputs": [
    {
     "data": {
      "text/plain": [
       "1      65\n",
       "10     33\n",
       "50     32\n",
       "100    32\n",
       "Name: k, dtype: int64"
      ]
     },
     "execution_count": 79,
     "metadata": {},
     "output_type": "execute_result"
    }
   ],
   "source": [
    "# k (topk)\n",
    "experiment_times[\"k\"].value_counts()"
   ]
  },
  {
   "cell_type": "code",
   "execution_count": 80,
   "metadata": {},
   "outputs": [
    {
     "data": {
      "text/plain": [
       "1    42\n",
       "2    40\n",
       "4    40\n",
       "8    40\n",
       "Name: cores, dtype: int64"
      ]
     },
     "execution_count": 80,
     "metadata": {},
     "output_type": "execute_result"
    }
   ],
   "source": [
    "# cores\n",
    "experiment_times[\"cores\"].value_counts()"
   ]
  },
  {
   "cell_type": "code",
   "execution_count": 81,
   "metadata": {},
   "outputs": [
    {
     "data": {
      "text/plain": [
       "count    162.000000\n",
       "mean      13.549405\n",
       "std       18.873513\n",
       "min        0.024416\n",
       "25%        0.071566\n",
       "50%        2.707607\n",
       "75%       30.098624\n",
       "max       51.284759\n",
       "Name: skyline_time, dtype: float64"
      ]
     },
     "execution_count": 81,
     "metadata": {},
     "output_type": "execute_result"
    }
   ],
   "source": [
    "experiment_times[\"skyline_time\"].describe()"
   ]
  },
  {
   "cell_type": "code",
   "execution_count": 38,
   "metadata": {},
   "outputs": [
    {
     "data": {
      "image/png": "[encoded data removed]",
      "text/plain": [
       "<Figure size 936x432 with 3 Axes>"
      ]
     },
     "metadata": {
      "needs_background": "light"
     },
     "output_type": "display_data"
    }
   ],
   "source": [
    "axes = (experiment_times[[\"skyline_time\",\"topk_time\", \"skyline_topk_time\"]]\n",
    "        .plot.hist(rot=0,\n",
    "                   subplots=True,\n",
    "                   # bins=100,\n",
    "                   logy = True,\n",
    "                   # logx = True,\n",
    "                   title=\"Experiments' times (skyline_time, topk_time, skyline_topk_time)\",\n",
    "                   figsize=(13,6)))\n",
    "axes;"
   ]
  },
  {
   "cell_type": "code",
   "execution_count": 39,
   "metadata": {},
   "outputs": [
    {
     "data": {
      "image/png": "[encoded data removed]",
      "text/plain": [
       "<Figure size 936x432 with 1 Axes>"
      ]
     },
     "metadata": {
      "needs_background": "light"
     },
     "output_type": "display_data"
    }
   ],
   "source": [
    "# Times\n",
    "(experiment_times[[\"skyline_time\"]]\n",
    " .plot\n",
    " .hist(bins=100,\n",
    "       title = \"skyline times\",\n",
    "       figsize=(13,6)));"
   ]
  },
  {
   "cell_type": "code",
   "execution_count": 29,
   "metadata": {},
   "outputs": [
    {
     "data": {
      "image/png": "[encoded data removed]",
      "text/plain": [
       "<Figure size 936x432 with 1 Axes>"
      ]
     },
     "metadata": {
      "needs_background": "light"
     },
     "output_type": "display_data"
    }
   ],
   "source": [
    "# Times\n",
    "(experiment_times[\"topk_time\"]\n",
    " .plot\n",
    " .hist(bins=100,\n",
    "       color = \"orange\",\n",
    "       title = \"topk times\",\n",
    "       figsize=(13,6)));"
   ]
  },
  {
   "cell_type": "code",
   "execution_count": 30,
   "metadata": {},
   "outputs": [
    {
     "data": {
      "image/png": "[encoded data removed]",
      "text/plain": [
       "<Figure size 936x432 with 1 Axes>"
      ]
     },
     "metadata": {
      "needs_background": "light"
     },
     "output_type": "display_data"
    }
   ],
   "source": [
    "# Times\n",
    "(experiment_times[\"skyline_topk_time\"]\n",
    " .plot\n",
    " .hist(bins=100,\n",
    "       color = \"green\",\n",
    "       title = \"skyline topk times\",\n",
    "       figsize=(13,6)));"
   ]
  },
  {
   "cell_type": "markdown",
   "metadata": {},
   "source": [
    "## Times"
   ]
  },
  {
   "cell_type": "markdown",
   "metadata": {},
   "source": [
    "**Degrees of Freedom in Experimental design**\n",
    "\n",
    "1. Number of cores (cores: {1,2,4,8})\n",
    "2. k - topk elements to return (k: {1,10,50,100})\n",
    "3. Dataset points - number of rows (total_points : {10.000, 100.000, 1.000.000})\n",
    "4. Dataset dimensions - number of columns (dim : {1,4, 10, 50})\n",
    "5. Distribution (distribution: {uniform, normal, correlated, anticorrelated})"
   ]
  },
  {
   "cell_type": "markdown",
   "metadata": {},
   "source": [
    "**Graphs**\n",
    "\n",
    "* Always show:  `time`, `number of cores`, `distributions`\n",
    "* Study effects of: `k`, `dataset points`, `dataset dimensions`"
   ]
  },
  {
   "cell_type": "markdown",
   "metadata": {},
   "source": [
    "**Times**\n",
    "\n",
    "1. skyline_time (Task 1: skyline calculations)\n",
    "2. topk_time (Task 2: topk calculations)\n",
    "3. skyline_topk_time (Task 3: skyline + topk calculations)"
   ]
  },
  {
   "cell_type": "code",
   "execution_count": null,
   "metadata": {},
   "outputs": [],
   "source": [
    "experiment_times.head()"
   ]
  },
  {
   "cell_type": "code",
   "execution_count": null,
   "metadata": {},
   "outputs": [],
   "source": [
    "# Subset experiments\n",
    "# experiment_times.loc[# (experiment_times[\"total_points\"]==10000) &\n",
    "#                  (experiment_times[\"dim\"]==10)\n",
    "#                  # (experiment_times[\"distribution\"] == \"anticorrelated\") &\n",
    "#                  # (experiment_times[\"k\"] == 1)  &\n",
    "#                  # (experiment_times[\"cores\"] == 4)\n",
    "#                 , [\"total_points\", \"k\"]].value_counts()"
   ]
  },
  {
   "cell_type": "markdown",
   "metadata": {},
   "source": [
    "### k Effect"
   ]
  },
  {
   "cell_type": "code",
   "execution_count": 40,
   "metadata": {},
   "outputs": [],
   "source": [
    "# Select time feature to study\n",
    "# skyline_time, topk_time, skyline_topk_time\n",
    "feature_time = \"skyline_time\""
   ]
  },
  {
   "cell_type": "code",
   "execution_count": 43,
   "metadata": {},
   "outputs": [
    {
     "name": "stdout",
     "output_type": "stream",
     "text": [
      "Select 64 experiments\n"
     ]
    },
    {
     "data": {
      "application/vnd.plotly.v1+json": {
       "config": {
        "plotlyServerURL": "https://plot.ly"
       },
       "data": [
        {
         "hovertemplate": "distribution=anticorrelated<br>cores=1<br>k=%{x}<br>skyline_time=%{y}<extra></extra>",
         "legendgroup": "anticorrelated",
         "marker": {
          "color": "#636efa",
          "symbol": "circle"
         },
         "mode": "markers",
         "name": "anticorrelated",
         "orientation": "v",
         "showlegend": true,
         "type": "scatter",
         "x": [
          1,
          10,
          50,
          100
         ],
         "xaxis": "x",
         "y": [
          0.736803391,
          0.225160927,
          0.171890797,
          0.1173382
         ],
         "yaxis": "y"
        },
        {
         "hovertemplate": "distribution=anticorrelated<br>cores=2<br>k=%{x}<br>skyline_time=%{y}<extra></extra>",
         "legendgroup": "anticorrelated",
         "marker": {
          "color": "#636efa",
          "symbol": "circle"
         },
         "mode": "markers",
         "name": "anticorrelated",
         "orientation": "v",
         "showlegend": false,
         "type": "scatter",
         "x": [
          1,
          10,
          50,
          100
         ],
         "xaxis": "x2",
         "y": [
          0.128539179,
          0.14909285,
          0.092347632,
          0.088627935
         ],
         "yaxis": "y2"
        },
        {
         "hovertemplate": "distribution=anticorrelated<br>cores=4<br>k=%{x}<br>skyline_time=%{y}<extra></extra>",
         "legendgroup": "anticorrelated",
         "marker": {
          "color": "#636efa",
          "symbol": "circle"
         },
         "mode": "markers",
         "name": "anticorrelated",
         "orientation": "v",
         "showlegend": false,
         "type": "scatter",
         "x": [
          1,
          10,
          50,
          100
         ],
         "xaxis": "x3",
         "y": [
          0.071834683,
          0.075564459,
          0.096877406,
          0.070528045
         ],
         "yaxis": "y3"
        },
        {
         "hovertemplate": "distribution=anticorrelated<br>cores=8<br>k=%{x}<br>skyline_time=%{y}<extra></extra>",
         "legendgroup": "anticorrelated",
         "marker": {
          "color": "#636efa",
          "symbol": "circle"
         },
         "mode": "markers",
         "name": "anticorrelated",
         "orientation": "v",
         "showlegend": false,
         "type": "scatter",
         "x": [
          1,
          10,
          50,
          100
         ],
         "xaxis": "x4",
         "y": [
          0.071476435,
          0.068706209,
          0.076262591,
          0.067136122
         ],
         "yaxis": "y4"
        },
        {
         "hovertemplate": "distribution=normal<br>cores=1<br>k=%{x}<br>skyline_time=%{y}<extra></extra>",
         "legendgroup": "normal",
         "marker": {
          "color": "#EF553B",
          "symbol": "circle"
         },
         "mode": "markers",
         "name": "normal",
         "orientation": "v",
         "showlegend": true,
         "type": "scatter",
         "x": [
          1,
          10,
          50,
          100
         ],
         "xaxis": "x",
         "y": [
          0.063291822,
          0.051581796,
          0.043893121,
          0.044980877
         ],
         "yaxis": "y"
        },
        {
         "hovertemplate": "distribution=normal<br>cores=2<br>k=%{x}<br>skyline_time=%{y}<extra></extra>",
         "legendgroup": "normal",
         "marker": {
          "color": "#EF553B",
          "symbol": "circle"
         },
         "mode": "markers",
         "name": "normal",
         "orientation": "v",
         "showlegend": false,
         "type": "scatter",
         "x": [
          1,
          10,
          50,
          100
         ],
         "xaxis": "x2",
         "y": [
          0.034268878,
          0.030389777,
          0.028227919,
          0.029323907
         ],
         "yaxis": "y2"
        },
        {
         "hovertemplate": "distribution=normal<br>cores=4<br>k=%{x}<br>skyline_time=%{y}<extra></extra>",
         "legendgroup": "normal",
         "marker": {
          "color": "#EF553B",
          "symbol": "circle"
         },
         "mode": "markers",
         "name": "normal",
         "orientation": "v",
         "showlegend": false,
         "type": "scatter",
         "x": [
          1,
          10,
          50,
          100
         ],
         "xaxis": "x3",
         "y": [
          0.026930702,
          0.037908534,
          0.036996274,
          0.036467979
         ],
         "yaxis": "y3"
        },
        {
         "hovertemplate": "distribution=normal<br>cores=8<br>k=%{x}<br>skyline_time=%{y}<extra></extra>",
         "legendgroup": "normal",
         "marker": {
          "color": "#EF553B",
          "symbol": "circle"
         },
         "mode": "markers",
         "name": "normal",
         "orientation": "v",
         "showlegend": false,
         "type": "scatter",
         "x": [
          1,
          10,
          50,
          100
         ],
         "xaxis": "x4",
         "y": [
          0.028393058,
          0.036959707,
          0.028888692,
          0.034588918
         ],
         "yaxis": "y4"
        },
        {
         "hovertemplate": "distribution=uniform<br>cores=1<br>k=%{x}<br>skyline_time=%{y}<extra></extra>",
         "legendgroup": "uniform",
         "marker": {
          "color": "#00cc96",
          "symbol": "circle"
         },
         "mode": "markers",
         "name": "uniform",
         "orientation": "v",
         "showlegend": true,
         "type": "scatter",
         "x": [
          1,
          10,
          50,
          100
         ],
         "xaxis": "x",
         "y": [
          0.040294978,
          0.037817855,
          0.039854685,
          0.045766105
         ],
         "yaxis": "y"
        },
        {
         "hovertemplate": "distribution=uniform<br>cores=2<br>k=%{x}<br>skyline_time=%{y}<extra></extra>",
         "legendgroup": "uniform",
         "marker": {
          "color": "#00cc96",
          "symbol": "circle"
         },
         "mode": "markers",
         "name": "uniform",
         "orientation": "v",
         "showlegend": false,
         "type": "scatter",
         "x": [
          1,
          10,
          50,
          100
         ],
         "xaxis": "x2",
         "y": [
          0.026880721,
          0.025084053,
          0.025703287,
          0.03048712
         ],
         "yaxis": "y2"
        },
        {
         "hovertemplate": "distribution=uniform<br>cores=4<br>k=%{x}<br>skyline_time=%{y}<extra></extra>",
         "legendgroup": "uniform",
         "marker": {
          "color": "#00cc96",
          "symbol": "circle"
         },
         "mode": "markers",
         "name": "uniform",
         "orientation": "v",
         "showlegend": false,
         "type": "scatter",
         "x": [
          1,
          10,
          50,
          100
         ],
         "xaxis": "x3",
         "y": [
          0.026097832,
          0.030419219,
          0.025804354,
          0.025871837
         ],
         "yaxis": "y3"
        },
        {
         "hovertemplate": "distribution=uniform<br>cores=8<br>k=%{x}<br>skyline_time=%{y}<extra></extra>",
         "legendgroup": "uniform",
         "marker": {
          "color": "#00cc96",
          "symbol": "circle"
         },
         "mode": "markers",
         "name": "uniform",
         "orientation": "v",
         "showlegend": false,
         "type": "scatter",
         "x": [
          1,
          10,
          50,
          100
         ],
         "xaxis": "x4",
         "y": [
          0.024575242,
          0.025932347,
          0.024415909,
          0.035438727
         ],
         "yaxis": "y4"
        },
        {
         "hovertemplate": "distribution=correlated<br>cores=1<br>k=%{x}<br>skyline_time=%{y}<extra></extra>",
         "legendgroup": "correlated",
         "marker": {
          "color": "#ab63fa",
          "symbol": "circle"
         },
         "mode": "markers",
         "name": "correlated",
         "orientation": "v",
         "showlegend": true,
         "type": "scatter",
         "x": [
          1,
          10,
          50,
          100
         ],
         "xaxis": "x",
         "y": [
          0.459318106,
          0.109244512,
          0.098396,
          0.077242699
         ],
         "yaxis": "y"
        },
        {
         "hovertemplate": "distribution=correlated<br>cores=2<br>k=%{x}<br>skyline_time=%{y}<extra></extra>",
         "legendgroup": "correlated",
         "marker": {
          "color": "#ab63fa",
          "symbol": "circle"
         },
         "mode": "markers",
         "name": "correlated",
         "orientation": "v",
         "showlegend": false,
         "type": "scatter",
         "x": [
          1,
          10,
          50,
          100
         ],
         "xaxis": "x2",
         "y": [
          0.08592787,
          0.084400675,
          0.080742021,
          0.088495303
         ],
         "yaxis": "y2"
        },
        {
         "hovertemplate": "distribution=correlated<br>cores=4<br>k=%{x}<br>skyline_time=%{y}<extra></extra>",
         "legendgroup": "correlated",
         "marker": {
          "color": "#ab63fa",
          "symbol": "circle"
         },
         "mode": "markers",
         "name": "correlated",
         "orientation": "v",
         "showlegend": false,
         "type": "scatter",
         "x": [
          1,
          10,
          50,
          100
         ],
         "xaxis": "x3",
         "y": [
          0.075216307,
          0.075075864,
          0.0565455,
          0.072509899
         ],
         "yaxis": "y3"
        },
        {
         "hovertemplate": "distribution=correlated<br>cores=8<br>k=%{x}<br>skyline_time=%{y}<extra></extra>",
         "legendgroup": "correlated",
         "marker": {
          "color": "#ab63fa",
          "symbol": "circle"
         },
         "mode": "markers",
         "name": "correlated",
         "orientation": "v",
         "showlegend": false,
         "type": "scatter",
         "x": [
          1,
          10,
          50,
          100
         ],
         "xaxis": "x4",
         "y": [
          0.05222202,
          0.055228315,
          0.040179786,
          0.038783157
         ],
         "yaxis": "y4"
        }
       ],
       "layout": {
        "annotations": [
         {
          "font": {},
          "showarrow": false,
          "text": "cores=1",
          "x": 0.1175,
          "xanchor": "center",
          "xref": "paper",
          "y": 1,
          "yanchor": "bottom",
          "yref": "paper"
         },
         {
          "font": {},
          "showarrow": false,
          "text": "cores=2",
          "x": 0.3725,
          "xanchor": "center",
          "xref": "paper",
          "y": 1,
          "yanchor": "bottom",
          "yref": "paper"
         },
         {
          "font": {},
          "showarrow": false,
          "text": "cores=4",
          "x": 0.6275,
          "xanchor": "center",
          "xref": "paper",
          "y": 1,
          "yanchor": "bottom",
          "yref": "paper"
         },
         {
          "font": {},
          "showarrow": false,
          "text": "cores=8",
          "x": 0.8824999999999998,
          "xanchor": "center",
          "xref": "paper",
          "y": 1,
          "yanchor": "bottom",
          "yref": "paper"
         }
        ],
        "legend": {
         "title": {
          "text": "distribution"
         },
         "tracegroupgap": 0
        },
        "margin": {
         "t": 60
        },
        "template": {
         "data": {
          "bar": [
           {
            "error_x": {
             "color": "#2a3f5f"
            },
            "error_y": {
             "color": "#2a3f5f"
            },
            "marker": {
             "line": {
              "color": "#E5ECF6",
              "width": 0.5
             }
            },
            "type": "bar"
           }
          ],
          "barpolar": [
           {
            "marker": {
             "line": {
              "color": "#E5ECF6",
              "width": 0.5
             }
            },
            "type": "barpolar"
           }
          ],
          "carpet": [
           {
            "aaxis": {
             "endlinecolor": "#2a3f5f",
             "gridcolor": "white",
             "linecolor": "white",
             "minorgridcolor": "white",
             "startlinecolor": "#2a3f5f"
            },
            "baxis": {
             "endlinecolor": "#2a3f5f",
             "gridcolor": "white",
             "linecolor": "white",
             "minorgridcolor": "white",
             "startlinecolor": "#2a3f5f"
            },
            "type": "carpet"
           }
          ],
          "choropleth": [
           {
            "colorbar": {
             "outlinewidth": 0,
             "ticks": ""
            },
            "type": "choropleth"
           }
          ],
          "contour": [
           {
            "colorbar": {
             "outlinewidth": 0,
             "ticks": ""
            },
            "colorscale": [
             [
              0,
              "#0d0887"
             ],
             [
              0.1111111111111111,
              "#46039f"
             ],
             [
              0.2222222222222222,
              "#7201a8"
             ],
             [
              0.3333333333333333,
              "#9c179e"
             ],
             [
              0.4444444444444444,
              "#bd3786"
             ],
             [
              0.5555555555555556,
              "#d8576b"
             ],
             [
              0.6666666666666666,
              "#ed7953"
             ],
             [
              0.7777777777777778,
              "#fb9f3a"
             ],
             [
              0.8888888888888888,
              "#fdca26"
             ],
             [
              1,
              "#f0f921"
             ]
            ],
            "type": "contour"
           }
          ],
          "contourcarpet": [
           {
            "colorbar": {
             "outlinewidth": 0,
             "ticks": ""
            },
            "type": "contourcarpet"
           }
          ],
          "heatmap": [
           {
            "colorbar": {
             "outlinewidth": 0,
             "ticks": ""
            },
            "colorscale": [
             [
              0,
              "#0d0887"
             ],
             [
              0.1111111111111111,
              "#46039f"
             ],
             [
              0.2222222222222222,
              "#7201a8"
             ],
             [
              0.3333333333333333,
              "#9c179e"
             ],
             [
              0.4444444444444444,
              "#bd3786"
             ],
             [
              0.5555555555555556,
              "#d8576b"
             ],
             [
              0.6666666666666666,
              "#ed7953"
             ],
             [
              0.7777777777777778,
              "#fb9f3a"
             ],
             [
              0.8888888888888888,
              "#fdca26"
             ],
             [
              1,
              "#f0f921"
             ]
            ],
            "type": "heatmap"
           }
          ],
          "heatmapgl": [
           {
            "colorbar": {
             "outlinewidth": 0,
             "ticks": ""
            },
            "colorscale": [
             [
              0,
              "#0d0887"
             ],
             [
              0.1111111111111111,
              "#46039f"
             ],
             [
              0.2222222222222222,
              "#7201a8"
             ],
             [
              0.3333333333333333,
              "#9c179e"
             ],
             [
              0.4444444444444444,
              "#bd3786"
             ],
             [
              0.5555555555555556,
              "#d8576b"
             ],
             [
              0.6666666666666666,
              "#ed7953"
             ],
             [
              0.7777777777777778,
              "#fb9f3a"
             ],
             [
              0.8888888888888888,
              "#fdca26"
             ],
             [
              1,
              "#f0f921"
             ]
            ],
            "type": "heatmapgl"
           }
          ],
          "histogram": [
           {
            "marker": {
             "colorbar": {
              "outlinewidth": 0,
              "ticks": ""
             }
            },
            "type": "histogram"
           }
          ],
          "histogram2d": [
           {
            "colorbar": {
             "outlinewidth": 0,
             "ticks": ""
            },
            "colorscale": [
             [
              0,
              "#0d0887"
             ],
             [
              0.1111111111111111,
              "#46039f"
             ],
             [
              0.2222222222222222,
              "#7201a8"
             ],
             [
              0.3333333333333333,
              "#9c179e"
             ],
             [
              0.4444444444444444,
              "#bd3786"
             ],
             [
              0.5555555555555556,
              "#d8576b"
             ],
             [
              0.6666666666666666,
              "#ed7953"
             ],
             [
              0.7777777777777778,
              "#fb9f3a"
             ],
             [
              0.8888888888888888,
              "#fdca26"
             ],
             [
              1,
              "#f0f921"
             ]
            ],
            "type": "histogram2d"
           }
          ],
          "histogram2dcontour": [
           {
            "colorbar": {
             "outlinewidth": 0,
             "ticks": ""
            },
            "colorscale": [
             [
              0,
              "#0d0887"
             ],
             [
              0.1111111111111111,
              "#46039f"
             ],
             [
              0.2222222222222222,
              "#7201a8"
             ],
             [
              0.3333333333333333,
              "#9c179e"
             ],
             [
              0.4444444444444444,
              "#bd3786"
             ],
             [
              0.5555555555555556,
              "#d8576b"
             ],
             [
              0.6666666666666666,
              "#ed7953"
             ],
             [
              0.7777777777777778,
              "#fb9f3a"
             ],
             [
              0.8888888888888888,
              "#fdca26"
             ],
             [
              1,
              "#f0f921"
             ]
            ],
            "type": "histogram2dcontour"
           }
          ],
          "mesh3d": [
           {
            "colorbar": {
             "outlinewidth": 0,
             "ticks": ""
            },
            "type": "mesh3d"
           }
          ],
          "parcoords": [
           {
            "line": {
             "colorbar": {
              "outlinewidth": 0,
              "ticks": ""
             }
            },
            "type": "parcoords"
           }
          ],
          "pie": [
           {
            "automargin": true,
            "type": "pie"
           }
          ],
          "scatter": [
           {
            "marker": {
             "colorbar": {
              "outlinewidth": 0,
              "ticks": ""
             }
            },
            "type": "scatter"
           }
          ],
          "scatter3d": [
           {
            "line": {
             "colorbar": {
              "outlinewidth": 0,
              "ticks": ""
             }
            },
            "marker": {
             "colorbar": {
              "outlinewidth": 0,
              "ticks": ""
             }
            },
            "type": "scatter3d"
           }
          ],
          "scattercarpet": [
           {
            "marker": {
             "colorbar": {
              "outlinewidth": 0,
              "ticks": ""
             }
            },
            "type": "scattercarpet"
           }
          ],
          "scattergeo": [
           {
            "marker": {
             "colorbar": {
              "outlinewidth": 0,
              "ticks": ""
             }
            },
            "type": "scattergeo"
           }
          ],
          "scattergl": [
           {
            "marker": {
             "colorbar": {
              "outlinewidth": 0,
              "ticks": ""
             }
            },
            "type": "scattergl"
           }
          ],
          "scattermapbox": [
           {
            "marker": {
             "colorbar": {
              "outlinewidth": 0,
              "ticks": ""
             }
            },
            "type": "scattermapbox"
           }
          ],
          "scatterpolar": [
           {
            "marker": {
             "colorbar": {
              "outlinewidth": 0,
              "ticks": ""
             }
            },
            "type": "scatterpolar"
           }
          ],
          "scatterpolargl": [
           {
            "marker": {
             "colorbar": {
              "outlinewidth": 0,
              "ticks": ""
             }
            },
            "type": "scatterpolargl"
           }
          ],
          "scatterternary": [
           {
            "marker": {
             "colorbar": {
              "outlinewidth": 0,
              "ticks": ""
             }
            },
            "type": "scatterternary"
           }
          ],
          "surface": [
           {
            "colorbar": {
             "outlinewidth": 0,
             "ticks": ""
            },
            "colorscale": [
             [
              0,
              "#0d0887"
             ],
             [
              0.1111111111111111,
              "#46039f"
             ],
             [
              0.2222222222222222,
              "#7201a8"
             ],
             [
              0.3333333333333333,
              "#9c179e"
             ],
             [
              0.4444444444444444,
              "#bd3786"
             ],
             [
              0.5555555555555556,
              "#d8576b"
             ],
             [
              0.6666666666666666,
              "#ed7953"
             ],
             [
              0.7777777777777778,
              "#fb9f3a"
             ],
             [
              0.8888888888888888,
              "#fdca26"
             ],
             [
              1,
              "#f0f921"
             ]
            ],
            "type": "surface"
           }
          ],
          "table": [
           {
            "cells": {
             "fill": {
              "color": "#EBF0F8"
             },
             "line": {
              "color": "white"
             }
            },
            "header": {
             "fill": {
              "color": "#C8D4E3"
             },
             "line": {
              "color": "white"
             }
            },
            "type": "table"
           }
          ]
         },
         "layout": {
          "annotationdefaults": {
           "arrowcolor": "#2a3f5f",
           "arrowhead": 0,
           "arrowwidth": 1
          },
          "coloraxis": {
           "colorbar": {
            "outlinewidth": 0,
            "ticks": ""
           }
          },
          "colorscale": {
           "diverging": [
            [
             0,
             "#8e0152"
            ],
            [
             0.1,
             "#c51b7d"
            ],
            [
             0.2,
             "#de77ae"
            ],
            [
             0.3,
             "#f1b6da"
            ],
            [
             0.4,
             "#fde0ef"
            ],
            [
             0.5,
             "#f7f7f7"
            ],
            [
             0.6,
             "#e6f5d0"
            ],
            [
             0.7,
             "#b8e186"
            ],
            [
             0.8,
             "#7fbc41"
            ],
            [
             0.9,
             "#4d9221"
            ],
            [
             1,
             "#276419"
            ]
           ],
           "sequential": [
            [
             0,
             "#0d0887"
            ],
            [
             0.1111111111111111,
             "#46039f"
            ],
            [
             0.2222222222222222,
             "#7201a8"
            ],
            [
             0.3333333333333333,
             "#9c179e"
            ],
            [
             0.4444444444444444,
             "#bd3786"
            ],
            [
             0.5555555555555556,
             "#d8576b"
            ],
            [
             0.6666666666666666,
             "#ed7953"
            ],
            [
             0.7777777777777778,
             "#fb9f3a"
            ],
            [
             0.8888888888888888,
             "#fdca26"
            ],
            [
             1,
             "#f0f921"
            ]
           ],
           "sequentialminus": [
            [
             0,
             "#0d0887"
            ],
            [
             0.1111111111111111,
             "#46039f"
            ],
            [
             0.2222222222222222,
             "#7201a8"
            ],
            [
             0.3333333333333333,
             "#9c179e"
            ],
            [
             0.4444444444444444,
             "#bd3786"
            ],
            [
             0.5555555555555556,
             "#d8576b"
            ],
            [
             0.6666666666666666,
             "#ed7953"
            ],
            [
             0.7777777777777778,
             "#fb9f3a"
            ],
            [
             0.8888888888888888,
             "#fdca26"
            ],
            [
             1,
             "#f0f921"
            ]
           ]
          },
          "colorway": [
           "#636efa",
           "#EF553B",
           "#00cc96",
           "#ab63fa",
           "#FFA15A",
           "#19d3f3",
           "#FF6692",
           "#B6E880",
           "#FF97FF",
           "#FECB52"
          ],
          "font": {
           "color": "#2a3f5f"
          },
          "geo": {
           "bgcolor": "white",
           "lakecolor": "white",
           "landcolor": "#E5ECF6",
           "showlakes": true,
           "showland": true,
           "subunitcolor": "white"
          },
          "hoverlabel": {
           "align": "left"
          },
          "hovermode": "closest",
          "mapbox": {
           "style": "light"
          },
          "paper_bgcolor": "white",
          "plot_bgcolor": "#E5ECF6",
          "polar": {
           "angularaxis": {
            "gridcolor": "white",
            "linecolor": "white",
            "ticks": ""
           },
           "bgcolor": "#E5ECF6",
           "radialaxis": {
            "gridcolor": "white",
            "linecolor": "white",
            "ticks": ""
           }
          },
          "scene": {
           "xaxis": {
            "backgroundcolor": "#E5ECF6",
            "gridcolor": "white",
            "gridwidth": 2,
            "linecolor": "white",
            "showbackground": true,
            "ticks": "",
            "zerolinecolor": "white"
           },
           "yaxis": {
            "backgroundcolor": "#E5ECF6",
            "gridcolor": "white",
            "gridwidth": 2,
            "linecolor": "white",
            "showbackground": true,
            "ticks": "",
            "zerolinecolor": "white"
           },
           "zaxis": {
            "backgroundcolor": "#E5ECF6",
            "gridcolor": "white",
            "gridwidth": 2,
            "linecolor": "white",
            "showbackground": true,
            "ticks": "",
            "zerolinecolor": "white"
           }
          },
          "shapedefaults": {
           "line": {
            "color": "#2a3f5f"
           }
          },
          "ternary": {
           "aaxis": {
            "gridcolor": "white",
            "linecolor": "white",
            "ticks": ""
           },
           "baxis": {
            "gridcolor": "white",
            "linecolor": "white",
            "ticks": ""
           },
           "bgcolor": "#E5ECF6",
           "caxis": {
            "gridcolor": "white",
            "linecolor": "white",
            "ticks": ""
           }
          },
          "title": {
           "x": 0.05
          },
          "xaxis": {
           "automargin": true,
           "gridcolor": "white",
           "linecolor": "white",
           "ticks": "",
           "title": {
            "standoff": 15
           },
           "zerolinecolor": "white",
           "zerolinewidth": 2
          },
          "yaxis": {
           "automargin": true,
           "gridcolor": "white",
           "linecolor": "white",
           "ticks": "",
           "title": {
            "standoff": 15
           },
           "zerolinecolor": "white",
           "zerolinewidth": 2
          }
         }
        },
        "title": {
         "text": "Effect of k in skyline_time | total_points=10000 and dim=4"
        },
        "xaxis": {
         "anchor": "y",
         "domain": [
          0,
          0.235
         ],
         "title": {
          "text": "k"
         }
        },
        "xaxis2": {
         "anchor": "y2",
         "domain": [
          0.255,
          0.49
         ],
         "matches": "x",
         "title": {
          "text": "k"
         }
        },
        "xaxis3": {
         "anchor": "y3",
         "domain": [
          0.51,
          0.745
         ],
         "matches": "x",
         "title": {
          "text": "k"
         }
        },
        "xaxis4": {
         "anchor": "y4",
         "domain": [
          0.7649999999999999,
          0.9999999999999999
         ],
         "matches": "x",
         "title": {
          "text": "k"
         }
        },
        "yaxis": {
         "anchor": "x",
         "domain": [
          0,
          1
         ],
         "title": {
          "text": "skyline_time"
         }
        },
        "yaxis2": {
         "anchor": "x2",
         "domain": [
          0,
          1
         ],
         "matches": "y",
         "showticklabels": false
        },
        "yaxis3": {
         "anchor": "x3",
         "domain": [
          0,
          1
         ],
         "matches": "y",
         "showticklabels": false
        },
        "yaxis4": {
         "anchor": "x4",
         "domain": [
          0,
          1
         ],
         "matches": "y",
         "showticklabels": false
        }
       }
      },
      "text/html": [
       "<div>                            <div id=\"3b87d734-8371-44f8-9e1e-82a59de9fe65\" class=\"plotly-graph-div\" style=\"height:525px; width:100%;\"></div>            <script type=\"text/javascript\">                require([\"plotly\"], function(Plotly) {                    window.PLOTLYENV=window.PLOTLYENV || {};                                    if (document.getElementById(\"3b87d734-8371-44f8-9e1e-82a59de9fe65\")) {                    Plotly.newPlot(                        \"3b87d734-8371-44f8-9e1e-82a59de9fe65\",                        [{\"hovertemplate\": \"distribution=anticorrelated<br>cores=1<br>k=%{x}<br>skyline_time=%{y}<extra></extra>\", \"legendgroup\": \"anticorrelated\", \"marker\": {\"color\": \"#636efa\", \"symbol\": \"circle\"}, \"mode\": \"markers\", \"name\": \"anticorrelated\", \"orientation\": \"v\", \"showlegend\": true, \"type\": \"scatter\", \"x\": [1, 10, 50, 100], \"xaxis\": \"x\", \"y\": [0.736803391, 0.225160927, 0.171890797, 0.1173382], \"yaxis\": \"y\"}, {\"hovertemplate\": \"distribution=anticorrelated<br>cores=2<br>k=%{x}<br>skyline_time=%{y}<extra></extra>\", \"legendgroup\": \"anticorrelated\", \"marker\": {\"color\": \"#636efa\", \"symbol\": \"circle\"}, \"mode\": \"markers\", \"name\": \"anticorrelated\", \"orientation\": \"v\", \"showlegend\": false, \"type\": \"scatter\", \"x\": [1, 10, 50, 100], \"xaxis\": \"x2\", \"y\": [0.128539179, 0.14909285, 0.092347632, 0.088627935], \"yaxis\": \"y2\"}, {\"hovertemplate\": \"distribution=anticorrelated<br>cores=4<br>k=%{x}<br>skyline_time=%{y}<extra></extra>\", \"legendgroup\": \"anticorrelated\", \"marker\": {\"color\": \"#636efa\", \"symbol\": \"circle\"}, \"mode\": \"markers\", \"name\": \"anticorrelated\", \"orientation\": \"v\", \"showlegend\": false, \"type\": \"scatter\", \"x\": [1, 10, 50, 100], \"xaxis\": \"x3\", \"y\": [0.071834683, 0.075564459, 0.096877406, 0.070528045], \"yaxis\": \"y3\"}, {\"hovertemplate\": \"distribution=anticorrelated<br>cores=8<br>k=%{x}<br>skyline_time=%{y}<extra></extra>\", \"legendgroup\": \"anticorrelated\", \"marker\": {\"color\": \"#636efa\", \"symbol\": \"circle\"}, \"mode\": \"markers\", \"name\": \"anticorrelated\", \"orientation\": \"v\", \"showlegend\": false, \"type\": \"scatter\", \"x\": [1, 10, 50, 100], \"xaxis\": \"x4\", \"y\": [0.071476435, 0.068706209, 0.076262591, 0.067136122], \"yaxis\": \"y4\"}, {\"hovertemplate\": \"distribution=normal<br>cores=1<br>k=%{x}<br>skyline_time=%{y}<extra></extra>\", \"legendgroup\": \"normal\", \"marker\": {\"color\": \"#EF553B\", \"symbol\": \"circle\"}, \"mode\": \"markers\", \"name\": \"normal\", \"orientation\": \"v\", \"showlegend\": true, \"type\": \"scatter\", \"x\": [1, 10, 50, 100], \"xaxis\": \"x\", \"y\": [0.063291822, 0.051581796, 0.043893121, 0.044980877], \"yaxis\": \"y\"}, {\"hovertemplate\": \"distribution=normal<br>cores=2<br>k=%{x}<br>skyline_time=%{y}<extra></extra>\", \"legendgroup\": \"normal\", \"marker\": {\"color\": \"#EF553B\", \"symbol\": \"circle\"}, \"mode\": \"markers\", \"name\": \"normal\", \"orientation\": \"v\", \"showlegend\": false, \"type\": \"scatter\", \"x\": [1, 10, 50, 100], \"xaxis\": \"x2\", \"y\": [0.034268878, 0.030389777, 0.028227919, 0.029323907], \"yaxis\": \"y2\"}, {\"hovertemplate\": \"distribution=normal<br>cores=4<br>k=%{x}<br>skyline_time=%{y}<extra></extra>\", \"legendgroup\": \"normal\", \"marker\": {\"color\": \"#EF553B\", \"symbol\": \"circle\"}, \"mode\": \"markers\", \"name\": \"normal\", \"orientation\": \"v\", \"showlegend\": false, \"type\": \"scatter\", \"x\": [1, 10, 50, 100], \"xaxis\": \"x3\", \"y\": [0.026930702, 0.037908534, 0.036996274, 0.036467979], \"yaxis\": \"y3\"}, {\"hovertemplate\": \"distribution=normal<br>cores=8<br>k=%{x}<br>skyline_time=%{y}<extra></extra>\", \"legendgroup\": \"normal\", \"marker\": {\"color\": \"#EF553B\", \"symbol\": \"circle\"}, \"mode\": \"markers\", \"name\": \"normal\", \"orientation\": \"v\", \"showlegend\": false, \"type\": \"scatter\", \"x\": [1, 10, 50, 100], \"xaxis\": \"x4\", \"y\": [0.028393058, 0.036959707, 0.028888692, 0.034588918], \"yaxis\": \"y4\"}, {\"hovertemplate\": \"distribution=uniform<br>cores=1<br>k=%{x}<br>skyline_time=%{y}<extra></extra>\", \"legendgroup\": \"uniform\", \"marker\": {\"color\": \"#00cc96\", \"symbol\": \"circle\"}, \"mode\": \"markers\", \"name\": \"uniform\", \"orientation\": \"v\", \"showlegend\": true, \"type\": \"scatter\", \"x\": [1, 10, 50, 100], \"xaxis\": \"x\", \"y\": [0.040294978, 0.037817855, 0.039854685, 0.045766105], \"yaxis\": \"y\"}, {\"hovertemplate\": \"distribution=uniform<br>cores=2<br>k=%{x}<br>skyline_time=%{y}<extra></extra>\", \"legendgroup\": \"uniform\", \"marker\": {\"color\": \"#00cc96\", \"symbol\": \"circle\"}, \"mode\": \"markers\", \"name\": \"uniform\", \"orientation\": \"v\", \"showlegend\": false, \"type\": \"scatter\", \"x\": [1, 10, 50, 100], \"xaxis\": \"x2\", \"y\": [0.026880721, 0.025084053, 0.025703287, 0.03048712], \"yaxis\": \"y2\"}, {\"hovertemplate\": \"distribution=uniform<br>cores=4<br>k=%{x}<br>skyline_time=%{y}<extra></extra>\", \"legendgroup\": \"uniform\", \"marker\": {\"color\": \"#00cc96\", \"symbol\": \"circle\"}, \"mode\": \"markers\", \"name\": \"uniform\", \"orientation\": \"v\", \"showlegend\": false, \"type\": \"scatter\", \"x\": [1, 10, 50, 100], \"xaxis\": \"x3\", \"y\": [0.026097832, 0.030419219, 0.025804354, 0.025871837], \"yaxis\": \"y3\"}, {\"hovertemplate\": \"distribution=uniform<br>cores=8<br>k=%{x}<br>skyline_time=%{y}<extra></extra>\", \"legendgroup\": \"uniform\", \"marker\": {\"color\": \"#00cc96\", \"symbol\": \"circle\"}, \"mode\": \"markers\", \"name\": \"uniform\", \"orientation\": \"v\", \"showlegend\": false, \"type\": \"scatter\", \"x\": [1, 10, 50, 100], \"xaxis\": \"x4\", \"y\": [0.024575242, 0.025932347, 0.024415909, 0.035438727], \"yaxis\": \"y4\"}, {\"hovertemplate\": \"distribution=correlated<br>cores=1<br>k=%{x}<br>skyline_time=%{y}<extra></extra>\", \"legendgroup\": \"correlated\", \"marker\": {\"color\": \"#ab63fa\", \"symbol\": \"circle\"}, \"mode\": \"markers\", \"name\": \"correlated\", \"orientation\": \"v\", \"showlegend\": true, \"type\": \"scatter\", \"x\": [1, 10, 50, 100], \"xaxis\": \"x\", \"y\": [0.459318106, 0.109244512, 0.098396, 0.077242699], \"yaxis\": \"y\"}, {\"hovertemplate\": \"distribution=correlated<br>cores=2<br>k=%{x}<br>skyline_time=%{y}<extra></extra>\", \"legendgroup\": \"correlated\", \"marker\": {\"color\": \"#ab63fa\", \"symbol\": \"circle\"}, \"mode\": \"markers\", \"name\": \"correlated\", \"orientation\": \"v\", \"showlegend\": false, \"type\": \"scatter\", \"x\": [1, 10, 50, 100], \"xaxis\": \"x2\", \"y\": [0.08592787, 0.084400675, 0.080742021, 0.088495303], \"yaxis\": \"y2\"}, {\"hovertemplate\": \"distribution=correlated<br>cores=4<br>k=%{x}<br>skyline_time=%{y}<extra></extra>\", \"legendgroup\": \"correlated\", \"marker\": {\"color\": \"#ab63fa\", \"symbol\": \"circle\"}, \"mode\": \"markers\", \"name\": \"correlated\", \"orientation\": \"v\", \"showlegend\": false, \"type\": \"scatter\", \"x\": [1, 10, 50, 100], \"xaxis\": \"x3\", \"y\": [0.075216307, 0.075075864, 0.0565455, 0.072509899], \"yaxis\": \"y3\"}, {\"hovertemplate\": \"distribution=correlated<br>cores=8<br>k=%{x}<br>skyline_time=%{y}<extra></extra>\", \"legendgroup\": \"correlated\", \"marker\": {\"color\": \"#ab63fa\", \"symbol\": \"circle\"}, \"mode\": \"markers\", \"name\": \"correlated\", \"orientation\": \"v\", \"showlegend\": false, \"type\": \"scatter\", \"x\": [1, 10, 50, 100], \"xaxis\": \"x4\", \"y\": [0.05222202, 0.055228315, 0.040179786, 0.038783157], \"yaxis\": \"y4\"}],                        {\"annotations\": [{\"font\": {}, \"showarrow\": false, \"text\": \"cores=1\", \"x\": 0.1175, \"xanchor\": \"center\", \"xref\": \"paper\", \"y\": 1.0, \"yanchor\": \"bottom\", \"yref\": \"paper\"}, {\"font\": {}, \"showarrow\": false, \"text\": \"cores=2\", \"x\": 0.3725, \"xanchor\": \"center\", \"xref\": \"paper\", \"y\": 1.0, \"yanchor\": \"bottom\", \"yref\": \"paper\"}, {\"font\": {}, \"showarrow\": false, \"text\": \"cores=4\", \"x\": 0.6275, \"xanchor\": \"center\", \"xref\": \"paper\", \"y\": 1.0, \"yanchor\": \"bottom\", \"yref\": \"paper\"}, {\"font\": {}, \"showarrow\": false, \"text\": \"cores=8\", \"x\": 0.8824999999999998, \"xanchor\": \"center\", \"xref\": \"paper\", \"y\": 1.0, \"yanchor\": \"bottom\", \"yref\": \"paper\"}], \"legend\": {\"title\": {\"text\": \"distribution\"}, \"tracegroupgap\": 0}, \"margin\": {\"t\": 60}, \"template\": {\"data\": {\"bar\": [{\"error_x\": {\"color\": \"#2a3f5f\"}, \"error_y\": {\"color\": \"#2a3f5f\"}, \"marker\": {\"line\": {\"color\": \"#E5ECF6\", \"width\": 0.5}}, \"type\": \"bar\"}], \"barpolar\": [{\"marker\": {\"line\": {\"color\": \"#E5ECF6\", \"width\": 0.5}}, \"type\": \"barpolar\"}], \"carpet\": [{\"aaxis\": {\"endlinecolor\": \"#2a3f5f\", \"gridcolor\": \"white\", \"linecolor\": \"white\", \"minorgridcolor\": \"white\", \"startlinecolor\": \"#2a3f5f\"}, \"baxis\": {\"endlinecolor\": \"#2a3f5f\", \"gridcolor\": \"white\", \"linecolor\": \"white\", \"minorgridcolor\": \"white\", \"startlinecolor\": \"#2a3f5f\"}, \"type\": \"carpet\"}], \"choropleth\": [{\"colorbar\": {\"outlinewidth\": 0, \"ticks\": \"\"}, \"type\": \"choropleth\"}], \"contour\": [{\"colorbar\": {\"outlinewidth\": 0, \"ticks\": \"\"}, \"colorscale\": [[0.0, \"#0d0887\"], [0.1111111111111111, \"#46039f\"], [0.2222222222222222, \"#7201a8\"], [0.3333333333333333, \"#9c179e\"], [0.4444444444444444, \"#bd3786\"], [0.5555555555555556, \"#d8576b\"], [0.6666666666666666, \"#ed7953\"], [0.7777777777777778, \"#fb9f3a\"], [0.8888888888888888, \"#fdca26\"], [1.0, \"#f0f921\"]], \"type\": \"contour\"}], \"contourcarpet\": [{\"colorbar\": {\"outlinewidth\": 0, \"ticks\": \"\"}, \"type\": \"contourcarpet\"}], \"heatmap\": [{\"colorbar\": {\"outlinewidth\": 0, \"ticks\": \"\"}, \"colorscale\": [[0.0, \"#0d0887\"], [0.1111111111111111, \"#46039f\"], [0.2222222222222222, \"#7201a8\"], [0.3333333333333333, \"#9c179e\"], [0.4444444444444444, \"#bd3786\"], [0.5555555555555556, \"#d8576b\"], [0.6666666666666666, \"#ed7953\"], [0.7777777777777778, \"#fb9f3a\"], [0.8888888888888888, \"#fdca26\"], [1.0, \"#f0f921\"]], \"type\": \"heatmap\"}], \"heatmapgl\": [{\"colorbar\": {\"outlinewidth\": 0, \"ticks\": \"\"}, \"colorscale\": [[0.0, \"#0d0887\"], [0.1111111111111111, \"#46039f\"], [0.2222222222222222, \"#7201a8\"], [0.3333333333333333, \"#9c179e\"], [0.4444444444444444, \"#bd3786\"], [0.5555555555555556, \"#d8576b\"], [0.6666666666666666, \"#ed7953\"], [0.7777777777777778, \"#fb9f3a\"], [0.8888888888888888, \"#fdca26\"], [1.0, \"#f0f921\"]], \"type\": \"heatmapgl\"}], \"histogram\": [{\"marker\": {\"colorbar\": {\"outlinewidth\": 0, \"ticks\": \"\"}}, \"type\": \"histogram\"}], \"histogram2d\": [{\"colorbar\": {\"outlinewidth\": 0, \"ticks\": \"\"}, \"colorscale\": [[0.0, \"#0d0887\"], [0.1111111111111111, \"#46039f\"], [0.2222222222222222, \"#7201a8\"], [0.3333333333333333, \"#9c179e\"], [0.4444444444444444, \"#bd3786\"], [0.5555555555555556, \"#d8576b\"], [0.6666666666666666, \"#ed7953\"], [0.7777777777777778, \"#fb9f3a\"], [0.8888888888888888, \"#fdca26\"], [1.0, \"#f0f921\"]], \"type\": \"histogram2d\"}], \"histogram2dcontour\": [{\"colorbar\": {\"outlinewidth\": 0, \"ticks\": \"\"}, \"colorscale\": [[0.0, \"#0d0887\"], [0.1111111111111111, \"#46039f\"], [0.2222222222222222, \"#7201a8\"], [0.3333333333333333, \"#9c179e\"], [0.4444444444444444, \"#bd3786\"], [0.5555555555555556, \"#d8576b\"], [0.6666666666666666, \"#ed7953\"], [0.7777777777777778, \"#fb9f3a\"], [0.8888888888888888, \"#fdca26\"], [1.0, \"#f0f921\"]], \"type\": \"histogram2dcontour\"}], \"mesh3d\": [{\"colorbar\": {\"outlinewidth\": 0, \"ticks\": \"\"}, \"type\": \"mesh3d\"}], \"parcoords\": [{\"line\": {\"colorbar\": {\"outlinewidth\": 0, \"ticks\": \"\"}}, \"type\": \"parcoords\"}], \"pie\": [{\"automargin\": true, \"type\": \"pie\"}], \"scatter\": [{\"marker\": {\"colorbar\": {\"outlinewidth\": 0, \"ticks\": \"\"}}, \"type\": \"scatter\"}], \"scatter3d\": [{\"line\": {\"colorbar\": {\"outlinewidth\": 0, \"ticks\": \"\"}}, \"marker\": {\"colorbar\": {\"outlinewidth\": 0, \"ticks\": \"\"}}, \"type\": \"scatter3d\"}], \"scattercarpet\": [{\"marker\": {\"colorbar\": {\"outlinewidth\": 0, \"ticks\": \"\"}}, \"type\": \"scattercarpet\"}], \"scattergeo\": [{\"marker\": {\"colorbar\": {\"outlinewidth\": 0, \"ticks\": \"\"}}, \"type\": \"scattergeo\"}], \"scattergl\": [{\"marker\": {\"colorbar\": {\"outlinewidth\": 0, \"ticks\": \"\"}}, \"type\": \"scattergl\"}], \"scattermapbox\": [{\"marker\": {\"colorbar\": {\"outlinewidth\": 0, \"ticks\": \"\"}}, \"type\": \"scattermapbox\"}], \"scatterpolar\": [{\"marker\": {\"colorbar\": {\"outlinewidth\": 0, \"ticks\": \"\"}}, \"type\": \"scatterpolar\"}], \"scatterpolargl\": [{\"marker\": {\"colorbar\": {\"outlinewidth\": 0, \"ticks\": \"\"}}, \"type\": \"scatterpolargl\"}], \"scatterternary\": [{\"marker\": {\"colorbar\": {\"outlinewidth\": 0, \"ticks\": \"\"}}, \"type\": \"scatterternary\"}], \"surface\": [{\"colorbar\": {\"outlinewidth\": 0, \"ticks\": \"\"}, \"colorscale\": [[0.0, \"#0d0887\"], [0.1111111111111111, \"#46039f\"], [0.2222222222222222, \"#7201a8\"], [0.3333333333333333, \"#9c179e\"], [0.4444444444444444, \"#bd3786\"], [0.5555555555555556, \"#d8576b\"], [0.6666666666666666, \"#ed7953\"], [0.7777777777777778, \"#fb9f3a\"], [0.8888888888888888, \"#fdca26\"], [1.0, \"#f0f921\"]], \"type\": \"surface\"}], \"table\": [{\"cells\": {\"fill\": {\"color\": \"#EBF0F8\"}, \"line\": {\"color\": \"white\"}}, \"header\": {\"fill\": {\"color\": \"#C8D4E3\"}, \"line\": {\"color\": \"white\"}}, \"type\": \"table\"}]}, \"layout\": {\"annotationdefaults\": {\"arrowcolor\": \"#2a3f5f\", \"arrowhead\": 0, \"arrowwidth\": 1}, \"coloraxis\": {\"colorbar\": {\"outlinewidth\": 0, \"ticks\": \"\"}}, \"colorscale\": {\"diverging\": [[0, \"#8e0152\"], [0.1, \"#c51b7d\"], [0.2, \"#de77ae\"], [0.3, \"#f1b6da\"], [0.4, \"#fde0ef\"], [0.5, \"#f7f7f7\"], [0.6, \"#e6f5d0\"], [0.7, \"#b8e186\"], [0.8, \"#7fbc41\"], [0.9, \"#4d9221\"], [1, \"#276419\"]], \"sequential\": [[0.0, \"#0d0887\"], [0.1111111111111111, \"#46039f\"], [0.2222222222222222, \"#7201a8\"], [0.3333333333333333, \"#9c179e\"], [0.4444444444444444, \"#bd3786\"], [0.5555555555555556, \"#d8576b\"], [0.6666666666666666, \"#ed7953\"], [0.7777777777777778, \"#fb9f3a\"], [0.8888888888888888, \"#fdca26\"], [1.0, \"#f0f921\"]], \"sequentialminus\": [[0.0, \"#0d0887\"], [0.1111111111111111, \"#46039f\"], [0.2222222222222222, \"#7201a8\"], [0.3333333333333333, \"#9c179e\"], [0.4444444444444444, \"#bd3786\"], [0.5555555555555556, \"#d8576b\"], [0.6666666666666666, \"#ed7953\"], [0.7777777777777778, \"#fb9f3a\"], [0.8888888888888888, \"#fdca26\"], [1.0, \"#f0f921\"]]}, \"colorway\": [\"#636efa\", \"#EF553B\", \"#00cc96\", \"#ab63fa\", \"#FFA15A\", \"#19d3f3\", \"#FF6692\", \"#B6E880\", \"#FF97FF\", \"#FECB52\"], \"font\": {\"color\": \"#2a3f5f\"}, \"geo\": {\"bgcolor\": \"white\", \"lakecolor\": \"white\", \"landcolor\": \"#E5ECF6\", \"showlakes\": true, \"showland\": true, \"subunitcolor\": \"white\"}, \"hoverlabel\": {\"align\": \"left\"}, \"hovermode\": \"closest\", \"mapbox\": {\"style\": \"light\"}, \"paper_bgcolor\": \"white\", \"plot_bgcolor\": \"#E5ECF6\", \"polar\": {\"angularaxis\": {\"gridcolor\": \"white\", \"linecolor\": \"white\", \"ticks\": \"\"}, \"bgcolor\": \"#E5ECF6\", \"radialaxis\": {\"gridcolor\": \"white\", \"linecolor\": \"white\", \"ticks\": \"\"}}, \"scene\": {\"xaxis\": {\"backgroundcolor\": \"#E5ECF6\", \"gridcolor\": \"white\", \"gridwidth\": 2, \"linecolor\": \"white\", \"showbackground\": true, \"ticks\": \"\", \"zerolinecolor\": \"white\"}, \"yaxis\": {\"backgroundcolor\": \"#E5ECF6\", \"gridcolor\": \"white\", \"gridwidth\": 2, \"linecolor\": \"white\", \"showbackground\": true, \"ticks\": \"\", \"zerolinecolor\": \"white\"}, \"zaxis\": {\"backgroundcolor\": \"#E5ECF6\", \"gridcolor\": \"white\", \"gridwidth\": 2, \"linecolor\": \"white\", \"showbackground\": true, \"ticks\": \"\", \"zerolinecolor\": \"white\"}}, \"shapedefaults\": {\"line\": {\"color\": \"#2a3f5f\"}}, \"ternary\": {\"aaxis\": {\"gridcolor\": \"white\", \"linecolor\": \"white\", \"ticks\": \"\"}, \"baxis\": {\"gridcolor\": \"white\", \"linecolor\": \"white\", \"ticks\": \"\"}, \"bgcolor\": \"#E5ECF6\", \"caxis\": {\"gridcolor\": \"white\", \"linecolor\": \"white\", \"ticks\": \"\"}}, \"title\": {\"x\": 0.05}, \"xaxis\": {\"automargin\": true, \"gridcolor\": \"white\", \"linecolor\": \"white\", \"ticks\": \"\", \"title\": {\"standoff\": 15}, \"zerolinecolor\": \"white\", \"zerolinewidth\": 2}, \"yaxis\": {\"automargin\": true, \"gridcolor\": \"white\", \"linecolor\": \"white\", \"ticks\": \"\", \"title\": {\"standoff\": 15}, \"zerolinecolor\": \"white\", \"zerolinewidth\": 2}}}, \"title\": {\"text\": \"Effect of k in skyline_time | total_points=10000 and dim=4\"}, \"xaxis\": {\"anchor\": \"y\", \"domain\": [0.0, 0.235], \"title\": {\"text\": \"k\"}}, \"xaxis2\": {\"anchor\": \"y2\", \"domain\": [0.255, 0.49], \"matches\": \"x\", \"title\": {\"text\": \"k\"}}, \"xaxis3\": {\"anchor\": \"y3\", \"domain\": [0.51, 0.745], \"matches\": \"x\", \"title\": {\"text\": \"k\"}}, \"xaxis4\": {\"anchor\": \"y4\", \"domain\": [0.7649999999999999, 0.9999999999999999], \"matches\": \"x\", \"title\": {\"text\": \"k\"}}, \"yaxis\": {\"anchor\": \"x\", \"domain\": [0.0, 1.0], \"title\": {\"text\": \"skyline_time\"}}, \"yaxis2\": {\"anchor\": \"x2\", \"domain\": [0.0, 1.0], \"matches\": \"y\", \"showticklabels\": false}, \"yaxis3\": {\"anchor\": \"x3\", \"domain\": [0.0, 1.0], \"matches\": \"y\", \"showticklabels\": false}, \"yaxis4\": {\"anchor\": \"x4\", \"domain\": [0.0, 1.0], \"matches\": \"y\", \"showticklabels\": false}},                        {\"responsive\": true}                    ).then(function(){\n",
       "                            \n",
       "var gd = document.getElementById('3b87d734-8371-44f8-9e1e-82a59de9fe65');\n",
       "var x = new MutationObserver(function (mutations, observer) {{\n",
       "        var display = window.getComputedStyle(gd).display;\n",
       "        if (!display || display === 'none') {{\n",
       "            console.log([gd, 'removed!']);\n",
       "            Plotly.purge(gd);\n",
       "            observer.disconnect();\n",
       "        }}\n",
       "}});\n",
       "\n",
       "// Listen for the removal of the full notebook cells\n",
       "var notebookContainer = gd.closest('#notebook-container');\n",
       "if (notebookContainer) {{\n",
       "    x.observe(notebookContainer, {childList: true});\n",
       "}}\n",
       "\n",
       "// Listen for the clearing of the current output cell\n",
       "var outputEl = gd.closest('.output');\n",
       "if (outputEl) {{\n",
       "    x.observe(outputEl, {childList: true});\n",
       "}}\n",
       "\n",
       "                        })                };                });            </script>        </div>"
      ]
     },
     "metadata": {},
     "output_type": "display_data"
    }
   ],
   "source": [
    "# Scatter plots\n",
    "\n",
    "# FIX: total_points, dim\n",
    "# Study k effect\n",
    "\n",
    "# Select a specific dataset\n",
    "experiment_times_subset = experiment_times[(experiment_times[\"total_points\"]==10000) &\n",
    "                                                      (experiment_times[\"dim\"]==4)]\n",
    "\n",
    "print(f\"Select {len(experiment_times_subset)} experiments\")\n",
    "\n",
    "# px.scatter\n",
    "fig = px.scatter(experiment_times_subset,\n",
    "                 x=\"k\",\n",
    "                 y=feature_time,\n",
    "                 color=\"distribution\",\n",
    "                 facet_col=\"cores\")\n",
    "\n",
    "fig.update_layout(title=f\"Effect of k in {feature_time} | total_points=10000 and dim=4\")\n",
    "    \n",
    "fig.show()"
   ]
  },
  {
   "cell_type": "code",
   "execution_count": 44,
   "metadata": {},
   "outputs": [],
   "source": [
    "# Save plot as html\n",
    "fig.write_html(f\"k_effect.html\")"
   ]
  },
  {
   "cell_type": "markdown",
   "metadata": {},
   "source": [
    "### Total points effect"
   ]
  },
  {
   "cell_type": "code",
   "execution_count": 82,
   "metadata": {},
   "outputs": [
    {
     "name": "stdout",
     "output_type": "stream",
     "text": [
      "Select 32 experiments\n"
     ]
    },
    {
     "data": {
      "application/vnd.plotly.v1+json": {
       "config": {
        "plotlyServerURL": "https://plot.ly"
       },
       "data": [
        {
         "hovertemplate": "distribution=anticorrelated<br>cores=1<br>total_points=%{x}<br>skyline_topk_time=%{y}<extra></extra>",
         "legendgroup": "anticorrelated",
         "marker": {
          "color": "#636efa",
          "symbol": "circle"
         },
         "mode": "markers",
         "name": "anticorrelated",
         "orientation": "v",
         "showlegend": true,
         "type": "scatter",
         "x": [
          10000
         ],
         "xaxis": "x",
         "y": [
          0.029816479
         ],
         "yaxis": "y"
        },
        {
         "hovertemplate": "distribution=anticorrelated<br>cores=2<br>total_points=%{x}<br>skyline_topk_time=%{y}<extra></extra>",
         "legendgroup": "anticorrelated",
         "marker": {
          "color": "#636efa",
          "symbol": "circle"
         },
         "mode": "markers",
         "name": "anticorrelated",
         "orientation": "v",
         "showlegend": false,
         "type": "scatter",
         "x": [
          10000
         ],
         "xaxis": "x2",
         "y": [
          0.022256439
         ],
         "yaxis": "y2"
        },
        {
         "hovertemplate": "distribution=anticorrelated<br>cores=4<br>total_points=%{x}<br>skyline_topk_time=%{y}<extra></extra>",
         "legendgroup": "anticorrelated",
         "marker": {
          "color": "#636efa",
          "symbol": "circle"
         },
         "mode": "markers",
         "name": "anticorrelated",
         "orientation": "v",
         "showlegend": false,
         "type": "scatter",
         "x": [
          10000
         ],
         "xaxis": "x3",
         "y": [
          0.024993282
         ],
         "yaxis": "y3"
        },
        {
         "hovertemplate": "distribution=anticorrelated<br>cores=8<br>total_points=%{x}<br>skyline_topk_time=%{y}<extra></extra>",
         "legendgroup": "anticorrelated",
         "marker": {
          "color": "#636efa",
          "symbol": "circle"
         },
         "mode": "markers",
         "name": "anticorrelated",
         "orientation": "v",
         "showlegend": false,
         "type": "scatter",
         "x": [
          10000
         ],
         "xaxis": "x4",
         "y": [
          0.023701097
         ],
         "yaxis": "y4"
        },
        {
         "hovertemplate": "distribution=correlated<br>cores=1<br>total_points=%{x}<br>skyline_topk_time=%{y}<extra></extra>",
         "legendgroup": "correlated",
         "marker": {
          "color": "#EF553B",
          "symbol": "circle"
         },
         "mode": "markers",
         "name": "correlated",
         "orientation": "v",
         "showlegend": true,
         "type": "scatter",
         "x": [
          1000000,
          100000,
          10000
         ],
         "xaxis": "x",
         "y": [
          0.034452565,
          0.020998808,
          0.06098563
         ],
         "yaxis": "y"
        },
        {
         "hovertemplate": "distribution=correlated<br>cores=2<br>total_points=%{x}<br>skyline_topk_time=%{y}<extra></extra>",
         "legendgroup": "correlated",
         "marker": {
          "color": "#EF553B",
          "symbol": "circle"
         },
         "mode": "markers",
         "name": "correlated",
         "orientation": "v",
         "showlegend": false,
         "type": "scatter",
         "x": [
          1000000,
          100000,
          10000
         ],
         "xaxis": "x2",
         "y": [
          0.064623484,
          0.024648166,
          0.043405468
         ],
         "yaxis": "y2"
        },
        {
         "hovertemplate": "distribution=correlated<br>cores=4<br>total_points=%{x}<br>skyline_topk_time=%{y}<extra></extra>",
         "legendgroup": "correlated",
         "marker": {
          "color": "#EF553B",
          "symbol": "circle"
         },
         "mode": "markers",
         "name": "correlated",
         "orientation": "v",
         "showlegend": false,
         "type": "scatter",
         "x": [
          1000000,
          100000,
          10000
         ],
         "xaxis": "x3",
         "y": [
          0.029934042,
          0.025079005,
          0.027219
         ],
         "yaxis": "y3"
        },
        {
         "hovertemplate": "distribution=correlated<br>cores=8<br>total_points=%{x}<br>skyline_topk_time=%{y}<extra></extra>",
         "legendgroup": "correlated",
         "marker": {
          "color": "#EF553B",
          "symbol": "circle"
         },
         "mode": "markers",
         "name": "correlated",
         "orientation": "v",
         "showlegend": false,
         "type": "scatter",
         "x": [
          1000000,
          100000,
          10000
         ],
         "xaxis": "x4",
         "y": [
          0.092893455,
          0.025716199,
          0.022675568
         ],
         "yaxis": "y4"
        },
        {
         "hovertemplate": "distribution=uniform<br>cores=1<br>total_points=%{x}<br>skyline_topk_time=%{y}<extra></extra>",
         "legendgroup": "uniform",
         "marker": {
          "color": "#00cc96",
          "symbol": "circle"
         },
         "mode": "markers",
         "name": "uniform",
         "orientation": "v",
         "showlegend": true,
         "type": "scatter",
         "x": [
          100000,
          10000
         ],
         "xaxis": "x",
         "y": [
          0.059417503,
          0.084939453
         ],
         "yaxis": "y"
        },
        {
         "hovertemplate": "distribution=uniform<br>cores=2<br>total_points=%{x}<br>skyline_topk_time=%{y}<extra></extra>",
         "legendgroup": "uniform",
         "marker": {
          "color": "#00cc96",
          "symbol": "circle"
         },
         "mode": "markers",
         "name": "uniform",
         "orientation": "v",
         "showlegend": false,
         "type": "scatter",
         "x": [
          100000,
          10000
         ],
         "xaxis": "x2",
         "y": [
          0.07511172,
          0.042813069
         ],
         "yaxis": "y2"
        },
        {
         "hovertemplate": "distribution=uniform<br>cores=4<br>total_points=%{x}<br>skyline_topk_time=%{y}<extra></extra>",
         "legendgroup": "uniform",
         "marker": {
          "color": "#00cc96",
          "symbol": "circle"
         },
         "mode": "markers",
         "name": "uniform",
         "orientation": "v",
         "showlegend": false,
         "type": "scatter",
         "x": [
          100000,
          10000
         ],
         "xaxis": "x3",
         "y": [
          0.058566263,
          0.036010322
         ],
         "yaxis": "y3"
        },
        {
         "hovertemplate": "distribution=uniform<br>cores=8<br>total_points=%{x}<br>skyline_topk_time=%{y}<extra></extra>",
         "legendgroup": "uniform",
         "marker": {
          "color": "#00cc96",
          "symbol": "circle"
         },
         "mode": "markers",
         "name": "uniform",
         "orientation": "v",
         "showlegend": false,
         "type": "scatter",
         "x": [
          100000,
          10000
         ],
         "xaxis": "x4",
         "y": [
          0.064390749,
          0.027580129
         ],
         "yaxis": "y4"
        },
        {
         "hovertemplate": "distribution=normal<br>cores=1<br>total_points=%{x}<br>skyline_topk_time=%{y}<extra></extra>",
         "legendgroup": "normal",
         "marker": {
          "color": "#ab63fa",
          "symbol": "circle"
         },
         "mode": "markers",
         "name": "normal",
         "orientation": "v",
         "showlegend": true,
         "type": "scatter",
         "x": [
          10000,
          100000
         ],
         "xaxis": "x",
         "y": [
          0.067060125,
          0.104131305
         ],
         "yaxis": "y"
        },
        {
         "hovertemplate": "distribution=normal<br>cores=2<br>total_points=%{x}<br>skyline_topk_time=%{y}<extra></extra>",
         "legendgroup": "normal",
         "marker": {
          "color": "#ab63fa",
          "symbol": "circle"
         },
         "mode": "markers",
         "name": "normal",
         "orientation": "v",
         "showlegend": false,
         "type": "scatter",
         "x": [
          10000,
          100000
         ],
         "xaxis": "x2",
         "y": [
          0.041273684,
          0.077969454
         ],
         "yaxis": "y2"
        },
        {
         "hovertemplate": "distribution=normal<br>cores=4<br>total_points=%{x}<br>skyline_topk_time=%{y}<extra></extra>",
         "legendgroup": "normal",
         "marker": {
          "color": "#ab63fa",
          "symbol": "circle"
         },
         "mode": "markers",
         "name": "normal",
         "orientation": "v",
         "showlegend": false,
         "type": "scatter",
         "x": [
          10000,
          100000
         ],
         "xaxis": "x3",
         "y": [
          0.035110741,
          0.097721048
         ],
         "yaxis": "y3"
        },
        {
         "hovertemplate": "distribution=normal<br>cores=8<br>total_points=%{x}<br>skyline_topk_time=%{y}<extra></extra>",
         "legendgroup": "normal",
         "marker": {
          "color": "#ab63fa",
          "symbol": "circle"
         },
         "mode": "markers",
         "name": "normal",
         "orientation": "v",
         "showlegend": false,
         "type": "scatter",
         "x": [
          10000,
          100000
         ],
         "xaxis": "x4",
         "y": [
          0.034736093,
          0.079324479
         ],
         "yaxis": "y4"
        }
       ],
       "layout": {
        "annotations": [
         {
          "font": {},
          "showarrow": false,
          "text": "cores=1",
          "x": 0.1175,
          "xanchor": "center",
          "xref": "paper",
          "y": 1,
          "yanchor": "bottom",
          "yref": "paper"
         },
         {
          "font": {},
          "showarrow": false,
          "text": "cores=2",
          "x": 0.3725,
          "xanchor": "center",
          "xref": "paper",
          "y": 1,
          "yanchor": "bottom",
          "yref": "paper"
         },
         {
          "font": {},
          "showarrow": false,
          "text": "cores=4",
          "x": 0.6275,
          "xanchor": "center",
          "xref": "paper",
          "y": 1,
          "yanchor": "bottom",
          "yref": "paper"
         },
         {
          "font": {},
          "showarrow": false,
          "text": "cores=8",
          "x": 0.8824999999999998,
          "xanchor": "center",
          "xref": "paper",
          "y": 1,
          "yanchor": "bottom",
          "yref": "paper"
         }
        ],
        "legend": {
         "title": {
          "text": "distribution"
         },
         "tracegroupgap": 0
        },
        "margin": {
         "t": 60
        },
        "template": {
         "data": {
          "bar": [
           {
            "error_x": {
             "color": "#2a3f5f"
            },
            "error_y": {
             "color": "#2a3f5f"
            },
            "marker": {
             "line": {
              "color": "#E5ECF6",
              "width": 0.5
             }
            },
            "type": "bar"
           }
          ],
          "barpolar": [
           {
            "marker": {
             "line": {
              "color": "#E5ECF6",
              "width": 0.5
             }
            },
            "type": "barpolar"
           }
          ],
          "carpet": [
           {
            "aaxis": {
             "endlinecolor": "#2a3f5f",
             "gridcolor": "white",
             "linecolor": "white",
             "minorgridcolor": "white",
             "startlinecolor": "#2a3f5f"
            },
            "baxis": {
             "endlinecolor": "#2a3f5f",
             "gridcolor": "white",
             "linecolor": "white",
             "minorgridcolor": "white",
             "startlinecolor": "#2a3f5f"
            },
            "type": "carpet"
           }
          ],
          "choropleth": [
           {
            "colorbar": {
             "outlinewidth": 0,
             "ticks": ""
            },
            "type": "choropleth"
           }
          ],
          "contour": [
           {
            "colorbar": {
             "outlinewidth": 0,
             "ticks": ""
            },
            "colorscale": [
             [
              0,
              "#0d0887"
             ],
             [
              0.1111111111111111,
              "#46039f"
             ],
             [
              0.2222222222222222,
              "#7201a8"
             ],
             [
              0.3333333333333333,
              "#9c179e"
             ],
             [
              0.4444444444444444,
              "#bd3786"
             ],
             [
              0.5555555555555556,
              "#d8576b"
             ],
             [
              0.6666666666666666,
              "#ed7953"
             ],
             [
              0.7777777777777778,
              "#fb9f3a"
             ],
             [
              0.8888888888888888,
              "#fdca26"
             ],
             [
              1,
              "#f0f921"
             ]
            ],
            "type": "contour"
           }
          ],
          "contourcarpet": [
           {
            "colorbar": {
             "outlinewidth": 0,
             "ticks": ""
            },
            "type": "contourcarpet"
           }
          ],
          "heatmap": [
           {
            "colorbar": {
             "outlinewidth": 0,
             "ticks": ""
            },
            "colorscale": [
             [
              0,
              "#0d0887"
             ],
             [
              0.1111111111111111,
              "#46039f"
             ],
             [
              0.2222222222222222,
              "#7201a8"
             ],
             [
              0.3333333333333333,
              "#9c179e"
             ],
             [
              0.4444444444444444,
              "#bd3786"
             ],
             [
              0.5555555555555556,
              "#d8576b"
             ],
             [
              0.6666666666666666,
              "#ed7953"
             ],
             [
              0.7777777777777778,
              "#fb9f3a"
             ],
             [
              0.8888888888888888,
              "#fdca26"
             ],
             [
              1,
              "#f0f921"
             ]
            ],
            "type": "heatmap"
           }
          ],
          "heatmapgl": [
           {
            "colorbar": {
             "outlinewidth": 0,
             "ticks": ""
            },
            "colorscale": [
             [
              0,
              "#0d0887"
             ],
             [
              0.1111111111111111,
              "#46039f"
             ],
             [
              0.2222222222222222,
              "#7201a8"
             ],
             [
              0.3333333333333333,
              "#9c179e"
             ],
             [
              0.4444444444444444,
              "#bd3786"
             ],
             [
              0.5555555555555556,
              "#d8576b"
             ],
             [
              0.6666666666666666,
              "#ed7953"
             ],
             [
              0.7777777777777778,
              "#fb9f3a"
             ],
             [
              0.8888888888888888,
              "#fdca26"
             ],
             [
              1,
              "#f0f921"
             ]
            ],
            "type": "heatmapgl"
           }
          ],
          "histogram": [
           {
            "marker": {
             "colorbar": {
              "outlinewidth": 0,
              "ticks": ""
             }
            },
            "type": "histogram"
           }
          ],
          "histogram2d": [
           {
            "colorbar": {
             "outlinewidth": 0,
             "ticks": ""
            },
            "colorscale": [
             [
              0,
              "#0d0887"
             ],
             [
              0.1111111111111111,
              "#46039f"
             ],
             [
              0.2222222222222222,
              "#7201a8"
             ],
             [
              0.3333333333333333,
              "#9c179e"
             ],
             [
              0.4444444444444444,
              "#bd3786"
             ],
             [
              0.5555555555555556,
              "#d8576b"
             ],
             [
              0.6666666666666666,
              "#ed7953"
             ],
             [
              0.7777777777777778,
              "#fb9f3a"
             ],
             [
              0.8888888888888888,
              "#fdca26"
             ],
             [
              1,
              "#f0f921"
             ]
            ],
            "type": "histogram2d"
           }
          ],
          "histogram2dcontour": [
           {
            "colorbar": {
             "outlinewidth": 0,
             "ticks": ""
            },
            "colorscale": [
             [
              0,
              "#0d0887"
             ],
             [
              0.1111111111111111,
              "#46039f"
             ],
             [
              0.2222222222222222,
              "#7201a8"
             ],
             [
              0.3333333333333333,
              "#9c179e"
             ],
             [
              0.4444444444444444,
              "#bd3786"
             ],
             [
              0.5555555555555556,
              "#d8576b"
             ],
             [
              0.6666666666666666,
              "#ed7953"
             ],
             [
              0.7777777777777778,
              "#fb9f3a"
             ],
             [
              0.8888888888888888,
              "#fdca26"
             ],
             [
              1,
              "#f0f921"
             ]
            ],
            "type": "histogram2dcontour"
           }
          ],
          "mesh3d": [
           {
            "colorbar": {
             "outlinewidth": 0,
             "ticks": ""
            },
            "type": "mesh3d"
           }
          ],
          "parcoords": [
           {
            "line": {
             "colorbar": {
              "outlinewidth": 0,
              "ticks": ""
             }
            },
            "type": "parcoords"
           }
          ],
          "pie": [
           {
            "automargin": true,
            "type": "pie"
           }
          ],
          "scatter": [
           {
            "marker": {
             "colorbar": {
              "outlinewidth": 0,
              "ticks": ""
             }
            },
            "type": "scatter"
           }
          ],
          "scatter3d": [
           {
            "line": {
             "colorbar": {
              "outlinewidth": 0,
              "ticks": ""
             }
            },
            "marker": {
             "colorbar": {
              "outlinewidth": 0,
              "ticks": ""
             }
            },
            "type": "scatter3d"
           }
          ],
          "scattercarpet": [
           {
            "marker": {
             "colorbar": {
              "outlinewidth": 0,
              "ticks": ""
             }
            },
            "type": "scattercarpet"
           }
          ],
          "scattergeo": [
           {
            "marker": {
             "colorbar": {
              "outlinewidth": 0,
              "ticks": ""
             }
            },
            "type": "scattergeo"
           }
          ],
          "scattergl": [
           {
            "marker": {
             "colorbar": {
              "outlinewidth": 0,
              "ticks": ""
             }
            },
            "type": "scattergl"
           }
          ],
          "scattermapbox": [
           {
            "marker": {
             "colorbar": {
              "outlinewidth": 0,
              "ticks": ""
             }
            },
            "type": "scattermapbox"
           }
          ],
          "scatterpolar": [
           {
            "marker": {
             "colorbar": {
              "outlinewidth": 0,
              "ticks": ""
             }
            },
            "type": "scatterpolar"
           }
          ],
          "scatterpolargl": [
           {
            "marker": {
             "colorbar": {
              "outlinewidth": 0,
              "ticks": ""
             }
            },
            "type": "scatterpolargl"
           }
          ],
          "scatterternary": [
           {
            "marker": {
             "colorbar": {
              "outlinewidth": 0,
              "ticks": ""
             }
            },
            "type": "scatterternary"
           }
          ],
          "surface": [
           {
            "colorbar": {
             "outlinewidth": 0,
             "ticks": ""
            },
            "colorscale": [
             [
              0,
              "#0d0887"
             ],
             [
              0.1111111111111111,
              "#46039f"
             ],
             [
              0.2222222222222222,
              "#7201a8"
             ],
             [
              0.3333333333333333,
              "#9c179e"
             ],
             [
              0.4444444444444444,
              "#bd3786"
             ],
             [
              0.5555555555555556,
              "#d8576b"
             ],
             [
              0.6666666666666666,
              "#ed7953"
             ],
             [
              0.7777777777777778,
              "#fb9f3a"
             ],
             [
              0.8888888888888888,
              "#fdca26"
             ],
             [
              1,
              "#f0f921"
             ]
            ],
            "type": "surface"
           }
          ],
          "table": [
           {
            "cells": {
             "fill": {
              "color": "#EBF0F8"
             },
             "line": {
              "color": "white"
             }
            },
            "header": {
             "fill": {
              "color": "#C8D4E3"
             },
             "line": {
              "color": "white"
             }
            },
            "type": "table"
           }
          ]
         },
         "layout": {
          "annotationdefaults": {
           "arrowcolor": "#2a3f5f",
           "arrowhead": 0,
           "arrowwidth": 1
          },
          "coloraxis": {
           "colorbar": {
            "outlinewidth": 0,
            "ticks": ""
           }
          },
          "colorscale": {
           "diverging": [
            [
             0,
             "#8e0152"
            ],
            [
             0.1,
             "#c51b7d"
            ],
            [
             0.2,
             "#de77ae"
            ],
            [
             0.3,
             "#f1b6da"
            ],
            [
             0.4,
             "#fde0ef"
            ],
            [
             0.5,
             "#f7f7f7"
            ],
            [
             0.6,
             "#e6f5d0"
            ],
            [
             0.7,
             "#b8e186"
            ],
            [
             0.8,
             "#7fbc41"
            ],
            [
             0.9,
             "#4d9221"
            ],
            [
             1,
             "#276419"
            ]
           ],
           "sequential": [
            [
             0,
             "#0d0887"
            ],
            [
             0.1111111111111111,
             "#46039f"
            ],
            [
             0.2222222222222222,
             "#7201a8"
            ],
            [
             0.3333333333333333,
             "#9c179e"
            ],
            [
             0.4444444444444444,
             "#bd3786"
            ],
            [
             0.5555555555555556,
             "#d8576b"
            ],
            [
             0.6666666666666666,
             "#ed7953"
            ],
            [
             0.7777777777777778,
             "#fb9f3a"
            ],
            [
             0.8888888888888888,
             "#fdca26"
            ],
            [
             1,
             "#f0f921"
            ]
           ],
           "sequentialminus": [
            [
             0,
             "#0d0887"
            ],
            [
             0.1111111111111111,
             "#46039f"
            ],
            [
             0.2222222222222222,
             "#7201a8"
            ],
            [
             0.3333333333333333,
             "#9c179e"
            ],
            [
             0.4444444444444444,
             "#bd3786"
            ],
            [
             0.5555555555555556,
             "#d8576b"
            ],
            [
             0.6666666666666666,
             "#ed7953"
            ],
            [
             0.7777777777777778,
             "#fb9f3a"
            ],
            [
             0.8888888888888888,
             "#fdca26"
            ],
            [
             1,
             "#f0f921"
            ]
           ]
          },
          "colorway": [
           "#636efa",
           "#EF553B",
           "#00cc96",
           "#ab63fa",
           "#FFA15A",
           "#19d3f3",
           "#FF6692",
           "#B6E880",
           "#FF97FF",
           "#FECB52"
          ],
          "font": {
           "color": "#2a3f5f"
          },
          "geo": {
           "bgcolor": "white",
           "lakecolor": "white",
           "landcolor": "#E5ECF6",
           "showlakes": true,
           "showland": true,
           "subunitcolor": "white"
          },
          "hoverlabel": {
           "align": "left"
          },
          "hovermode": "closest",
          "mapbox": {
           "style": "light"
          },
          "paper_bgcolor": "white",
          "plot_bgcolor": "#E5ECF6",
          "polar": {
           "angularaxis": {
            "gridcolor": "white",
            "linecolor": "white",
            "ticks": ""
           },
           "bgcolor": "#E5ECF6",
           "radialaxis": {
            "gridcolor": "white",
            "linecolor": "white",
            "ticks": ""
           }
          },
          "scene": {
           "xaxis": {
            "backgroundcolor": "#E5ECF6",
            "gridcolor": "white",
            "gridwidth": 2,
            "linecolor": "white",
            "showbackground": true,
            "ticks": "",
            "zerolinecolor": "white"
           },
           "yaxis": {
            "backgroundcolor": "#E5ECF6",
            "gridcolor": "white",
            "gridwidth": 2,
            "linecolor": "white",
            "showbackground": true,
            "ticks": "",
            "zerolinecolor": "white"
           },
           "zaxis": {
            "backgroundcolor": "#E5ECF6",
            "gridcolor": "white",
            "gridwidth": 2,
            "linecolor": "white",
            "showbackground": true,
            "ticks": "",
            "zerolinecolor": "white"
           }
          },
          "shapedefaults": {
           "line": {
            "color": "#2a3f5f"
           }
          },
          "ternary": {
           "aaxis": {
            "gridcolor": "white",
            "linecolor": "white",
            "ticks": ""
           },
           "baxis": {
            "gridcolor": "white",
            "linecolor": "white",
            "ticks": ""
           },
           "bgcolor": "#E5ECF6",
           "caxis": {
            "gridcolor": "white",
            "linecolor": "white",
            "ticks": ""
           }
          },
          "title": {
           "x": 0.05
          },
          "xaxis": {
           "automargin": true,
           "gridcolor": "white",
           "linecolor": "white",
           "ticks": "",
           "title": {
            "standoff": 15
           },
           "zerolinecolor": "white",
           "zerolinewidth": 2
          },
          "yaxis": {
           "automargin": true,
           "gridcolor": "white",
           "linecolor": "white",
           "ticks": "",
           "title": {
            "standoff": 15
           },
           "zerolinecolor": "white",
           "zerolinewidth": 2
          }
         }
        },
        "title": {
         "text": "Effect of total_points in skyline_topk_time | k=1 and dim=4"
        },
        "xaxis": {
         "anchor": "y",
         "domain": [
          0,
          0.235
         ],
         "title": {
          "text": "total_points"
         },
         "type": "log"
        },
        "xaxis2": {
         "anchor": "y2",
         "domain": [
          0.255,
          0.49
         ],
         "matches": "x",
         "title": {
          "text": "total_points"
         },
         "type": "log"
        },
        "xaxis3": {
         "anchor": "y3",
         "domain": [
          0.51,
          0.745
         ],
         "matches": "x",
         "title": {
          "text": "total_points"
         },
         "type": "log"
        },
        "xaxis4": {
         "anchor": "y4",
         "domain": [
          0.7649999999999999,
          0.9999999999999999
         ],
         "matches": "x",
         "title": {
          "text": "total_points"
         },
         "type": "log"
        },
        "yaxis": {
         "anchor": "x",
         "domain": [
          0,
          1
         ],
         "title": {
          "text": "skyline_topk_time"
         }
        },
        "yaxis2": {
         "anchor": "x2",
         "domain": [
          0,
          1
         ],
         "matches": "y",
         "showticklabels": false
        },
        "yaxis3": {
         "anchor": "x3",
         "domain": [
          0,
          1
         ],
         "matches": "y",
         "showticklabels": false
        },
        "yaxis4": {
         "anchor": "x4",
         "domain": [
          0,
          1
         ],
         "matches": "y",
         "showticklabels": false
        }
       }
      },
      "text/html": [
       "<div>                            <div id=\"87daeafb-892d-406e-b277-a541544946c7\" class=\"plotly-graph-div\" style=\"height:525px; width:100%;\"></div>            <script type=\"text/javascript\">                require([\"plotly\"], function(Plotly) {                    window.PLOTLYENV=window.PLOTLYENV || {};                                    if (document.getElementById(\"87daeafb-892d-406e-b277-a541544946c7\")) {                    Plotly.newPlot(                        \"87daeafb-892d-406e-b277-a541544946c7\",                        [{\"hovertemplate\": \"distribution=anticorrelated<br>cores=1<br>total_points=%{x}<br>skyline_topk_time=%{y}<extra></extra>\", \"legendgroup\": \"anticorrelated\", \"marker\": {\"color\": \"#636efa\", \"symbol\": \"circle\"}, \"mode\": \"markers\", \"name\": \"anticorrelated\", \"orientation\": \"v\", \"showlegend\": true, \"type\": \"scatter\", \"x\": [10000], \"xaxis\": \"x\", \"y\": [0.029816479], \"yaxis\": \"y\"}, {\"hovertemplate\": \"distribution=anticorrelated<br>cores=2<br>total_points=%{x}<br>skyline_topk_time=%{y}<extra></extra>\", \"legendgroup\": \"anticorrelated\", \"marker\": {\"color\": \"#636efa\", \"symbol\": \"circle\"}, \"mode\": \"markers\", \"name\": \"anticorrelated\", \"orientation\": \"v\", \"showlegend\": false, \"type\": \"scatter\", \"x\": [10000], \"xaxis\": \"x2\", \"y\": [0.022256439], \"yaxis\": \"y2\"}, {\"hovertemplate\": \"distribution=anticorrelated<br>cores=4<br>total_points=%{x}<br>skyline_topk_time=%{y}<extra></extra>\", \"legendgroup\": \"anticorrelated\", \"marker\": {\"color\": \"#636efa\", \"symbol\": \"circle\"}, \"mode\": \"markers\", \"name\": \"anticorrelated\", \"orientation\": \"v\", \"showlegend\": false, \"type\": \"scatter\", \"x\": [10000], \"xaxis\": \"x3\", \"y\": [0.024993282], \"yaxis\": \"y3\"}, {\"hovertemplate\": \"distribution=anticorrelated<br>cores=8<br>total_points=%{x}<br>skyline_topk_time=%{y}<extra></extra>\", \"legendgroup\": \"anticorrelated\", \"marker\": {\"color\": \"#636efa\", \"symbol\": \"circle\"}, \"mode\": \"markers\", \"name\": \"anticorrelated\", \"orientation\": \"v\", \"showlegend\": false, \"type\": \"scatter\", \"x\": [10000], \"xaxis\": \"x4\", \"y\": [0.023701097], \"yaxis\": \"y4\"}, {\"hovertemplate\": \"distribution=correlated<br>cores=1<br>total_points=%{x}<br>skyline_topk_time=%{y}<extra></extra>\", \"legendgroup\": \"correlated\", \"marker\": {\"color\": \"#EF553B\", \"symbol\": \"circle\"}, \"mode\": \"markers\", \"name\": \"correlated\", \"orientation\": \"v\", \"showlegend\": true, \"type\": \"scatter\", \"x\": [1000000, 100000, 10000], \"xaxis\": \"x\", \"y\": [0.034452565, 0.020998808, 0.06098563], \"yaxis\": \"y\"}, {\"hovertemplate\": \"distribution=correlated<br>cores=2<br>total_points=%{x}<br>skyline_topk_time=%{y}<extra></extra>\", \"legendgroup\": \"correlated\", \"marker\": {\"color\": \"#EF553B\", \"symbol\": \"circle\"}, \"mode\": \"markers\", \"name\": \"correlated\", \"orientation\": \"v\", \"showlegend\": false, \"type\": \"scatter\", \"x\": [1000000, 100000, 10000], \"xaxis\": \"x2\", \"y\": [0.064623484, 0.024648166, 0.043405468], \"yaxis\": \"y2\"}, {\"hovertemplate\": \"distribution=correlated<br>cores=4<br>total_points=%{x}<br>skyline_topk_time=%{y}<extra></extra>\", \"legendgroup\": \"correlated\", \"marker\": {\"color\": \"#EF553B\", \"symbol\": \"circle\"}, \"mode\": \"markers\", \"name\": \"correlated\", \"orientation\": \"v\", \"showlegend\": false, \"type\": \"scatter\", \"x\": [1000000, 100000, 10000], \"xaxis\": \"x3\", \"y\": [0.029934042, 0.025079005, 0.027219], \"yaxis\": \"y3\"}, {\"hovertemplate\": \"distribution=correlated<br>cores=8<br>total_points=%{x}<br>skyline_topk_time=%{y}<extra></extra>\", \"legendgroup\": \"correlated\", \"marker\": {\"color\": \"#EF553B\", \"symbol\": \"circle\"}, \"mode\": \"markers\", \"name\": \"correlated\", \"orientation\": \"v\", \"showlegend\": false, \"type\": \"scatter\", \"x\": [1000000, 100000, 10000], \"xaxis\": \"x4\", \"y\": [0.092893455, 0.025716199, 0.022675568], \"yaxis\": \"y4\"}, {\"hovertemplate\": \"distribution=uniform<br>cores=1<br>total_points=%{x}<br>skyline_topk_time=%{y}<extra></extra>\", \"legendgroup\": \"uniform\", \"marker\": {\"color\": \"#00cc96\", \"symbol\": \"circle\"}, \"mode\": \"markers\", \"name\": \"uniform\", \"orientation\": \"v\", \"showlegend\": true, \"type\": \"scatter\", \"x\": [100000, 10000], \"xaxis\": \"x\", \"y\": [0.059417503, 0.084939453], \"yaxis\": \"y\"}, {\"hovertemplate\": \"distribution=uniform<br>cores=2<br>total_points=%{x}<br>skyline_topk_time=%{y}<extra></extra>\", \"legendgroup\": \"uniform\", \"marker\": {\"color\": \"#00cc96\", \"symbol\": \"circle\"}, \"mode\": \"markers\", \"name\": \"uniform\", \"orientation\": \"v\", \"showlegend\": false, \"type\": \"scatter\", \"x\": [100000, 10000], \"xaxis\": \"x2\", \"y\": [0.07511172, 0.042813069], \"yaxis\": \"y2\"}, {\"hovertemplate\": \"distribution=uniform<br>cores=4<br>total_points=%{x}<br>skyline_topk_time=%{y}<extra></extra>\", \"legendgroup\": \"uniform\", \"marker\": {\"color\": \"#00cc96\", \"symbol\": \"circle\"}, \"mode\": \"markers\", \"name\": \"uniform\", \"orientation\": \"v\", \"showlegend\": false, \"type\": \"scatter\", \"x\": [100000, 10000], \"xaxis\": \"x3\", \"y\": [0.058566263, 0.036010322], \"yaxis\": \"y3\"}, {\"hovertemplate\": \"distribution=uniform<br>cores=8<br>total_points=%{x}<br>skyline_topk_time=%{y}<extra></extra>\", \"legendgroup\": \"uniform\", \"marker\": {\"color\": \"#00cc96\", \"symbol\": \"circle\"}, \"mode\": \"markers\", \"name\": \"uniform\", \"orientation\": \"v\", \"showlegend\": false, \"type\": \"scatter\", \"x\": [100000, 10000], \"xaxis\": \"x4\", \"y\": [0.064390749, 0.027580129], \"yaxis\": \"y4\"}, {\"hovertemplate\": \"distribution=normal<br>cores=1<br>total_points=%{x}<br>skyline_topk_time=%{y}<extra></extra>\", \"legendgroup\": \"normal\", \"marker\": {\"color\": \"#ab63fa\", \"symbol\": \"circle\"}, \"mode\": \"markers\", \"name\": \"normal\", \"orientation\": \"v\", \"showlegend\": true, \"type\": \"scatter\", \"x\": [10000, 100000], \"xaxis\": \"x\", \"y\": [0.067060125, 0.104131305], \"yaxis\": \"y\"}, {\"hovertemplate\": \"distribution=normal<br>cores=2<br>total_points=%{x}<br>skyline_topk_time=%{y}<extra></extra>\", \"legendgroup\": \"normal\", \"marker\": {\"color\": \"#ab63fa\", \"symbol\": \"circle\"}, \"mode\": \"markers\", \"name\": \"normal\", \"orientation\": \"v\", \"showlegend\": false, \"type\": \"scatter\", \"x\": [10000, 100000], \"xaxis\": \"x2\", \"y\": [0.041273684, 0.077969454], \"yaxis\": \"y2\"}, {\"hovertemplate\": \"distribution=normal<br>cores=4<br>total_points=%{x}<br>skyline_topk_time=%{y}<extra></extra>\", \"legendgroup\": \"normal\", \"marker\": {\"color\": \"#ab63fa\", \"symbol\": \"circle\"}, \"mode\": \"markers\", \"name\": \"normal\", \"orientation\": \"v\", \"showlegend\": false, \"type\": \"scatter\", \"x\": [10000, 100000], \"xaxis\": \"x3\", \"y\": [0.035110741, 0.097721048], \"yaxis\": \"y3\"}, {\"hovertemplate\": \"distribution=normal<br>cores=8<br>total_points=%{x}<br>skyline_topk_time=%{y}<extra></extra>\", \"legendgroup\": \"normal\", \"marker\": {\"color\": \"#ab63fa\", \"symbol\": \"circle\"}, \"mode\": \"markers\", \"name\": \"normal\", \"orientation\": \"v\", \"showlegend\": false, \"type\": \"scatter\", \"x\": [10000, 100000], \"xaxis\": \"x4\", \"y\": [0.034736093, 0.079324479], \"yaxis\": \"y4\"}],                        {\"annotations\": [{\"font\": {}, \"showarrow\": false, \"text\": \"cores=1\", \"x\": 0.1175, \"xanchor\": \"center\", \"xref\": \"paper\", \"y\": 1.0, \"yanchor\": \"bottom\", \"yref\": \"paper\"}, {\"font\": {}, \"showarrow\": false, \"text\": \"cores=2\", \"x\": 0.3725, \"xanchor\": \"center\", \"xref\": \"paper\", \"y\": 1.0, \"yanchor\": \"bottom\", \"yref\": \"paper\"}, {\"font\": {}, \"showarrow\": false, \"text\": \"cores=4\", \"x\": 0.6275, \"xanchor\": \"center\", \"xref\": \"paper\", \"y\": 1.0, \"yanchor\": \"bottom\", \"yref\": \"paper\"}, {\"font\": {}, \"showarrow\": false, \"text\": \"cores=8\", \"x\": 0.8824999999999998, \"xanchor\": \"center\", \"xref\": \"paper\", \"y\": 1.0, \"yanchor\": \"bottom\", \"yref\": \"paper\"}], \"legend\": {\"title\": {\"text\": \"distribution\"}, \"tracegroupgap\": 0}, \"margin\": {\"t\": 60}, \"template\": {\"data\": {\"bar\": [{\"error_x\": {\"color\": \"#2a3f5f\"}, \"error_y\": {\"color\": \"#2a3f5f\"}, \"marker\": {\"line\": {\"color\": \"#E5ECF6\", \"width\": 0.5}}, \"type\": \"bar\"}], \"barpolar\": [{\"marker\": {\"line\": {\"color\": \"#E5ECF6\", \"width\": 0.5}}, \"type\": \"barpolar\"}], \"carpet\": [{\"aaxis\": {\"endlinecolor\": \"#2a3f5f\", \"gridcolor\": \"white\", \"linecolor\": \"white\", \"minorgridcolor\": \"white\", \"startlinecolor\": \"#2a3f5f\"}, \"baxis\": {\"endlinecolor\": \"#2a3f5f\", \"gridcolor\": \"white\", \"linecolor\": \"white\", \"minorgridcolor\": \"white\", \"startlinecolor\": \"#2a3f5f\"}, \"type\": \"carpet\"}], \"choropleth\": [{\"colorbar\": {\"outlinewidth\": 0, \"ticks\": \"\"}, \"type\": \"choropleth\"}], \"contour\": [{\"colorbar\": {\"outlinewidth\": 0, \"ticks\": \"\"}, \"colorscale\": [[0.0, \"#0d0887\"], [0.1111111111111111, \"#46039f\"], [0.2222222222222222, \"#7201a8\"], [0.3333333333333333, \"#9c179e\"], [0.4444444444444444, \"#bd3786\"], [0.5555555555555556, \"#d8576b\"], [0.6666666666666666, \"#ed7953\"], [0.7777777777777778, \"#fb9f3a\"], [0.8888888888888888, \"#fdca26\"], [1.0, \"#f0f921\"]], \"type\": \"contour\"}], \"contourcarpet\": [{\"colorbar\": {\"outlinewidth\": 0, \"ticks\": \"\"}, \"type\": \"contourcarpet\"}], \"heatmap\": [{\"colorbar\": {\"outlinewidth\": 0, \"ticks\": \"\"}, \"colorscale\": [[0.0, \"#0d0887\"], [0.1111111111111111, \"#46039f\"], [0.2222222222222222, \"#7201a8\"], [0.3333333333333333, \"#9c179e\"], [0.4444444444444444, \"#bd3786\"], [0.5555555555555556, \"#d8576b\"], [0.6666666666666666, \"#ed7953\"], [0.7777777777777778, \"#fb9f3a\"], [0.8888888888888888, \"#fdca26\"], [1.0, \"#f0f921\"]], \"type\": \"heatmap\"}], \"heatmapgl\": [{\"colorbar\": {\"outlinewidth\": 0, \"ticks\": \"\"}, \"colorscale\": [[0.0, \"#0d0887\"], [0.1111111111111111, \"#46039f\"], [0.2222222222222222, \"#7201a8\"], [0.3333333333333333, \"#9c179e\"], [0.4444444444444444, \"#bd3786\"], [0.5555555555555556, \"#d8576b\"], [0.6666666666666666, \"#ed7953\"], [0.7777777777777778, \"#fb9f3a\"], [0.8888888888888888, \"#fdca26\"], [1.0, \"#f0f921\"]], \"type\": \"heatmapgl\"}], \"histogram\": [{\"marker\": {\"colorbar\": {\"outlinewidth\": 0, \"ticks\": \"\"}}, \"type\": \"histogram\"}], \"histogram2d\": [{\"colorbar\": {\"outlinewidth\": 0, \"ticks\": \"\"}, \"colorscale\": [[0.0, \"#0d0887\"], [0.1111111111111111, \"#46039f\"], [0.2222222222222222, \"#7201a8\"], [0.3333333333333333, \"#9c179e\"], [0.4444444444444444, \"#bd3786\"], [0.5555555555555556, \"#d8576b\"], [0.6666666666666666, \"#ed7953\"], [0.7777777777777778, \"#fb9f3a\"], [0.8888888888888888, \"#fdca26\"], [1.0, \"#f0f921\"]], \"type\": \"histogram2d\"}], \"histogram2dcontour\": [{\"colorbar\": {\"outlinewidth\": 0, \"ticks\": \"\"}, \"colorscale\": [[0.0, \"#0d0887\"], [0.1111111111111111, \"#46039f\"], [0.2222222222222222, \"#7201a8\"], [0.3333333333333333, \"#9c179e\"], [0.4444444444444444, \"#bd3786\"], [0.5555555555555556, \"#d8576b\"], [0.6666666666666666, \"#ed7953\"], [0.7777777777777778, \"#fb9f3a\"], [0.8888888888888888, \"#fdca26\"], [1.0, \"#f0f921\"]], \"type\": \"histogram2dcontour\"}], \"mesh3d\": [{\"colorbar\": {\"outlinewidth\": 0, \"ticks\": \"\"}, \"type\": \"mesh3d\"}], \"parcoords\": [{\"line\": {\"colorbar\": {\"outlinewidth\": 0, \"ticks\": \"\"}}, \"type\": \"parcoords\"}], \"pie\": [{\"automargin\": true, \"type\": \"pie\"}], \"scatter\": [{\"marker\": {\"colorbar\": {\"outlinewidth\": 0, \"ticks\": \"\"}}, \"type\": \"scatter\"}], \"scatter3d\": [{\"line\": {\"colorbar\": {\"outlinewidth\": 0, \"ticks\": \"\"}}, \"marker\": {\"colorbar\": {\"outlinewidth\": 0, \"ticks\": \"\"}}, \"type\": \"scatter3d\"}], \"scattercarpet\": [{\"marker\": {\"colorbar\": {\"outlinewidth\": 0, \"ticks\": \"\"}}, \"type\": \"scattercarpet\"}], \"scattergeo\": [{\"marker\": {\"colorbar\": {\"outlinewidth\": 0, \"ticks\": \"\"}}, \"type\": \"scattergeo\"}], \"scattergl\": [{\"marker\": {\"colorbar\": {\"outlinewidth\": 0, \"ticks\": \"\"}}, \"type\": \"scattergl\"}], \"scattermapbox\": [{\"marker\": {\"colorbar\": {\"outlinewidth\": 0, \"ticks\": \"\"}}, \"type\": \"scattermapbox\"}], \"scatterpolar\": [{\"marker\": {\"colorbar\": {\"outlinewidth\": 0, \"ticks\": \"\"}}, \"type\": \"scatterpolar\"}], \"scatterpolargl\": [{\"marker\": {\"colorbar\": {\"outlinewidth\": 0, \"ticks\": \"\"}}, \"type\": \"scatterpolargl\"}], \"scatterternary\": [{\"marker\": {\"colorbar\": {\"outlinewidth\": 0, \"ticks\": \"\"}}, \"type\": \"scatterternary\"}], \"surface\": [{\"colorbar\": {\"outlinewidth\": 0, \"ticks\": \"\"}, \"colorscale\": [[0.0, \"#0d0887\"], [0.1111111111111111, \"#46039f\"], [0.2222222222222222, \"#7201a8\"], [0.3333333333333333, \"#9c179e\"], [0.4444444444444444, \"#bd3786\"], [0.5555555555555556, \"#d8576b\"], [0.6666666666666666, \"#ed7953\"], [0.7777777777777778, \"#fb9f3a\"], [0.8888888888888888, \"#fdca26\"], [1.0, \"#f0f921\"]], \"type\": \"surface\"}], \"table\": [{\"cells\": {\"fill\": {\"color\": \"#EBF0F8\"}, \"line\": {\"color\": \"white\"}}, \"header\": {\"fill\": {\"color\": \"#C8D4E3\"}, \"line\": {\"color\": \"white\"}}, \"type\": \"table\"}]}, \"layout\": {\"annotationdefaults\": {\"arrowcolor\": \"#2a3f5f\", \"arrowhead\": 0, \"arrowwidth\": 1}, \"coloraxis\": {\"colorbar\": {\"outlinewidth\": 0, \"ticks\": \"\"}}, \"colorscale\": {\"diverging\": [[0, \"#8e0152\"], [0.1, \"#c51b7d\"], [0.2, \"#de77ae\"], [0.3, \"#f1b6da\"], [0.4, \"#fde0ef\"], [0.5, \"#f7f7f7\"], [0.6, \"#e6f5d0\"], [0.7, \"#b8e186\"], [0.8, \"#7fbc41\"], [0.9, \"#4d9221\"], [1, \"#276419\"]], \"sequential\": [[0.0, \"#0d0887\"], [0.1111111111111111, \"#46039f\"], [0.2222222222222222, \"#7201a8\"], [0.3333333333333333, \"#9c179e\"], [0.4444444444444444, \"#bd3786\"], [0.5555555555555556, \"#d8576b\"], [0.6666666666666666, \"#ed7953\"], [0.7777777777777778, \"#fb9f3a\"], [0.8888888888888888, \"#fdca26\"], [1.0, \"#f0f921\"]], \"sequentialminus\": [[0.0, \"#0d0887\"], [0.1111111111111111, \"#46039f\"], [0.2222222222222222, \"#7201a8\"], [0.3333333333333333, \"#9c179e\"], [0.4444444444444444, \"#bd3786\"], [0.5555555555555556, \"#d8576b\"], [0.6666666666666666, \"#ed7953\"], [0.7777777777777778, \"#fb9f3a\"], [0.8888888888888888, \"#fdca26\"], [1.0, \"#f0f921\"]]}, \"colorway\": [\"#636efa\", \"#EF553B\", \"#00cc96\", \"#ab63fa\", \"#FFA15A\", \"#19d3f3\", \"#FF6692\", \"#B6E880\", \"#FF97FF\", \"#FECB52\"], \"font\": {\"color\": \"#2a3f5f\"}, \"geo\": {\"bgcolor\": \"white\", \"lakecolor\": \"white\", \"landcolor\": \"#E5ECF6\", \"showlakes\": true, \"showland\": true, \"subunitcolor\": \"white\"}, \"hoverlabel\": {\"align\": \"left\"}, \"hovermode\": \"closest\", \"mapbox\": {\"style\": \"light\"}, \"paper_bgcolor\": \"white\", \"plot_bgcolor\": \"#E5ECF6\", \"polar\": {\"angularaxis\": {\"gridcolor\": \"white\", \"linecolor\": \"white\", \"ticks\": \"\"}, \"bgcolor\": \"#E5ECF6\", \"radialaxis\": {\"gridcolor\": \"white\", \"linecolor\": \"white\", \"ticks\": \"\"}}, \"scene\": {\"xaxis\": {\"backgroundcolor\": \"#E5ECF6\", \"gridcolor\": \"white\", \"gridwidth\": 2, \"linecolor\": \"white\", \"showbackground\": true, \"ticks\": \"\", \"zerolinecolor\": \"white\"}, \"yaxis\": {\"backgroundcolor\": \"#E5ECF6\", \"gridcolor\": \"white\", \"gridwidth\": 2, \"linecolor\": \"white\", \"showbackground\": true, \"ticks\": \"\", \"zerolinecolor\": \"white\"}, \"zaxis\": {\"backgroundcolor\": \"#E5ECF6\", \"gridcolor\": \"white\", \"gridwidth\": 2, \"linecolor\": \"white\", \"showbackground\": true, \"ticks\": \"\", \"zerolinecolor\": \"white\"}}, \"shapedefaults\": {\"line\": {\"color\": \"#2a3f5f\"}}, \"ternary\": {\"aaxis\": {\"gridcolor\": \"white\", \"linecolor\": \"white\", \"ticks\": \"\"}, \"baxis\": {\"gridcolor\": \"white\", \"linecolor\": \"white\", \"ticks\": \"\"}, \"bgcolor\": \"#E5ECF6\", \"caxis\": {\"gridcolor\": \"white\", \"linecolor\": \"white\", \"ticks\": \"\"}}, \"title\": {\"x\": 0.05}, \"xaxis\": {\"automargin\": true, \"gridcolor\": \"white\", \"linecolor\": \"white\", \"ticks\": \"\", \"title\": {\"standoff\": 15}, \"zerolinecolor\": \"white\", \"zerolinewidth\": 2}, \"yaxis\": {\"automargin\": true, \"gridcolor\": \"white\", \"linecolor\": \"white\", \"ticks\": \"\", \"title\": {\"standoff\": 15}, \"zerolinecolor\": \"white\", \"zerolinewidth\": 2}}}, \"title\": {\"text\": \"Effect of total_points in skyline_topk_time | k=1 and dim=4\"}, \"xaxis\": {\"anchor\": \"y\", \"domain\": [0.0, 0.235], \"title\": {\"text\": \"total_points\"}, \"type\": \"log\"}, \"xaxis2\": {\"anchor\": \"y2\", \"domain\": [0.255, 0.49], \"matches\": \"x\", \"title\": {\"text\": \"total_points\"}, \"type\": \"log\"}, \"xaxis3\": {\"anchor\": \"y3\", \"domain\": [0.51, 0.745], \"matches\": \"x\", \"title\": {\"text\": \"total_points\"}, \"type\": \"log\"}, \"xaxis4\": {\"anchor\": \"y4\", \"domain\": [0.7649999999999999, 0.9999999999999999], \"matches\": \"x\", \"title\": {\"text\": \"total_points\"}, \"type\": \"log\"}, \"yaxis\": {\"anchor\": \"x\", \"domain\": [0.0, 1.0], \"title\": {\"text\": \"skyline_topk_time\"}}, \"yaxis2\": {\"anchor\": \"x2\", \"domain\": [0.0, 1.0], \"matches\": \"y\", \"showticklabels\": false}, \"yaxis3\": {\"anchor\": \"x3\", \"domain\": [0.0, 1.0], \"matches\": \"y\", \"showticklabels\": false}, \"yaxis4\": {\"anchor\": \"x4\", \"domain\": [0.0, 1.0], \"matches\": \"y\", \"showticklabels\": false}},                        {\"responsive\": true}                    ).then(function(){\n",
       "                            \n",
       "var gd = document.getElementById('87daeafb-892d-406e-b277-a541544946c7');\n",
       "var x = new MutationObserver(function (mutations, observer) {{\n",
       "        var display = window.getComputedStyle(gd).display;\n",
       "        if (!display || display === 'none') {{\n",
       "            console.log([gd, 'removed!']);\n",
       "            Plotly.purge(gd);\n",
       "            observer.disconnect();\n",
       "        }}\n",
       "}});\n",
       "\n",
       "// Listen for the removal of the full notebook cells\n",
       "var notebookContainer = gd.closest('#notebook-container');\n",
       "if (notebookContainer) {{\n",
       "    x.observe(notebookContainer, {childList: true});\n",
       "}}\n",
       "\n",
       "// Listen for the clearing of the current output cell\n",
       "var outputEl = gd.closest('.output');\n",
       "if (outputEl) {{\n",
       "    x.observe(outputEl, {childList: true});\n",
       "}}\n",
       "\n",
       "                        })                };                });            </script>        </div>"
      ]
     },
     "metadata": {},
     "output_type": "display_data"
    }
   ],
   "source": [
    "# Scatter plots\n",
    "\n",
    "# FIX: k effect, dim\n",
    "# Study: total_points\n",
    "\n",
    "\n",
    "experiment_times_subset = experiment_times[(experiment_times[\"dim\"]==10) &\n",
    "                                           (experiment_times[\"k\"]==1)]\n",
    "\n",
    "print(f\"Select {len(experiment_times_subset)} experiments\")\n",
    "\n",
    "fig = px.scatter(experiment_times_subset,\n",
    "                 x=\"total_points\",\n",
    "                 y=feature_time,\n",
    "                 log_x=True,\n",
    "                 color=\"distribution\",\n",
    "                 facet_col=\"cores\")\n",
    "\n",
    "fig.update_layout(\n",
    "    title=f\"Effect of total_points in {feature_time} | k=1 and dim=4\",\n",
    ")\n",
    "    \n",
    "fig.show()"
   ]
  },
  {
   "cell_type": "code",
   "execution_count": 83,
   "metadata": {},
   "outputs": [],
   "source": [
    "# Save plot as html\n",
    "fig.write_html(f\"total_points_effect.html\")"
   ]
  },
  {
   "cell_type": "markdown",
   "metadata": {},
   "source": [
    "### Dim effects"
   ]
  },
  {
   "cell_type": "code",
   "execution_count": 84,
   "metadata": {},
   "outputs": [
    {
     "name": "stdout",
     "output_type": "stream",
     "text": [
      "Select 48 experiments\n"
     ]
    },
    {
     "data": {
      "application/vnd.plotly.v1+json": {
       "config": {
        "plotlyServerURL": "https://plot.ly"
       },
       "data": [
        {
         "hovertemplate": "distribution=anticorrelated<br>cores=1<br>dim=%{x}<br>skyline_topk_time=%{y}<extra></extra>",
         "legendgroup": "anticorrelated",
         "marker": {
          "color": "#636efa",
          "symbol": "circle"
         },
         "mode": "markers",
         "name": "anticorrelated",
         "orientation": "v",
         "showlegend": true,
         "type": "scatter",
         "x": [
          4,
          10,
          50
         ],
         "xaxis": "x",
         "y": [
          0.044212256,
          0.029816479,
          0.063868953
         ],
         "yaxis": "y"
        },
        {
         "hovertemplate": "distribution=anticorrelated<br>cores=2<br>dim=%{x}<br>skyline_topk_time=%{y}<extra></extra>",
         "legendgroup": "anticorrelated",
         "marker": {
          "color": "#636efa",
          "symbol": "circle"
         },
         "mode": "markers",
         "name": "anticorrelated",
         "orientation": "v",
         "showlegend": false,
         "type": "scatter",
         "x": [
          4,
          10,
          50
         ],
         "xaxis": "x2",
         "y": [
          0.031901266,
          0.022256439,
          0.073999618
         ],
         "yaxis": "y2"
        },
        {
         "hovertemplate": "distribution=anticorrelated<br>cores=4<br>dim=%{x}<br>skyline_topk_time=%{y}<extra></extra>",
         "legendgroup": "anticorrelated",
         "marker": {
          "color": "#636efa",
          "symbol": "circle"
         },
         "mode": "markers",
         "name": "anticorrelated",
         "orientation": "v",
         "showlegend": false,
         "type": "scatter",
         "x": [
          4,
          10,
          50
         ],
         "xaxis": "x3",
         "y": [
          0.01560396,
          0.024993282,
          0.091191829
         ],
         "yaxis": "y3"
        },
        {
         "hovertemplate": "distribution=anticorrelated<br>cores=8<br>dim=%{x}<br>skyline_topk_time=%{y}<extra></extra>",
         "legendgroup": "anticorrelated",
         "marker": {
          "color": "#636efa",
          "symbol": "circle"
         },
         "mode": "markers",
         "name": "anticorrelated",
         "orientation": "v",
         "showlegend": false,
         "type": "scatter",
         "x": [
          4,
          10,
          50
         ],
         "xaxis": "x4",
         "y": [
          0.015269823,
          0.023701097,
          0.142556365
         ],
         "yaxis": "y4"
        },
        {
         "hovertemplate": "distribution=normal<br>cores=1<br>dim=%{x}<br>skyline_topk_time=%{y}<extra></extra>",
         "legendgroup": "normal",
         "marker": {
          "color": "#EF553B",
          "symbol": "circle"
         },
         "mode": "markers",
         "name": "normal",
         "orientation": "v",
         "showlegend": true,
         "type": "scatter",
         "x": [
          4,
          10,
          50
         ],
         "xaxis": "x",
         "y": [
          0.011664307,
          0.067060125,
          0.071681233
         ],
         "yaxis": "y"
        },
        {
         "hovertemplate": "distribution=normal<br>cores=2<br>dim=%{x}<br>skyline_topk_time=%{y}<extra></extra>",
         "legendgroup": "normal",
         "marker": {
          "color": "#EF553B",
          "symbol": "circle"
         },
         "mode": "markers",
         "name": "normal",
         "orientation": "v",
         "showlegend": false,
         "type": "scatter",
         "x": [
          4,
          10,
          50
         ],
         "xaxis": "x2",
         "y": [
          0.011634271,
          0.041273684,
          0.07862873
         ],
         "yaxis": "y2"
        },
        {
         "hovertemplate": "distribution=normal<br>cores=4<br>dim=%{x}<br>skyline_topk_time=%{y}<extra></extra>",
         "legendgroup": "normal",
         "marker": {
          "color": "#EF553B",
          "symbol": "circle"
         },
         "mode": "markers",
         "name": "normal",
         "orientation": "v",
         "showlegend": false,
         "type": "scatter",
         "x": [
          4,
          10,
          50
         ],
         "xaxis": "x3",
         "y": [
          0.010578981,
          0.035110741,
          0.088098479
         ],
         "yaxis": "y3"
        },
        {
         "hovertemplate": "distribution=normal<br>cores=8<br>dim=%{x}<br>skyline_topk_time=%{y}<extra></extra>",
         "legendgroup": "normal",
         "marker": {
          "color": "#EF553B",
          "symbol": "circle"
         },
         "mode": "markers",
         "name": "normal",
         "orientation": "v",
         "showlegend": false,
         "type": "scatter",
         "x": [
          4,
          10,
          50
         ],
         "xaxis": "x4",
         "y": [
          0.009811386,
          0.034736093,
          0.120221963
         ],
         "yaxis": "y4"
        },
        {
         "hovertemplate": "distribution=uniform<br>cores=1<br>dim=%{x}<br>skyline_topk_time=%{y}<extra></extra>",
         "legendgroup": "uniform",
         "marker": {
          "color": "#00cc96",
          "symbol": "circle"
         },
         "mode": "markers",
         "name": "uniform",
         "orientation": "v",
         "showlegend": true,
         "type": "scatter",
         "x": [
          4,
          10,
          50
         ],
         "xaxis": "x",
         "y": [
          0.011353368,
          0.084939453,
          0.087106311
         ],
         "yaxis": "y"
        },
        {
         "hovertemplate": "distribution=uniform<br>cores=2<br>dim=%{x}<br>skyline_topk_time=%{y}<extra></extra>",
         "legendgroup": "uniform",
         "marker": {
          "color": "#00cc96",
          "symbol": "circle"
         },
         "mode": "markers",
         "name": "uniform",
         "orientation": "v",
         "showlegend": false,
         "type": "scatter",
         "x": [
          4,
          10,
          50
         ],
         "xaxis": "x2",
         "y": [
          0.009688146,
          0.042813069,
          0.089018169
         ],
         "yaxis": "y2"
        },
        {
         "hovertemplate": "distribution=uniform<br>cores=4<br>dim=%{x}<br>skyline_topk_time=%{y}<extra></extra>",
         "legendgroup": "uniform",
         "marker": {
          "color": "#00cc96",
          "symbol": "circle"
         },
         "mode": "markers",
         "name": "uniform",
         "orientation": "v",
         "showlegend": false,
         "type": "scatter",
         "x": [
          4,
          10,
          50
         ],
         "xaxis": "x3",
         "y": [
          0.009598249,
          0.036010322,
          0.094160341
         ],
         "yaxis": "y3"
        },
        {
         "hovertemplate": "distribution=uniform<br>cores=8<br>dim=%{x}<br>skyline_topk_time=%{y}<extra></extra>",
         "legendgroup": "uniform",
         "marker": {
          "color": "#00cc96",
          "symbol": "circle"
         },
         "mode": "markers",
         "name": "uniform",
         "orientation": "v",
         "showlegend": false,
         "type": "scatter",
         "x": [
          4,
          10,
          50
         ],
         "xaxis": "x4",
         "y": [
          0.009276261,
          0.027580129,
          0.119623241
         ],
         "yaxis": "y4"
        },
        {
         "hovertemplate": "distribution=correlated<br>cores=1<br>dim=%{x}<br>skyline_topk_time=%{y}<extra></extra>",
         "legendgroup": "correlated",
         "marker": {
          "color": "#ab63fa",
          "symbol": "circle"
         },
         "mode": "markers",
         "name": "correlated",
         "orientation": "v",
         "showlegend": true,
         "type": "scatter",
         "x": [
          4,
          10,
          50
         ],
         "xaxis": "x",
         "y": [
          0.040381625,
          0.06098563,
          0.076766797
         ],
         "yaxis": "y"
        },
        {
         "hovertemplate": "distribution=correlated<br>cores=2<br>dim=%{x}<br>skyline_topk_time=%{y}<extra></extra>",
         "legendgroup": "correlated",
         "marker": {
          "color": "#ab63fa",
          "symbol": "circle"
         },
         "mode": "markers",
         "name": "correlated",
         "orientation": "v",
         "showlegend": false,
         "type": "scatter",
         "x": [
          4,
          10,
          50
         ],
         "xaxis": "x2",
         "y": [
          0.034136329,
          0.043405468,
          0.074101374
         ],
         "yaxis": "y2"
        },
        {
         "hovertemplate": "distribution=correlated<br>cores=4<br>dim=%{x}<br>skyline_topk_time=%{y}<extra></extra>",
         "legendgroup": "correlated",
         "marker": {
          "color": "#ab63fa",
          "symbol": "circle"
         },
         "mode": "markers",
         "name": "correlated",
         "orientation": "v",
         "showlegend": false,
         "type": "scatter",
         "x": [
          4,
          10,
          50
         ],
         "xaxis": "x3",
         "y": [
          0.022033893,
          0.027219,
          0.072219049
         ],
         "yaxis": "y3"
        },
        {
         "hovertemplate": "distribution=correlated<br>cores=8<br>dim=%{x}<br>skyline_topk_time=%{y}<extra></extra>",
         "legendgroup": "correlated",
         "marker": {
          "color": "#ab63fa",
          "symbol": "circle"
         },
         "mode": "markers",
         "name": "correlated",
         "orientation": "v",
         "showlegend": false,
         "type": "scatter",
         "x": [
          4,
          10,
          50
         ],
         "xaxis": "x4",
         "y": [
          0.013643442,
          0.022675568,
          0.140111695
         ],
         "yaxis": "y4"
        }
       ],
       "layout": {
        "annotations": [
         {
          "font": {},
          "showarrow": false,
          "text": "cores=1",
          "x": 0.1175,
          "xanchor": "center",
          "xref": "paper",
          "y": 1,
          "yanchor": "bottom",
          "yref": "paper"
         },
         {
          "font": {},
          "showarrow": false,
          "text": "cores=2",
          "x": 0.3725,
          "xanchor": "center",
          "xref": "paper",
          "y": 1,
          "yanchor": "bottom",
          "yref": "paper"
         },
         {
          "font": {},
          "showarrow": false,
          "text": "cores=4",
          "x": 0.6275,
          "xanchor": "center",
          "xref": "paper",
          "y": 1,
          "yanchor": "bottom",
          "yref": "paper"
         },
         {
          "font": {},
          "showarrow": false,
          "text": "cores=8",
          "x": 0.8824999999999998,
          "xanchor": "center",
          "xref": "paper",
          "y": 1,
          "yanchor": "bottom",
          "yref": "paper"
         }
        ],
        "legend": {
         "title": {
          "text": "distribution"
         },
         "tracegroupgap": 0
        },
        "margin": {
         "t": 60
        },
        "template": {
         "data": {
          "bar": [
           {
            "error_x": {
             "color": "#2a3f5f"
            },
            "error_y": {
             "color": "#2a3f5f"
            },
            "marker": {
             "line": {
              "color": "#E5ECF6",
              "width": 0.5
             }
            },
            "type": "bar"
           }
          ],
          "barpolar": [
           {
            "marker": {
             "line": {
              "color": "#E5ECF6",
              "width": 0.5
             }
            },
            "type": "barpolar"
           }
          ],
          "carpet": [
           {
            "aaxis": {
             "endlinecolor": "#2a3f5f",
             "gridcolor": "white",
             "linecolor": "white",
             "minorgridcolor": "white",
             "startlinecolor": "#2a3f5f"
            },
            "baxis": {
             "endlinecolor": "#2a3f5f",
             "gridcolor": "white",
             "linecolor": "white",
             "minorgridcolor": "white",
             "startlinecolor": "#2a3f5f"
            },
            "type": "carpet"
           }
          ],
          "choropleth": [
           {
            "colorbar": {
             "outlinewidth": 0,
             "ticks": ""
            },
            "type": "choropleth"
           }
          ],
          "contour": [
           {
            "colorbar": {
             "outlinewidth": 0,
             "ticks": ""
            },
            "colorscale": [
             [
              0,
              "#0d0887"
             ],
             [
              0.1111111111111111,
              "#46039f"
             ],
             [
              0.2222222222222222,
              "#7201a8"
             ],
             [
              0.3333333333333333,
              "#9c179e"
             ],
             [
              0.4444444444444444,
              "#bd3786"
             ],
             [
              0.5555555555555556,
              "#d8576b"
             ],
             [
              0.6666666666666666,
              "#ed7953"
             ],
             [
              0.7777777777777778,
              "#fb9f3a"
             ],
             [
              0.8888888888888888,
              "#fdca26"
             ],
             [
              1,
              "#f0f921"
             ]
            ],
            "type": "contour"
           }
          ],
          "contourcarpet": [
           {
            "colorbar": {
             "outlinewidth": 0,
             "ticks": ""
            },
            "type": "contourcarpet"
           }
          ],
          "heatmap": [
           {
            "colorbar": {
             "outlinewidth": 0,
             "ticks": ""
            },
            "colorscale": [
             [
              0,
              "#0d0887"
             ],
             [
              0.1111111111111111,
              "#46039f"
             ],
             [
              0.2222222222222222,
              "#7201a8"
             ],
             [
              0.3333333333333333,
              "#9c179e"
             ],
             [
              0.4444444444444444,
              "#bd3786"
             ],
             [
              0.5555555555555556,
              "#d8576b"
             ],
             [
              0.6666666666666666,
              "#ed7953"
             ],
             [
              0.7777777777777778,
              "#fb9f3a"
             ],
             [
              0.8888888888888888,
              "#fdca26"
             ],
             [
              1,
              "#f0f921"
             ]
            ],
            "type": "heatmap"
           }
          ],
          "heatmapgl": [
           {
            "colorbar": {
             "outlinewidth": 0,
             "ticks": ""
            },
            "colorscale": [
             [
              0,
              "#0d0887"
             ],
             [
              0.1111111111111111,
              "#46039f"
             ],
             [
              0.2222222222222222,
              "#7201a8"
             ],
             [
              0.3333333333333333,
              "#9c179e"
             ],
             [
              0.4444444444444444,
              "#bd3786"
             ],
             [
              0.5555555555555556,
              "#d8576b"
             ],
             [
              0.6666666666666666,
              "#ed7953"
             ],
             [
              0.7777777777777778,
              "#fb9f3a"
             ],
             [
              0.8888888888888888,
              "#fdca26"
             ],
             [
              1,
              "#f0f921"
             ]
            ],
            "type": "heatmapgl"
           }
          ],
          "histogram": [
           {
            "marker": {
             "colorbar": {
              "outlinewidth": 0,
              "ticks": ""
             }
            },
            "type": "histogram"
           }
          ],
          "histogram2d": [
           {
            "colorbar": {
             "outlinewidth": 0,
             "ticks": ""
            },
            "colorscale": [
             [
              0,
              "#0d0887"
             ],
             [
              0.1111111111111111,
              "#46039f"
             ],
             [
              0.2222222222222222,
              "#7201a8"
             ],
             [
              0.3333333333333333,
              "#9c179e"
             ],
             [
              0.4444444444444444,
              "#bd3786"
             ],
             [
              0.5555555555555556,
              "#d8576b"
             ],
             [
              0.6666666666666666,
              "#ed7953"
             ],
             [
              0.7777777777777778,
              "#fb9f3a"
             ],
             [
              0.8888888888888888,
              "#fdca26"
             ],
             [
              1,
              "#f0f921"
             ]
            ],
            "type": "histogram2d"
           }
          ],
          "histogram2dcontour": [
           {
            "colorbar": {
             "outlinewidth": 0,
             "ticks": ""
            },
            "colorscale": [
             [
              0,
              "#0d0887"
             ],
             [
              0.1111111111111111,
              "#46039f"
             ],
             [
              0.2222222222222222,
              "#7201a8"
             ],
             [
              0.3333333333333333,
              "#9c179e"
             ],
             [
              0.4444444444444444,
              "#bd3786"
             ],
             [
              0.5555555555555556,
              "#d8576b"
             ],
             [
              0.6666666666666666,
              "#ed7953"
             ],
             [
              0.7777777777777778,
              "#fb9f3a"
             ],
             [
              0.8888888888888888,
              "#fdca26"
             ],
             [
              1,
              "#f0f921"
             ]
            ],
            "type": "histogram2dcontour"
           }
          ],
          "mesh3d": [
           {
            "colorbar": {
             "outlinewidth": 0,
             "ticks": ""
            },
            "type": "mesh3d"
           }
          ],
          "parcoords": [
           {
            "line": {
             "colorbar": {
              "outlinewidth": 0,
              "ticks": ""
             }
            },
            "type": "parcoords"
           }
          ],
          "pie": [
           {
            "automargin": true,
            "type": "pie"
           }
          ],
          "scatter": [
           {
            "marker": {
             "colorbar": {
              "outlinewidth": 0,
              "ticks": ""
             }
            },
            "type": "scatter"
           }
          ],
          "scatter3d": [
           {
            "line": {
             "colorbar": {
              "outlinewidth": 0,
              "ticks": ""
             }
            },
            "marker": {
             "colorbar": {
              "outlinewidth": 0,
              "ticks": ""
             }
            },
            "type": "scatter3d"
           }
          ],
          "scattercarpet": [
           {
            "marker": {
             "colorbar": {
              "outlinewidth": 0,
              "ticks": ""
             }
            },
            "type": "scattercarpet"
           }
          ],
          "scattergeo": [
           {
            "marker": {
             "colorbar": {
              "outlinewidth": 0,
              "ticks": ""
             }
            },
            "type": "scattergeo"
           }
          ],
          "scattergl": [
           {
            "marker": {
             "colorbar": {
              "outlinewidth": 0,
              "ticks": ""
             }
            },
            "type": "scattergl"
           }
          ],
          "scattermapbox": [
           {
            "marker": {
             "colorbar": {
              "outlinewidth": 0,
              "ticks": ""
             }
            },
            "type": "scattermapbox"
           }
          ],
          "scatterpolar": [
           {
            "marker": {
             "colorbar": {
              "outlinewidth": 0,
              "ticks": ""
             }
            },
            "type": "scatterpolar"
           }
          ],
          "scatterpolargl": [
           {
            "marker": {
             "colorbar": {
              "outlinewidth": 0,
              "ticks": ""
             }
            },
            "type": "scatterpolargl"
           }
          ],
          "scatterternary": [
           {
            "marker": {
             "colorbar": {
              "outlinewidth": 0,
              "ticks": ""
             }
            },
            "type": "scatterternary"
           }
          ],
          "surface": [
           {
            "colorbar": {
             "outlinewidth": 0,
             "ticks": ""
            },
            "colorscale": [
             [
              0,
              "#0d0887"
             ],
             [
              0.1111111111111111,
              "#46039f"
             ],
             [
              0.2222222222222222,
              "#7201a8"
             ],
             [
              0.3333333333333333,
              "#9c179e"
             ],
             [
              0.4444444444444444,
              "#bd3786"
             ],
             [
              0.5555555555555556,
              "#d8576b"
             ],
             [
              0.6666666666666666,
              "#ed7953"
             ],
             [
              0.7777777777777778,
              "#fb9f3a"
             ],
             [
              0.8888888888888888,
              "#fdca26"
             ],
             [
              1,
              "#f0f921"
             ]
            ],
            "type": "surface"
           }
          ],
          "table": [
           {
            "cells": {
             "fill": {
              "color": "#EBF0F8"
             },
             "line": {
              "color": "white"
             }
            },
            "header": {
             "fill": {
              "color": "#C8D4E3"
             },
             "line": {
              "color": "white"
             }
            },
            "type": "table"
           }
          ]
         },
         "layout": {
          "annotationdefaults": {
           "arrowcolor": "#2a3f5f",
           "arrowhead": 0,
           "arrowwidth": 1
          },
          "coloraxis": {
           "colorbar": {
            "outlinewidth": 0,
            "ticks": ""
           }
          },
          "colorscale": {
           "diverging": [
            [
             0,
             "#8e0152"
            ],
            [
             0.1,
             "#c51b7d"
            ],
            [
             0.2,
             "#de77ae"
            ],
            [
             0.3,
             "#f1b6da"
            ],
            [
             0.4,
             "#fde0ef"
            ],
            [
             0.5,
             "#f7f7f7"
            ],
            [
             0.6,
             "#e6f5d0"
            ],
            [
             0.7,
             "#b8e186"
            ],
            [
             0.8,
             "#7fbc41"
            ],
            [
             0.9,
             "#4d9221"
            ],
            [
             1,
             "#276419"
            ]
           ],
           "sequential": [
            [
             0,
             "#0d0887"
            ],
            [
             0.1111111111111111,
             "#46039f"
            ],
            [
             0.2222222222222222,
             "#7201a8"
            ],
            [
             0.3333333333333333,
             "#9c179e"
            ],
            [
             0.4444444444444444,
             "#bd3786"
            ],
            [
             0.5555555555555556,
             "#d8576b"
            ],
            [
             0.6666666666666666,
             "#ed7953"
            ],
            [
             0.7777777777777778,
             "#fb9f3a"
            ],
            [
             0.8888888888888888,
             "#fdca26"
            ],
            [
             1,
             "#f0f921"
            ]
           ],
           "sequentialminus": [
            [
             0,
             "#0d0887"
            ],
            [
             0.1111111111111111,
             "#46039f"
            ],
            [
             0.2222222222222222,
             "#7201a8"
            ],
            [
             0.3333333333333333,
             "#9c179e"
            ],
            [
             0.4444444444444444,
             "#bd3786"
            ],
            [
             0.5555555555555556,
             "#d8576b"
            ],
            [
             0.6666666666666666,
             "#ed7953"
            ],
            [
             0.7777777777777778,
             "#fb9f3a"
            ],
            [
             0.8888888888888888,
             "#fdca26"
            ],
            [
             1,
             "#f0f921"
            ]
           ]
          },
          "colorway": [
           "#636efa",
           "#EF553B",
           "#00cc96",
           "#ab63fa",
           "#FFA15A",
           "#19d3f3",
           "#FF6692",
           "#B6E880",
           "#FF97FF",
           "#FECB52"
          ],
          "font": {
           "color": "#2a3f5f"
          },
          "geo": {
           "bgcolor": "white",
           "lakecolor": "white",
           "landcolor": "#E5ECF6",
           "showlakes": true,
           "showland": true,
           "subunitcolor": "white"
          },
          "hoverlabel": {
           "align": "left"
          },
          "hovermode": "closest",
          "mapbox": {
           "style": "light"
          },
          "paper_bgcolor": "white",
          "plot_bgcolor": "#E5ECF6",
          "polar": {
           "angularaxis": {
            "gridcolor": "white",
            "linecolor": "white",
            "ticks": ""
           },
           "bgcolor": "#E5ECF6",
           "radialaxis": {
            "gridcolor": "white",
            "linecolor": "white",
            "ticks": ""
           }
          },
          "scene": {
           "xaxis": {
            "backgroundcolor": "#E5ECF6",
            "gridcolor": "white",
            "gridwidth": 2,
            "linecolor": "white",
            "showbackground": true,
            "ticks": "",
            "zerolinecolor": "white"
           },
           "yaxis": {
            "backgroundcolor": "#E5ECF6",
            "gridcolor": "white",
            "gridwidth": 2,
            "linecolor": "white",
            "showbackground": true,
            "ticks": "",
            "zerolinecolor": "white"
           },
           "zaxis": {
            "backgroundcolor": "#E5ECF6",
            "gridcolor": "white",
            "gridwidth": 2,
            "linecolor": "white",
            "showbackground": true,
            "ticks": "",
            "zerolinecolor": "white"
           }
          },
          "shapedefaults": {
           "line": {
            "color": "#2a3f5f"
           }
          },
          "ternary": {
           "aaxis": {
            "gridcolor": "white",
            "linecolor": "white",
            "ticks": ""
           },
           "baxis": {
            "gridcolor": "white",
            "linecolor": "white",
            "ticks": ""
           },
           "bgcolor": "#E5ECF6",
           "caxis": {
            "gridcolor": "white",
            "linecolor": "white",
            "ticks": ""
           }
          },
          "title": {
           "x": 0.05
          },
          "xaxis": {
           "automargin": true,
           "gridcolor": "white",
           "linecolor": "white",
           "ticks": "",
           "title": {
            "standoff": 15
           },
           "zerolinecolor": "white",
           "zerolinewidth": 2
          },
          "yaxis": {
           "automargin": true,
           "gridcolor": "white",
           "linecolor": "white",
           "ticks": "",
           "title": {
            "standoff": 15
           },
           "zerolinecolor": "white",
           "zerolinewidth": 2
          }
         }
        },
        "title": {
         "text": "Effect of dim in skyline_topk_time | total_points=10000 and k=1"
        },
        "xaxis": {
         "anchor": "y",
         "domain": [
          0,
          0.235
         ],
         "title": {
          "text": "dim"
         },
         "type": "log"
        },
        "xaxis2": {
         "anchor": "y2",
         "domain": [
          0.255,
          0.49
         ],
         "matches": "x",
         "title": {
          "text": "dim"
         },
         "type": "log"
        },
        "xaxis3": {
         "anchor": "y3",
         "domain": [
          0.51,
          0.745
         ],
         "matches": "x",
         "title": {
          "text": "dim"
         },
         "type": "log"
        },
        "xaxis4": {
         "anchor": "y4",
         "domain": [
          0.7649999999999999,
          0.9999999999999999
         ],
         "matches": "x",
         "title": {
          "text": "dim"
         },
         "type": "log"
        },
        "yaxis": {
         "anchor": "x",
         "domain": [
          0,
          1
         ],
         "title": {
          "text": "skyline_topk_time"
         }
        },
        "yaxis2": {
         "anchor": "x2",
         "domain": [
          0,
          1
         ],
         "matches": "y",
         "showticklabels": false
        },
        "yaxis3": {
         "anchor": "x3",
         "domain": [
          0,
          1
         ],
         "matches": "y",
         "showticklabels": false
        },
        "yaxis4": {
         "anchor": "x4",
         "domain": [
          0,
          1
         ],
         "matches": "y",
         "showticklabels": false
        }
       }
      },
      "text/html": [
       "<div>                            <div id=\"d8cead80-4f23-47a0-8f0c-35c5de510002\" class=\"plotly-graph-div\" style=\"height:525px; width:100%;\"></div>            <script type=\"text/javascript\">                require([\"plotly\"], function(Plotly) {                    window.PLOTLYENV=window.PLOTLYENV || {};                                    if (document.getElementById(\"d8cead80-4f23-47a0-8f0c-35c5de510002\")) {                    Plotly.newPlot(                        \"d8cead80-4f23-47a0-8f0c-35c5de510002\",                        [{\"hovertemplate\": \"distribution=anticorrelated<br>cores=1<br>dim=%{x}<br>skyline_topk_time=%{y}<extra></extra>\", \"legendgroup\": \"anticorrelated\", \"marker\": {\"color\": \"#636efa\", \"symbol\": \"circle\"}, \"mode\": \"markers\", \"name\": \"anticorrelated\", \"orientation\": \"v\", \"showlegend\": true, \"type\": \"scatter\", \"x\": [4, 10, 50], \"xaxis\": \"x\", \"y\": [0.044212256, 0.029816479, 0.063868953], \"yaxis\": \"y\"}, {\"hovertemplate\": \"distribution=anticorrelated<br>cores=2<br>dim=%{x}<br>skyline_topk_time=%{y}<extra></extra>\", \"legendgroup\": \"anticorrelated\", \"marker\": {\"color\": \"#636efa\", \"symbol\": \"circle\"}, \"mode\": \"markers\", \"name\": \"anticorrelated\", \"orientation\": \"v\", \"showlegend\": false, \"type\": \"scatter\", \"x\": [4, 10, 50], \"xaxis\": \"x2\", \"y\": [0.031901266, 0.022256439, 0.073999618], \"yaxis\": \"y2\"}, {\"hovertemplate\": \"distribution=anticorrelated<br>cores=4<br>dim=%{x}<br>skyline_topk_time=%{y}<extra></extra>\", \"legendgroup\": \"anticorrelated\", \"marker\": {\"color\": \"#636efa\", \"symbol\": \"circle\"}, \"mode\": \"markers\", \"name\": \"anticorrelated\", \"orientation\": \"v\", \"showlegend\": false, \"type\": \"scatter\", \"x\": [4, 10, 50], \"xaxis\": \"x3\", \"y\": [0.01560396, 0.024993282, 0.091191829], \"yaxis\": \"y3\"}, {\"hovertemplate\": \"distribution=anticorrelated<br>cores=8<br>dim=%{x}<br>skyline_topk_time=%{y}<extra></extra>\", \"legendgroup\": \"anticorrelated\", \"marker\": {\"color\": \"#636efa\", \"symbol\": \"circle\"}, \"mode\": \"markers\", \"name\": \"anticorrelated\", \"orientation\": \"v\", \"showlegend\": false, \"type\": \"scatter\", \"x\": [4, 10, 50], \"xaxis\": \"x4\", \"y\": [0.015269823, 0.023701097, 0.142556365], \"yaxis\": \"y4\"}, {\"hovertemplate\": \"distribution=normal<br>cores=1<br>dim=%{x}<br>skyline_topk_time=%{y}<extra></extra>\", \"legendgroup\": \"normal\", \"marker\": {\"color\": \"#EF553B\", \"symbol\": \"circle\"}, \"mode\": \"markers\", \"name\": \"normal\", \"orientation\": \"v\", \"showlegend\": true, \"type\": \"scatter\", \"x\": [4, 10, 50], \"xaxis\": \"x\", \"y\": [0.011664307, 0.067060125, 0.071681233], \"yaxis\": \"y\"}, {\"hovertemplate\": \"distribution=normal<br>cores=2<br>dim=%{x}<br>skyline_topk_time=%{y}<extra></extra>\", \"legendgroup\": \"normal\", \"marker\": {\"color\": \"#EF553B\", \"symbol\": \"circle\"}, \"mode\": \"markers\", \"name\": \"normal\", \"orientation\": \"v\", \"showlegend\": false, \"type\": \"scatter\", \"x\": [4, 10, 50], \"xaxis\": \"x2\", \"y\": [0.011634271, 0.041273684, 0.07862873], \"yaxis\": \"y2\"}, {\"hovertemplate\": \"distribution=normal<br>cores=4<br>dim=%{x}<br>skyline_topk_time=%{y}<extra></extra>\", \"legendgroup\": \"normal\", \"marker\": {\"color\": \"#EF553B\", \"symbol\": \"circle\"}, \"mode\": \"markers\", \"name\": \"normal\", \"orientation\": \"v\", \"showlegend\": false, \"type\": \"scatter\", \"x\": [4, 10, 50], \"xaxis\": \"x3\", \"y\": [0.010578981, 0.035110741, 0.088098479], \"yaxis\": \"y3\"}, {\"hovertemplate\": \"distribution=normal<br>cores=8<br>dim=%{x}<br>skyline_topk_time=%{y}<extra></extra>\", \"legendgroup\": \"normal\", \"marker\": {\"color\": \"#EF553B\", \"symbol\": \"circle\"}, \"mode\": \"markers\", \"name\": \"normal\", \"orientation\": \"v\", \"showlegend\": false, \"type\": \"scatter\", \"x\": [4, 10, 50], \"xaxis\": \"x4\", \"y\": [0.009811386, 0.034736093, 0.120221963], \"yaxis\": \"y4\"}, {\"hovertemplate\": \"distribution=uniform<br>cores=1<br>dim=%{x}<br>skyline_topk_time=%{y}<extra></extra>\", \"legendgroup\": \"uniform\", \"marker\": {\"color\": \"#00cc96\", \"symbol\": \"circle\"}, \"mode\": \"markers\", \"name\": \"uniform\", \"orientation\": \"v\", \"showlegend\": true, \"type\": \"scatter\", \"x\": [4, 10, 50], \"xaxis\": \"x\", \"y\": [0.011353368, 0.084939453, 0.087106311], \"yaxis\": \"y\"}, {\"hovertemplate\": \"distribution=uniform<br>cores=2<br>dim=%{x}<br>skyline_topk_time=%{y}<extra></extra>\", \"legendgroup\": \"uniform\", \"marker\": {\"color\": \"#00cc96\", \"symbol\": \"circle\"}, \"mode\": \"markers\", \"name\": \"uniform\", \"orientation\": \"v\", \"showlegend\": false, \"type\": \"scatter\", \"x\": [4, 10, 50], \"xaxis\": \"x2\", \"y\": [0.009688146, 0.042813069, 0.089018169], \"yaxis\": \"y2\"}, {\"hovertemplate\": \"distribution=uniform<br>cores=4<br>dim=%{x}<br>skyline_topk_time=%{y}<extra></extra>\", \"legendgroup\": \"uniform\", \"marker\": {\"color\": \"#00cc96\", \"symbol\": \"circle\"}, \"mode\": \"markers\", \"name\": \"uniform\", \"orientation\": \"v\", \"showlegend\": false, \"type\": \"scatter\", \"x\": [4, 10, 50], \"xaxis\": \"x3\", \"y\": [0.009598249, 0.036010322, 0.094160341], \"yaxis\": \"y3\"}, {\"hovertemplate\": \"distribution=uniform<br>cores=8<br>dim=%{x}<br>skyline_topk_time=%{y}<extra></extra>\", \"legendgroup\": \"uniform\", \"marker\": {\"color\": \"#00cc96\", \"symbol\": \"circle\"}, \"mode\": \"markers\", \"name\": \"uniform\", \"orientation\": \"v\", \"showlegend\": false, \"type\": \"scatter\", \"x\": [4, 10, 50], \"xaxis\": \"x4\", \"y\": [0.009276261, 0.027580129, 0.119623241], \"yaxis\": \"y4\"}, {\"hovertemplate\": \"distribution=correlated<br>cores=1<br>dim=%{x}<br>skyline_topk_time=%{y}<extra></extra>\", \"legendgroup\": \"correlated\", \"marker\": {\"color\": \"#ab63fa\", \"symbol\": \"circle\"}, \"mode\": \"markers\", \"name\": \"correlated\", \"orientation\": \"v\", \"showlegend\": true, \"type\": \"scatter\", \"x\": [4, 10, 50], \"xaxis\": \"x\", \"y\": [0.040381625, 0.06098563, 0.076766797], \"yaxis\": \"y\"}, {\"hovertemplate\": \"distribution=correlated<br>cores=2<br>dim=%{x}<br>skyline_topk_time=%{y}<extra></extra>\", \"legendgroup\": \"correlated\", \"marker\": {\"color\": \"#ab63fa\", \"symbol\": \"circle\"}, \"mode\": \"markers\", \"name\": \"correlated\", \"orientation\": \"v\", \"showlegend\": false, \"type\": \"scatter\", \"x\": [4, 10, 50], \"xaxis\": \"x2\", \"y\": [0.034136329, 0.043405468, 0.074101374], \"yaxis\": \"y2\"}, {\"hovertemplate\": \"distribution=correlated<br>cores=4<br>dim=%{x}<br>skyline_topk_time=%{y}<extra></extra>\", \"legendgroup\": \"correlated\", \"marker\": {\"color\": \"#ab63fa\", \"symbol\": \"circle\"}, \"mode\": \"markers\", \"name\": \"correlated\", \"orientation\": \"v\", \"showlegend\": false, \"type\": \"scatter\", \"x\": [4, 10, 50], \"xaxis\": \"x3\", \"y\": [0.022033893, 0.027219, 0.072219049], \"yaxis\": \"y3\"}, {\"hovertemplate\": \"distribution=correlated<br>cores=8<br>dim=%{x}<br>skyline_topk_time=%{y}<extra></extra>\", \"legendgroup\": \"correlated\", \"marker\": {\"color\": \"#ab63fa\", \"symbol\": \"circle\"}, \"mode\": \"markers\", \"name\": \"correlated\", \"orientation\": \"v\", \"showlegend\": false, \"type\": \"scatter\", \"x\": [4, 10, 50], \"xaxis\": \"x4\", \"y\": [0.013643442, 0.022675568, 0.140111695], \"yaxis\": \"y4\"}],                        {\"annotations\": [{\"font\": {}, \"showarrow\": false, \"text\": \"cores=1\", \"x\": 0.1175, \"xanchor\": \"center\", \"xref\": \"paper\", \"y\": 1.0, \"yanchor\": \"bottom\", \"yref\": \"paper\"}, {\"font\": {}, \"showarrow\": false, \"text\": \"cores=2\", \"x\": 0.3725, \"xanchor\": \"center\", \"xref\": \"paper\", \"y\": 1.0, \"yanchor\": \"bottom\", \"yref\": \"paper\"}, {\"font\": {}, \"showarrow\": false, \"text\": \"cores=4\", \"x\": 0.6275, \"xanchor\": \"center\", \"xref\": \"paper\", \"y\": 1.0, \"yanchor\": \"bottom\", \"yref\": \"paper\"}, {\"font\": {}, \"showarrow\": false, \"text\": \"cores=8\", \"x\": 0.8824999999999998, \"xanchor\": \"center\", \"xref\": \"paper\", \"y\": 1.0, \"yanchor\": \"bottom\", \"yref\": \"paper\"}], \"legend\": {\"title\": {\"text\": \"distribution\"}, \"tracegroupgap\": 0}, \"margin\": {\"t\": 60}, \"template\": {\"data\": {\"bar\": [{\"error_x\": {\"color\": \"#2a3f5f\"}, \"error_y\": {\"color\": \"#2a3f5f\"}, \"marker\": {\"line\": {\"color\": \"#E5ECF6\", \"width\": 0.5}}, \"type\": \"bar\"}], \"barpolar\": [{\"marker\": {\"line\": {\"color\": \"#E5ECF6\", \"width\": 0.5}}, \"type\": \"barpolar\"}], \"carpet\": [{\"aaxis\": {\"endlinecolor\": \"#2a3f5f\", \"gridcolor\": \"white\", \"linecolor\": \"white\", \"minorgridcolor\": \"white\", \"startlinecolor\": \"#2a3f5f\"}, \"baxis\": {\"endlinecolor\": \"#2a3f5f\", \"gridcolor\": \"white\", \"linecolor\": \"white\", \"minorgridcolor\": \"white\", \"startlinecolor\": \"#2a3f5f\"}, \"type\": \"carpet\"}], \"choropleth\": [{\"colorbar\": {\"outlinewidth\": 0, \"ticks\": \"\"}, \"type\": \"choropleth\"}], \"contour\": [{\"colorbar\": {\"outlinewidth\": 0, \"ticks\": \"\"}, \"colorscale\": [[0.0, \"#0d0887\"], [0.1111111111111111, \"#46039f\"], [0.2222222222222222, \"#7201a8\"], [0.3333333333333333, \"#9c179e\"], [0.4444444444444444, \"#bd3786\"], [0.5555555555555556, \"#d8576b\"], [0.6666666666666666, \"#ed7953\"], [0.7777777777777778, \"#fb9f3a\"], [0.8888888888888888, \"#fdca26\"], [1.0, \"#f0f921\"]], \"type\": \"contour\"}], \"contourcarpet\": [{\"colorbar\": {\"outlinewidth\": 0, \"ticks\": \"\"}, \"type\": \"contourcarpet\"}], \"heatmap\": [{\"colorbar\": {\"outlinewidth\": 0, \"ticks\": \"\"}, \"colorscale\": [[0.0, \"#0d0887\"], [0.1111111111111111, \"#46039f\"], [0.2222222222222222, \"#7201a8\"], [0.3333333333333333, \"#9c179e\"], [0.4444444444444444, \"#bd3786\"], [0.5555555555555556, \"#d8576b\"], [0.6666666666666666, \"#ed7953\"], [0.7777777777777778, \"#fb9f3a\"], [0.8888888888888888, \"#fdca26\"], [1.0, \"#f0f921\"]], \"type\": \"heatmap\"}], \"heatmapgl\": [{\"colorbar\": {\"outlinewidth\": 0, \"ticks\": \"\"}, \"colorscale\": [[0.0, \"#0d0887\"], [0.1111111111111111, \"#46039f\"], [0.2222222222222222, \"#7201a8\"], [0.3333333333333333, \"#9c179e\"], [0.4444444444444444, \"#bd3786\"], [0.5555555555555556, \"#d8576b\"], [0.6666666666666666, \"#ed7953\"], [0.7777777777777778, \"#fb9f3a\"], [0.8888888888888888, \"#fdca26\"], [1.0, \"#f0f921\"]], \"type\": \"heatmapgl\"}], \"histogram\": [{\"marker\": {\"colorbar\": {\"outlinewidth\": 0, \"ticks\": \"\"}}, \"type\": \"histogram\"}], \"histogram2d\": [{\"colorbar\": {\"outlinewidth\": 0, \"ticks\": \"\"}, \"colorscale\": [[0.0, \"#0d0887\"], [0.1111111111111111, \"#46039f\"], [0.2222222222222222, \"#7201a8\"], [0.3333333333333333, \"#9c179e\"], [0.4444444444444444, \"#bd3786\"], [0.5555555555555556, \"#d8576b\"], [0.6666666666666666, \"#ed7953\"], [0.7777777777777778, \"#fb9f3a\"], [0.8888888888888888, \"#fdca26\"], [1.0, \"#f0f921\"]], \"type\": \"histogram2d\"}], \"histogram2dcontour\": [{\"colorbar\": {\"outlinewidth\": 0, \"ticks\": \"\"}, \"colorscale\": [[0.0, \"#0d0887\"], [0.1111111111111111, \"#46039f\"], [0.2222222222222222, \"#7201a8\"], [0.3333333333333333, \"#9c179e\"], [0.4444444444444444, \"#bd3786\"], [0.5555555555555556, \"#d8576b\"], [0.6666666666666666, \"#ed7953\"], [0.7777777777777778, \"#fb9f3a\"], [0.8888888888888888, \"#fdca26\"], [1.0, \"#f0f921\"]], \"type\": \"histogram2dcontour\"}], \"mesh3d\": [{\"colorbar\": {\"outlinewidth\": 0, \"ticks\": \"\"}, \"type\": \"mesh3d\"}], \"parcoords\": [{\"line\": {\"colorbar\": {\"outlinewidth\": 0, \"ticks\": \"\"}}, \"type\": \"parcoords\"}], \"pie\": [{\"automargin\": true, \"type\": \"pie\"}], \"scatter\": [{\"marker\": {\"colorbar\": {\"outlinewidth\": 0, \"ticks\": \"\"}}, \"type\": \"scatter\"}], \"scatter3d\": [{\"line\": {\"colorbar\": {\"outlinewidth\": 0, \"ticks\": \"\"}}, \"marker\": {\"colorbar\": {\"outlinewidth\": 0, \"ticks\": \"\"}}, \"type\": \"scatter3d\"}], \"scattercarpet\": [{\"marker\": {\"colorbar\": {\"outlinewidth\": 0, \"ticks\": \"\"}}, \"type\": \"scattercarpet\"}], \"scattergeo\": [{\"marker\": {\"colorbar\": {\"outlinewidth\": 0, \"ticks\": \"\"}}, \"type\": \"scattergeo\"}], \"scattergl\": [{\"marker\": {\"colorbar\": {\"outlinewidth\": 0, \"ticks\": \"\"}}, \"type\": \"scattergl\"}], \"scattermapbox\": [{\"marker\": {\"colorbar\": {\"outlinewidth\": 0, \"ticks\": \"\"}}, \"type\": \"scattermapbox\"}], \"scatterpolar\": [{\"marker\": {\"colorbar\": {\"outlinewidth\": 0, \"ticks\": \"\"}}, \"type\": \"scatterpolar\"}], \"scatterpolargl\": [{\"marker\": {\"colorbar\": {\"outlinewidth\": 0, \"ticks\": \"\"}}, \"type\": \"scatterpolargl\"}], \"scatterternary\": [{\"marker\": {\"colorbar\": {\"outlinewidth\": 0, \"ticks\": \"\"}}, \"type\": \"scatterternary\"}], \"surface\": [{\"colorbar\": {\"outlinewidth\": 0, \"ticks\": \"\"}, \"colorscale\": [[0.0, \"#0d0887\"], [0.1111111111111111, \"#46039f\"], [0.2222222222222222, \"#7201a8\"], [0.3333333333333333, \"#9c179e\"], [0.4444444444444444, \"#bd3786\"], [0.5555555555555556, \"#d8576b\"], [0.6666666666666666, \"#ed7953\"], [0.7777777777777778, \"#fb9f3a\"], [0.8888888888888888, \"#fdca26\"], [1.0, \"#f0f921\"]], \"type\": \"surface\"}], \"table\": [{\"cells\": {\"fill\": {\"color\": \"#EBF0F8\"}, \"line\": {\"color\": \"white\"}}, \"header\": {\"fill\": {\"color\": \"#C8D4E3\"}, \"line\": {\"color\": \"white\"}}, \"type\": \"table\"}]}, \"layout\": {\"annotationdefaults\": {\"arrowcolor\": \"#2a3f5f\", \"arrowhead\": 0, \"arrowwidth\": 1}, \"coloraxis\": {\"colorbar\": {\"outlinewidth\": 0, \"ticks\": \"\"}}, \"colorscale\": {\"diverging\": [[0, \"#8e0152\"], [0.1, \"#c51b7d\"], [0.2, \"#de77ae\"], [0.3, \"#f1b6da\"], [0.4, \"#fde0ef\"], [0.5, \"#f7f7f7\"], [0.6, \"#e6f5d0\"], [0.7, \"#b8e186\"], [0.8, \"#7fbc41\"], [0.9, \"#4d9221\"], [1, \"#276419\"]], \"sequential\": [[0.0, \"#0d0887\"], [0.1111111111111111, \"#46039f\"], [0.2222222222222222, \"#7201a8\"], [0.3333333333333333, \"#9c179e\"], [0.4444444444444444, \"#bd3786\"], [0.5555555555555556, \"#d8576b\"], [0.6666666666666666, \"#ed7953\"], [0.7777777777777778, \"#fb9f3a\"], [0.8888888888888888, \"#fdca26\"], [1.0, \"#f0f921\"]], \"sequentialminus\": [[0.0, \"#0d0887\"], [0.1111111111111111, \"#46039f\"], [0.2222222222222222, \"#7201a8\"], [0.3333333333333333, \"#9c179e\"], [0.4444444444444444, \"#bd3786\"], [0.5555555555555556, \"#d8576b\"], [0.6666666666666666, \"#ed7953\"], [0.7777777777777778, \"#fb9f3a\"], [0.8888888888888888, \"#fdca26\"], [1.0, \"#f0f921\"]]}, \"colorway\": [\"#636efa\", \"#EF553B\", \"#00cc96\", \"#ab63fa\", \"#FFA15A\", \"#19d3f3\", \"#FF6692\", \"#B6E880\", \"#FF97FF\", \"#FECB52\"], \"font\": {\"color\": \"#2a3f5f\"}, \"geo\": {\"bgcolor\": \"white\", \"lakecolor\": \"white\", \"landcolor\": \"#E5ECF6\", \"showlakes\": true, \"showland\": true, \"subunitcolor\": \"white\"}, \"hoverlabel\": {\"align\": \"left\"}, \"hovermode\": \"closest\", \"mapbox\": {\"style\": \"light\"}, \"paper_bgcolor\": \"white\", \"plot_bgcolor\": \"#E5ECF6\", \"polar\": {\"angularaxis\": {\"gridcolor\": \"white\", \"linecolor\": \"white\", \"ticks\": \"\"}, \"bgcolor\": \"#E5ECF6\", \"radialaxis\": {\"gridcolor\": \"white\", \"linecolor\": \"white\", \"ticks\": \"\"}}, \"scene\": {\"xaxis\": {\"backgroundcolor\": \"#E5ECF6\", \"gridcolor\": \"white\", \"gridwidth\": 2, \"linecolor\": \"white\", \"showbackground\": true, \"ticks\": \"\", \"zerolinecolor\": \"white\"}, \"yaxis\": {\"backgroundcolor\": \"#E5ECF6\", \"gridcolor\": \"white\", \"gridwidth\": 2, \"linecolor\": \"white\", \"showbackground\": true, \"ticks\": \"\", \"zerolinecolor\": \"white\"}, \"zaxis\": {\"backgroundcolor\": \"#E5ECF6\", \"gridcolor\": \"white\", \"gridwidth\": 2, \"linecolor\": \"white\", \"showbackground\": true, \"ticks\": \"\", \"zerolinecolor\": \"white\"}}, \"shapedefaults\": {\"line\": {\"color\": \"#2a3f5f\"}}, \"ternary\": {\"aaxis\": {\"gridcolor\": \"white\", \"linecolor\": \"white\", \"ticks\": \"\"}, \"baxis\": {\"gridcolor\": \"white\", \"linecolor\": \"white\", \"ticks\": \"\"}, \"bgcolor\": \"#E5ECF6\", \"caxis\": {\"gridcolor\": \"white\", \"linecolor\": \"white\", \"ticks\": \"\"}}, \"title\": {\"x\": 0.05}, \"xaxis\": {\"automargin\": true, \"gridcolor\": \"white\", \"linecolor\": \"white\", \"ticks\": \"\", \"title\": {\"standoff\": 15}, \"zerolinecolor\": \"white\", \"zerolinewidth\": 2}, \"yaxis\": {\"automargin\": true, \"gridcolor\": \"white\", \"linecolor\": \"white\", \"ticks\": \"\", \"title\": {\"standoff\": 15}, \"zerolinecolor\": \"white\", \"zerolinewidth\": 2}}}, \"title\": {\"text\": \"Effect of dim in skyline_topk_time | total_points=10000 and k=1\"}, \"xaxis\": {\"anchor\": \"y\", \"domain\": [0.0, 0.235], \"title\": {\"text\": \"dim\"}, \"type\": \"log\"}, \"xaxis2\": {\"anchor\": \"y2\", \"domain\": [0.255, 0.49], \"matches\": \"x\", \"title\": {\"text\": \"dim\"}, \"type\": \"log\"}, \"xaxis3\": {\"anchor\": \"y3\", \"domain\": [0.51, 0.745], \"matches\": \"x\", \"title\": {\"text\": \"dim\"}, \"type\": \"log\"}, \"xaxis4\": {\"anchor\": \"y4\", \"domain\": [0.7649999999999999, 0.9999999999999999], \"matches\": \"x\", \"title\": {\"text\": \"dim\"}, \"type\": \"log\"}, \"yaxis\": {\"anchor\": \"x\", \"domain\": [0.0, 1.0], \"title\": {\"text\": \"skyline_topk_time\"}}, \"yaxis2\": {\"anchor\": \"x2\", \"domain\": [0.0, 1.0], \"matches\": \"y\", \"showticklabels\": false}, \"yaxis3\": {\"anchor\": \"x3\", \"domain\": [0.0, 1.0], \"matches\": \"y\", \"showticklabels\": false}, \"yaxis4\": {\"anchor\": \"x4\", \"domain\": [0.0, 1.0], \"matches\": \"y\", \"showticklabels\": false}},                        {\"responsive\": true}                    ).then(function(){\n",
       "                            \n",
       "var gd = document.getElementById('d8cead80-4f23-47a0-8f0c-35c5de510002');\n",
       "var x = new MutationObserver(function (mutations, observer) {{\n",
       "        var display = window.getComputedStyle(gd).display;\n",
       "        if (!display || display === 'none') {{\n",
       "            console.log([gd, 'removed!']);\n",
       "            Plotly.purge(gd);\n",
       "            observer.disconnect();\n",
       "        }}\n",
       "}});\n",
       "\n",
       "// Listen for the removal of the full notebook cells\n",
       "var notebookContainer = gd.closest('#notebook-container');\n",
       "if (notebookContainer) {{\n",
       "    x.observe(notebookContainer, {childList: true});\n",
       "}}\n",
       "\n",
       "// Listen for the clearing of the current output cell\n",
       "var outputEl = gd.closest('.output');\n",
       "if (outputEl) {{\n",
       "    x.observe(outputEl, {childList: true});\n",
       "}}\n",
       "\n",
       "                        })                };                });            </script>        </div>"
      ]
     },
     "metadata": {},
     "output_type": "display_data"
    }
   ],
   "source": [
    "# Scatter plots\n",
    "\n",
    "# FIX: k effect, total_points\n",
    "# Study: dim\n",
    "\n",
    "experiment_times_subset = experiment_times[(experiment_times[\"total_points\"]==10000) &\n",
    "                                           (experiment_times[\"k\"]==1)]\n",
    "\n",
    "print(f\"Select {len(experiment_times_subset)} experiments\")\n",
    "\n",
    "fig = px.scatter(experiment_times_subset,\n",
    "                 x=\"dim\",\n",
    "                 y=feature_time,\n",
    "                 log_x=True,\n",
    "                 color=\"distribution\",\n",
    "                 facet_col=\"cores\")\n",
    "\n",
    "fig.update_layout(\n",
    "    title=f\"Effect of dim in {feature_time} | total_points=10000 and k=1\",\n",
    ")\n",
    "    \n",
    "fig.show()"
   ]
  },
  {
   "cell_type": "code",
   "execution_count": 85,
   "metadata": {},
   "outputs": [],
   "source": [
    "# Save plot as html\n",
    "fig.write_html(f\"dim_effect.html\")"
   ]
  },
  {
   "cell_type": "markdown",
   "metadata": {},
   "source": [
    "## Parallel Coordinates plot"
   ]
  },
  {
   "cell_type": "code",
   "execution_count": 50,
   "metadata": {},
   "outputs": [],
   "source": [
    "# Fix datatypes for plots\n",
    "\n",
    "distribution_map = {\"uniform\":1, \"normal\":2, \"correlated\":3, \"anticorrelated\":4}\n",
    "experiment_times[\"distribution\"] = experiment_times[\"distribution\"].replace(distribution_map)\n",
    "\n",
    "total_points_map = {10000:1, 100000:2, 1000000:3}\n",
    "experiment_times[\"total_points\"] = experiment_times[\"total_points\"].replace(total_points_map).astype(int)\n",
    "\n",
    "dim_map = {2:1, 4:2, 10:3, 50:4}\n",
    "experiment_times[\"dim\"] = experiment_times[\"dim\"].replace(dim_map).astype(int)"
   ]
  },
  {
   "cell_type": "code",
   "execution_count": 51,
   "metadata": {},
   "outputs": [
    {
     "data": {
      "text/plain": [
       "datapath              object\n",
       "cores                  int64\n",
       "k                      int64\n",
       "create_rdd_time      float64\n",
       "skyline_time         float64\n",
       "topk_time            float64\n",
       "skyline_topk_time    float64\n",
       "total_points           int64\n",
       "dim                    int64\n",
       "distribution           int64\n",
       "dtype: object"
      ]
     },
     "execution_count": 51,
     "metadata": {},
     "output_type": "execute_result"
    }
   ],
   "source": [
    "# Check Data types\n",
    "experiment_times.dtypes"
   ]
  },
  {
   "cell_type": "code",
   "execution_count": 63,
   "metadata": {},
   "outputs": [],
   "source": [
    "# Select time feature to study\n",
    "\n",
    "# skyline_time, topk_time, skyline_topk_time\n",
    "feature_time = \"skyline_topk_time\""
   ]
  },
  {
   "cell_type": "code",
   "execution_count": 64,
   "metadata": {
    "scrolled": false
   },
   "outputs": [
    {
     "data": {
      "application/vnd.plotly.v1+json": {
       "config": {
        "plotlyServerURL": "https://plot.ly"
       },
       "data": [
        {
         "dimensions": [
          {
           "label": "Data distribution",
           "ticktext": [
            "uniform",
            "normal",
            "correlated",
            "anticorrelated"
           ],
           "tickvals": [
            1,
            2,
            3,
            4
           ],
           "values": [
            4,
            4,
            4,
            4,
            4,
            4,
            4,
            4,
            4,
            4,
            4,
            4,
            4,
            4,
            4,
            4,
            2,
            2,
            2,
            2,
            2,
            2,
            2,
            2,
            2,
            2,
            2,
            2,
            2,
            2,
            2,
            2,
            1,
            1,
            1,
            1,
            1,
            1,
            1,
            1,
            1,
            1,
            1,
            1,
            1,
            1,
            1,
            1,
            4,
            4,
            4,
            4,
            4,
            4,
            4,
            4,
            4,
            4,
            4,
            4,
            4,
            4,
            4,
            4,
            3,
            3,
            3,
            3,
            3,
            3,
            3,
            3,
            3,
            3,
            3,
            3,
            3,
            3,
            3,
            3,
            1,
            1,
            1,
            1,
            1,
            1,
            1,
            1,
            1,
            1,
            1,
            1,
            1,
            1,
            1,
            1,
            3,
            3,
            3,
            3,
            3,
            3,
            3,
            3,
            3,
            3,
            3,
            3,
            3,
            3,
            3,
            3,
            1,
            1,
            3,
            3,
            3,
            3,
            3,
            3,
            3,
            3,
            3,
            3,
            3,
            3,
            3,
            3,
            3,
            3,
            2,
            2,
            2,
            2,
            2,
            2,
            2,
            2,
            1,
            1,
            1,
            1,
            3,
            3,
            3,
            3,
            1,
            1,
            1,
            1,
            2,
            2,
            2,
            2,
            3,
            3,
            3,
            3,
            4,
            4,
            4,
            4
           ]
          },
          {
           "label": "Total data points",
           "ticktext": [
            10000,
            100000,
            1000000
           ],
           "tickvals": [
            1,
            2,
            3
           ],
           "values": [
            1,
            1,
            1,
            1,
            1,
            1,
            1,
            1,
            1,
            1,
            1,
            1,
            1,
            1,
            1,
            1,
            1,
            1,
            1,
            1,
            1,
            1,
            1,
            1,
            1,
            1,
            1,
            1,
            1,
            1,
            1,
            1,
            1,
            1,
            1,
            1,
            1,
            1,
            1,
            1,
            1,
            1,
            1,
            1,
            1,
            1,
            1,
            1,
            1,
            1,
            1,
            1,
            1,
            1,
            1,
            1,
            1,
            1,
            1,
            1,
            1,
            1,
            1,
            1,
            3,
            3,
            3,
            3,
            3,
            3,
            3,
            3,
            3,
            3,
            3,
            3,
            3,
            3,
            3,
            3,
            2,
            2,
            2,
            2,
            2,
            2,
            2,
            2,
            2,
            2,
            2,
            2,
            2,
            2,
            2,
            2,
            2,
            2,
            2,
            2,
            2,
            2,
            2,
            2,
            2,
            2,
            2,
            2,
            2,
            2,
            2,
            2,
            3,
            3,
            1,
            1,
            1,
            1,
            1,
            1,
            1,
            1,
            1,
            1,
            1,
            1,
            1,
            1,
            1,
            1,
            1,
            1,
            1,
            1,
            2,
            2,
            2,
            2,
            1,
            1,
            1,
            1,
            1,
            1,
            1,
            1,
            1,
            1,
            1,
            1,
            1,
            1,
            1,
            1,
            1,
            1,
            1,
            1,
            1,
            1,
            1,
            1
           ]
          },
          {
           "label": "Data points dim",
           "ticktext": [
            2,
            4,
            10,
            50
           ],
           "tickvals": [
            1,
            2,
            3,
            4
           ],
           "values": [
            2,
            2,
            2,
            2,
            2,
            2,
            2,
            2,
            2,
            2,
            2,
            2,
            2,
            2,
            2,
            2,
            2,
            2,
            2,
            2,
            2,
            2,
            2,
            2,
            2,
            2,
            2,
            2,
            2,
            2,
            2,
            2,
            2,
            2,
            2,
            2,
            2,
            2,
            2,
            2,
            2,
            2,
            2,
            2,
            2,
            2,
            2,
            2,
            3,
            3,
            3,
            3,
            3,
            3,
            3,
            3,
            3,
            3,
            3,
            3,
            3,
            3,
            3,
            3,
            3,
            3,
            3,
            3,
            3,
            3,
            3,
            3,
            3,
            3,
            3,
            3,
            3,
            3,
            3,
            3,
            3,
            3,
            3,
            3,
            3,
            3,
            3,
            3,
            3,
            3,
            3,
            3,
            3,
            3,
            3,
            3,
            3,
            3,
            3,
            3,
            3,
            3,
            3,
            3,
            3,
            3,
            3,
            3,
            3,
            3,
            3,
            3,
            1,
            1,
            2,
            2,
            2,
            2,
            2,
            2,
            2,
            2,
            2,
            2,
            2,
            2,
            2,
            2,
            2,
            2,
            3,
            3,
            3,
            3,
            3,
            3,
            3,
            3,
            3,
            3,
            3,
            3,
            3,
            3,
            3,
            3,
            4,
            4,
            4,
            4,
            4,
            4,
            4,
            4,
            4,
            4,
            4,
            4,
            4,
            4,
            4,
            4
           ]
          },
          {
           "label": "Number of Cores",
           "range": [
            1,
            8
           ],
           "values": [
            1,
            1,
            1,
            1,
            2,
            2,
            2,
            2,
            4,
            4,
            4,
            4,
            8,
            8,
            8,
            8,
            1,
            1,
            1,
            1,
            2,
            2,
            2,
            2,
            4,
            4,
            4,
            4,
            8,
            8,
            8,
            8,
            1,
            1,
            1,
            1,
            2,
            2,
            2,
            2,
            4,
            4,
            4,
            4,
            8,
            8,
            8,
            8,
            1,
            1,
            1,
            1,
            2,
            2,
            2,
            2,
            4,
            4,
            4,
            4,
            8,
            8,
            8,
            8,
            1,
            1,
            1,
            1,
            2,
            2,
            2,
            2,
            4,
            4,
            4,
            4,
            8,
            8,
            8,
            8,
            1,
            1,
            1,
            1,
            2,
            2,
            2,
            2,
            4,
            4,
            4,
            4,
            8,
            8,
            8,
            8,
            1,
            1,
            1,
            1,
            2,
            2,
            2,
            2,
            4,
            4,
            4,
            4,
            8,
            8,
            8,
            8,
            1,
            1,
            1,
            1,
            1,
            1,
            2,
            2,
            2,
            2,
            4,
            4,
            4,
            4,
            8,
            8,
            8,
            8,
            1,
            2,
            4,
            8,
            1,
            2,
            4,
            8,
            1,
            2,
            4,
            8,
            1,
            2,
            4,
            8,
            8,
            4,
            2,
            1,
            8,
            4,
            2,
            1,
            8,
            4,
            2,
            1,
            8,
            4,
            2,
            1
           ]
          },
          {
           "label": "k (Number of points to return)",
           "range": [
            0,
            100
           ],
           "values": [
            1,
            10,
            50,
            100,
            1,
            10,
            50,
            100,
            1,
            10,
            50,
            100,
            1,
            10,
            50,
            100,
            1,
            10,
            50,
            100,
            1,
            10,
            50,
            100,
            1,
            10,
            50,
            100,
            1,
            10,
            50,
            100,
            1,
            10,
            50,
            100,
            1,
            10,
            50,
            100,
            1,
            10,
            50,
            100,
            1,
            10,
            50,
            100,
            1,
            10,
            50,
            100,
            1,
            10,
            50,
            100,
            1,
            10,
            50,
            100,
            1,
            10,
            50,
            100,
            1,
            10,
            50,
            100,
            1,
            10,
            50,
            100,
            1,
            10,
            50,
            100,
            1,
            10,
            50,
            100,
            1,
            10,
            50,
            100,
            1,
            10,
            50,
            100,
            1,
            10,
            50,
            100,
            1,
            10,
            50,
            100,
            1,
            10,
            50,
            100,
            1,
            10,
            50,
            100,
            1,
            10,
            50,
            100,
            1,
            10,
            50,
            100,
            1,
            10,
            1,
            10,
            50,
            100,
            1,
            10,
            50,
            100,
            1,
            10,
            50,
            100,
            1,
            10,
            50,
            100,
            1,
            1,
            1,
            1,
            1,
            1,
            1,
            1,
            1,
            1,
            1,
            1,
            1,
            1,
            1,
            1,
            1,
            1,
            1,
            1,
            1,
            1,
            1,
            1,
            1,
            1,
            1,
            1,
            1,
            1,
            1,
            1
           ]
          },
          {
           "label": "Time",
           "range": [
            0.009276261,
            946.956744806
           ],
           "values": [
            0.044212256,
            0.039798562,
            0.033380045,
            0.029572076,
            0.031901266,
            0.027016502,
            0.410171223,
            0.403973456,
            0.01560396,
            0.014510651,
            0.270616551,
            0.453444437,
            0.015269823,
            0.013479096,
            0.402500819,
            0.410619458,
            0.011664307,
            0.011381626,
            0.010946331,
            0.011994315,
            0.011634271,
            0.453892715,
            0.397015425,
            0.392640539,
            0.010578981,
            0.399726952,
            0.403672554,
            0.400112816,
            0.009811386,
            0.401111802,
            0.397793422,
            0.392565304,
            0.011353368,
            0.01021246,
            0.011175594,
            0.010269286,
            0.009688146,
            0.411188213,
            0.394657004,
            0.395858835,
            0.009598249,
            0.397789698,
            0.284323896,
            0.395424078,
            0.009276261,
            0.396044694,
            0.402238912,
            0.389774099,
            0.029816479,
            0.031161525,
            0.053381556,
            0.098539385,
            0.022256439,
            0.028572494,
            0.04156765,
            0.046773776,
            0.024993282,
            0.025176986,
            0.039935763,
            0.044058468,
            0.023701097,
            0.025216058,
            0.037675906,
            0.054304428,
            0.034452565,
            0.040080218,
            593.975729095,
            762.337452122,
            0.064623484,
            0.058826584,
            795.129479606,
            580.506645482,
            0.029934042,
            0.03047349,
            514.417151995,
            725.729786541,
            0.092893455,
            0.058934435,
            946.956744806,
            509.908108707,
            0.059417503,
            0.066819578,
            0.132332548,
            0.216886714,
            0.07511172,
            0.076652769,
            0.10450752,
            0.133746095,
            0.058566263,
            0.072857112,
            0.09014797,
            0.146319108,
            0.064390749,
            0.066529727,
            0.124542081,
            0.165811358,
            0.020998808,
            0.027688222,
            0.046123487,
            0.048458027,
            0.024648166,
            0.02549775,
            204.770205967,
            65.521733148,
            0.025079005,
            0.023475018,
            209.446960709,
            58.82875299,
            0.025716199,
            0.023800546,
            205.753283692,
            58.278993193,
            0.035603765,
            256.65422702,
            0.040381625,
            0.028293599,
            0.026229623,
            0.030353421,
            0.034136329,
            0.678408323,
            0.656446364,
            0.623668468,
            0.022033893,
            0.648874318,
            0.607751594,
            0.672947322,
            0.013643442,
            0.570668402,
            0.541283689,
            0.669671852,
            0.067060125,
            0.041273684,
            0.035110741,
            0.034736093,
            0.104131305,
            0.077969454,
            0.097721048,
            0.079324479,
            0.084939453,
            0.042813069,
            0.036010322,
            0.027580129,
            0.06098563,
            0.043405468,
            0.027219,
            0.022675568,
            0.119623241,
            0.094160341,
            0.089018169,
            0.087106311,
            0.120221963,
            0.088098479,
            0.07862873,
            0.071681233,
            0.140111695,
            0.072219049,
            0.074101374,
            0.076766797,
            0.142556365,
            0.091191829,
            0.073999618,
            0.063868953
           ]
          }
         ],
         "line": {
          "cmax": 946.956744806,
          "cmin": 0.009276261,
          "color": [
           0.044212256,
           0.039798562,
           0.033380045,
           0.029572076,
           0.031901266,
           0.027016502,
           0.410171223,
           0.403973456,
           0.01560396,
           0.014510651,
           0.270616551,
           0.453444437,
           0.015269823,
           0.013479096,
           0.402500819,
           0.410619458,
           0.011664307,
           0.011381626,
           0.010946331,
           0.011994315,
           0.011634271,
           0.453892715,
           0.397015425,
           0.392640539,
           0.010578981,
           0.399726952,
           0.403672554,
           0.400112816,
           0.009811386,
           0.401111802,
           0.397793422,
           0.392565304,
           0.011353368,
           0.01021246,
           0.011175594,
           0.010269286,
           0.009688146,
           0.411188213,
           0.394657004,
           0.395858835,
           0.009598249,
           0.397789698,
           0.284323896,
           0.395424078,
           0.009276261,
           0.396044694,
           0.402238912,
           0.389774099,
           0.029816479,
           0.031161525,
           0.053381556,
           0.098539385,
           0.022256439,
           0.028572494,
           0.04156765,
           0.046773776,
           0.024993282,
           0.025176986,
           0.039935763,
           0.044058468,
           0.023701097,
           0.025216058,
           0.037675906,
           0.054304428,
           0.034452565,
           0.040080218,
           593.975729095,
           762.337452122,
           0.064623484,
           0.058826584,
           795.129479606,
           580.506645482,
           0.029934042,
           0.03047349,
           514.417151995,
           725.729786541,
           0.092893455,
           0.058934435,
           946.956744806,
           509.908108707,
           0.059417503,
           0.066819578,
           0.132332548,
           0.216886714,
           0.07511172,
           0.076652769,
           0.10450752,
           0.133746095,
           0.058566263,
           0.072857112,
           0.09014797,
           0.146319108,
           0.064390749,
           0.066529727,
           0.124542081,
           0.165811358,
           0.020998808,
           0.027688222,
           0.046123487,
           0.048458027,
           0.024648166,
           0.02549775,
           204.770205967,
           65.521733148,
           0.025079005,
           0.023475018,
           209.446960709,
           58.82875299,
           0.025716199,
           0.023800546,
           205.753283692,
           58.278993193,
           0.035603765,
           256.65422702,
           0.040381625,
           0.028293599,
           0.026229623,
           0.030353421,
           0.034136329,
           0.678408323,
           0.656446364,
           0.623668468,
           0.022033893,
           0.648874318,
           0.607751594,
           0.672947322,
           0.013643442,
           0.570668402,
           0.541283689,
           0.669671852,
           0.067060125,
           0.041273684,
           0.035110741,
           0.034736093,
           0.104131305,
           0.077969454,
           0.097721048,
           0.079324479,
           0.084939453,
           0.042813069,
           0.036010322,
           0.027580129,
           0.06098563,
           0.043405468,
           0.027219,
           0.022675568,
           0.119623241,
           0.094160341,
           0.089018169,
           0.087106311,
           0.120221963,
           0.088098479,
           0.07862873,
           0.071681233,
           0.140111695,
           0.072219049,
           0.074101374,
           0.076766797,
           0.142556365,
           0.091191829,
           0.073999618,
           0.063868953
          ],
          "showscale": true
         },
         "type": "parcoords"
        }
       ],
       "layout": {
        "template": {
         "data": {
          "bar": [
           {
            "error_x": {
             "color": "#2a3f5f"
            },
            "error_y": {
             "color": "#2a3f5f"
            },
            "marker": {
             "line": {
              "color": "#E5ECF6",
              "width": 0.5
             }
            },
            "type": "bar"
           }
          ],
          "barpolar": [
           {
            "marker": {
             "line": {
              "color": "#E5ECF6",
              "width": 0.5
             }
            },
            "type": "barpolar"
           }
          ],
          "carpet": [
           {
            "aaxis": {
             "endlinecolor": "#2a3f5f",
             "gridcolor": "white",
             "linecolor": "white",
             "minorgridcolor": "white",
             "startlinecolor": "#2a3f5f"
            },
            "baxis": {
             "endlinecolor": "#2a3f5f",
             "gridcolor": "white",
             "linecolor": "white",
             "minorgridcolor": "white",
             "startlinecolor": "#2a3f5f"
            },
            "type": "carpet"
           }
          ],
          "choropleth": [
           {
            "colorbar": {
             "outlinewidth": 0,
             "ticks": ""
            },
            "type": "choropleth"
           }
          ],
          "contour": [
           {
            "colorbar": {
             "outlinewidth": 0,
             "ticks": ""
            },
            "colorscale": [
             [
              0,
              "#0d0887"
             ],
             [
              0.1111111111111111,
              "#46039f"
             ],
             [
              0.2222222222222222,
              "#7201a8"
             ],
             [
              0.3333333333333333,
              "#9c179e"
             ],
             [
              0.4444444444444444,
              "#bd3786"
             ],
             [
              0.5555555555555556,
              "#d8576b"
             ],
             [
              0.6666666666666666,
              "#ed7953"
             ],
             [
              0.7777777777777778,
              "#fb9f3a"
             ],
             [
              0.8888888888888888,
              "#fdca26"
             ],
             [
              1,
              "#f0f921"
             ]
            ],
            "type": "contour"
           }
          ],
          "contourcarpet": [
           {
            "colorbar": {
             "outlinewidth": 0,
             "ticks": ""
            },
            "type": "contourcarpet"
           }
          ],
          "heatmap": [
           {
            "colorbar": {
             "outlinewidth": 0,
             "ticks": ""
            },
            "colorscale": [
             [
              0,
              "#0d0887"
             ],
             [
              0.1111111111111111,
              "#46039f"
             ],
             [
              0.2222222222222222,
              "#7201a8"
             ],
             [
              0.3333333333333333,
              "#9c179e"
             ],
             [
              0.4444444444444444,
              "#bd3786"
             ],
             [
              0.5555555555555556,
              "#d8576b"
             ],
             [
              0.6666666666666666,
              "#ed7953"
             ],
             [
              0.7777777777777778,
              "#fb9f3a"
             ],
             [
              0.8888888888888888,
              "#fdca26"
             ],
             [
              1,
              "#f0f921"
             ]
            ],
            "type": "heatmap"
           }
          ],
          "heatmapgl": [
           {
            "colorbar": {
             "outlinewidth": 0,
             "ticks": ""
            },
            "colorscale": [
             [
              0,
              "#0d0887"
             ],
             [
              0.1111111111111111,
              "#46039f"
             ],
             [
              0.2222222222222222,
              "#7201a8"
             ],
             [
              0.3333333333333333,
              "#9c179e"
             ],
             [
              0.4444444444444444,
              "#bd3786"
             ],
             [
              0.5555555555555556,
              "#d8576b"
             ],
             [
              0.6666666666666666,
              "#ed7953"
             ],
             [
              0.7777777777777778,
              "#fb9f3a"
             ],
             [
              0.8888888888888888,
              "#fdca26"
             ],
             [
              1,
              "#f0f921"
             ]
            ],
            "type": "heatmapgl"
           }
          ],
          "histogram": [
           {
            "marker": {
             "colorbar": {
              "outlinewidth": 0,
              "ticks": ""
             }
            },
            "type": "histogram"
           }
          ],
          "histogram2d": [
           {
            "colorbar": {
             "outlinewidth": 0,
             "ticks": ""
            },
            "colorscale": [
             [
              0,
              "#0d0887"
             ],
             [
              0.1111111111111111,
              "#46039f"
             ],
             [
              0.2222222222222222,
              "#7201a8"
             ],
             [
              0.3333333333333333,
              "#9c179e"
             ],
             [
              0.4444444444444444,
              "#bd3786"
             ],
             [
              0.5555555555555556,
              "#d8576b"
             ],
             [
              0.6666666666666666,
              "#ed7953"
             ],
             [
              0.7777777777777778,
              "#fb9f3a"
             ],
             [
              0.8888888888888888,
              "#fdca26"
             ],
             [
              1,
              "#f0f921"
             ]
            ],
            "type": "histogram2d"
           }
          ],
          "histogram2dcontour": [
           {
            "colorbar": {
             "outlinewidth": 0,
             "ticks": ""
            },
            "colorscale": [
             [
              0,
              "#0d0887"
             ],
             [
              0.1111111111111111,
              "#46039f"
             ],
             [
              0.2222222222222222,
              "#7201a8"
             ],
             [
              0.3333333333333333,
              "#9c179e"
             ],
             [
              0.4444444444444444,
              "#bd3786"
             ],
             [
              0.5555555555555556,
              "#d8576b"
             ],
             [
              0.6666666666666666,
              "#ed7953"
             ],
             [
              0.7777777777777778,
              "#fb9f3a"
             ],
             [
              0.8888888888888888,
              "#fdca26"
             ],
             [
              1,
              "#f0f921"
             ]
            ],
            "type": "histogram2dcontour"
           }
          ],
          "mesh3d": [
           {
            "colorbar": {
             "outlinewidth": 0,
             "ticks": ""
            },
            "type": "mesh3d"
           }
          ],
          "parcoords": [
           {
            "line": {
             "colorbar": {
              "outlinewidth": 0,
              "ticks": ""
             }
            },
            "type": "parcoords"
           }
          ],
          "pie": [
           {
            "automargin": true,
            "type": "pie"
           }
          ],
          "scatter": [
           {
            "marker": {
             "colorbar": {
              "outlinewidth": 0,
              "ticks": ""
             }
            },
            "type": "scatter"
           }
          ],
          "scatter3d": [
           {
            "line": {
             "colorbar": {
              "outlinewidth": 0,
              "ticks": ""
             }
            },
            "marker": {
             "colorbar": {
              "outlinewidth": 0,
              "ticks": ""
             }
            },
            "type": "scatter3d"
           }
          ],
          "scattercarpet": [
           {
            "marker": {
             "colorbar": {
              "outlinewidth": 0,
              "ticks": ""
             }
            },
            "type": "scattercarpet"
           }
          ],
          "scattergeo": [
           {
            "marker": {
             "colorbar": {
              "outlinewidth": 0,
              "ticks": ""
             }
            },
            "type": "scattergeo"
           }
          ],
          "scattergl": [
           {
            "marker": {
             "colorbar": {
              "outlinewidth": 0,
              "ticks": ""
             }
            },
            "type": "scattergl"
           }
          ],
          "scattermapbox": [
           {
            "marker": {
             "colorbar": {
              "outlinewidth": 0,
              "ticks": ""
             }
            },
            "type": "scattermapbox"
           }
          ],
          "scatterpolar": [
           {
            "marker": {
             "colorbar": {
              "outlinewidth": 0,
              "ticks": ""
             }
            },
            "type": "scatterpolar"
           }
          ],
          "scatterpolargl": [
           {
            "marker": {
             "colorbar": {
              "outlinewidth": 0,
              "ticks": ""
             }
            },
            "type": "scatterpolargl"
           }
          ],
          "scatterternary": [
           {
            "marker": {
             "colorbar": {
              "outlinewidth": 0,
              "ticks": ""
             }
            },
            "type": "scatterternary"
           }
          ],
          "surface": [
           {
            "colorbar": {
             "outlinewidth": 0,
             "ticks": ""
            },
            "colorscale": [
             [
              0,
              "#0d0887"
             ],
             [
              0.1111111111111111,
              "#46039f"
             ],
             [
              0.2222222222222222,
              "#7201a8"
             ],
             [
              0.3333333333333333,
              "#9c179e"
             ],
             [
              0.4444444444444444,
              "#bd3786"
             ],
             [
              0.5555555555555556,
              "#d8576b"
             ],
             [
              0.6666666666666666,
              "#ed7953"
             ],
             [
              0.7777777777777778,
              "#fb9f3a"
             ],
             [
              0.8888888888888888,
              "#fdca26"
             ],
             [
              1,
              "#f0f921"
             ]
            ],
            "type": "surface"
           }
          ],
          "table": [
           {
            "cells": {
             "fill": {
              "color": "#EBF0F8"
             },
             "line": {
              "color": "white"
             }
            },
            "header": {
             "fill": {
              "color": "#C8D4E3"
             },
             "line": {
              "color": "white"
             }
            },
            "type": "table"
           }
          ]
         },
         "layout": {
          "annotationdefaults": {
           "arrowcolor": "#2a3f5f",
           "arrowhead": 0,
           "arrowwidth": 1
          },
          "coloraxis": {
           "colorbar": {
            "outlinewidth": 0,
            "ticks": ""
           }
          },
          "colorscale": {
           "diverging": [
            [
             0,
             "#8e0152"
            ],
            [
             0.1,
             "#c51b7d"
            ],
            [
             0.2,
             "#de77ae"
            ],
            [
             0.3,
             "#f1b6da"
            ],
            [
             0.4,
             "#fde0ef"
            ],
            [
             0.5,
             "#f7f7f7"
            ],
            [
             0.6,
             "#e6f5d0"
            ],
            [
             0.7,
             "#b8e186"
            ],
            [
             0.8,
             "#7fbc41"
            ],
            [
             0.9,
             "#4d9221"
            ],
            [
             1,
             "#276419"
            ]
           ],
           "sequential": [
            [
             0,
             "#0d0887"
            ],
            [
             0.1111111111111111,
             "#46039f"
            ],
            [
             0.2222222222222222,
             "#7201a8"
            ],
            [
             0.3333333333333333,
             "#9c179e"
            ],
            [
             0.4444444444444444,
             "#bd3786"
            ],
            [
             0.5555555555555556,
             "#d8576b"
            ],
            [
             0.6666666666666666,
             "#ed7953"
            ],
            [
             0.7777777777777778,
             "#fb9f3a"
            ],
            [
             0.8888888888888888,
             "#fdca26"
            ],
            [
             1,
             "#f0f921"
            ]
           ],
           "sequentialminus": [
            [
             0,
             "#0d0887"
            ],
            [
             0.1111111111111111,
             "#46039f"
            ],
            [
             0.2222222222222222,
             "#7201a8"
            ],
            [
             0.3333333333333333,
             "#9c179e"
            ],
            [
             0.4444444444444444,
             "#bd3786"
            ],
            [
             0.5555555555555556,
             "#d8576b"
            ],
            [
             0.6666666666666666,
             "#ed7953"
            ],
            [
             0.7777777777777778,
             "#fb9f3a"
            ],
            [
             0.8888888888888888,
             "#fdca26"
            ],
            [
             1,
             "#f0f921"
            ]
           ]
          },
          "colorway": [
           "#636efa",
           "#EF553B",
           "#00cc96",
           "#ab63fa",
           "#FFA15A",
           "#19d3f3",
           "#FF6692",
           "#B6E880",
           "#FF97FF",
           "#FECB52"
          ],
          "font": {
           "color": "#2a3f5f"
          },
          "geo": {
           "bgcolor": "white",
           "lakecolor": "white",
           "landcolor": "#E5ECF6",
           "showlakes": true,
           "showland": true,
           "subunitcolor": "white"
          },
          "hoverlabel": {
           "align": "left"
          },
          "hovermode": "closest",
          "mapbox": {
           "style": "light"
          },
          "paper_bgcolor": "white",
          "plot_bgcolor": "#E5ECF6",
          "polar": {
           "angularaxis": {
            "gridcolor": "white",
            "linecolor": "white",
            "ticks": ""
           },
           "bgcolor": "#E5ECF6",
           "radialaxis": {
            "gridcolor": "white",
            "linecolor": "white",
            "ticks": ""
           }
          },
          "scene": {
           "xaxis": {
            "backgroundcolor": "#E5ECF6",
            "gridcolor": "white",
            "gridwidth": 2,
            "linecolor": "white",
            "showbackground": true,
            "ticks": "",
            "zerolinecolor": "white"
           },
           "yaxis": {
            "backgroundcolor": "#E5ECF6",
            "gridcolor": "white",
            "gridwidth": 2,
            "linecolor": "white",
            "showbackground": true,
            "ticks": "",
            "zerolinecolor": "white"
           },
           "zaxis": {
            "backgroundcolor": "#E5ECF6",
            "gridcolor": "white",
            "gridwidth": 2,
            "linecolor": "white",
            "showbackground": true,
            "ticks": "",
            "zerolinecolor": "white"
           }
          },
          "shapedefaults": {
           "line": {
            "color": "#2a3f5f"
           }
          },
          "ternary": {
           "aaxis": {
            "gridcolor": "white",
            "linecolor": "white",
            "ticks": ""
           },
           "baxis": {
            "gridcolor": "white",
            "linecolor": "white",
            "ticks": ""
           },
           "bgcolor": "#E5ECF6",
           "caxis": {
            "gridcolor": "white",
            "linecolor": "white",
            "ticks": ""
           }
          },
          "title": {
           "x": 0.05
          },
          "xaxis": {
           "automargin": true,
           "gridcolor": "white",
           "linecolor": "white",
           "ticks": "",
           "title": {
            "standoff": 15
           },
           "zerolinecolor": "white",
           "zerolinewidth": 2
          },
          "yaxis": {
           "automargin": true,
           "gridcolor": "white",
           "linecolor": "white",
           "ticks": "",
           "title": {
            "standoff": 15
           },
           "zerolinecolor": "white",
           "zerolinewidth": 2
          }
         }
        },
        "title": {
         "text": "Experiments: skyline_topk_time Calculations"
        }
       }
      },
      "text/html": [
       "<div>                            <div id=\"72295f0d-df25-4db6-acd7-10f194b21d35\" class=\"plotly-graph-div\" style=\"height:525px; width:100%;\"></div>            <script type=\"text/javascript\">                require([\"plotly\"], function(Plotly) {                    window.PLOTLYENV=window.PLOTLYENV || {};                                    if (document.getElementById(\"72295f0d-df25-4db6-acd7-10f194b21d35\")) {                    Plotly.newPlot(                        \"72295f0d-df25-4db6-acd7-10f194b21d35\",                        [{\"dimensions\": [{\"label\": \"Data distribution\", \"ticktext\": [\"uniform\", \"normal\", \"correlated\", \"anticorrelated\"], \"tickvals\": [1, 2, 3, 4], \"values\": [4, 4, 4, 4, 4, 4, 4, 4, 4, 4, 4, 4, 4, 4, 4, 4, 2, 2, 2, 2, 2, 2, 2, 2, 2, 2, 2, 2, 2, 2, 2, 2, 1, 1, 1, 1, 1, 1, 1, 1, 1, 1, 1, 1, 1, 1, 1, 1, 4, 4, 4, 4, 4, 4, 4, 4, 4, 4, 4, 4, 4, 4, 4, 4, 3, 3, 3, 3, 3, 3, 3, 3, 3, 3, 3, 3, 3, 3, 3, 3, 1, 1, 1, 1, 1, 1, 1, 1, 1, 1, 1, 1, 1, 1, 1, 1, 3, 3, 3, 3, 3, 3, 3, 3, 3, 3, 3, 3, 3, 3, 3, 3, 1, 1, 3, 3, 3, 3, 3, 3, 3, 3, 3, 3, 3, 3, 3, 3, 3, 3, 2, 2, 2, 2, 2, 2, 2, 2, 1, 1, 1, 1, 3, 3, 3, 3, 1, 1, 1, 1, 2, 2, 2, 2, 3, 3, 3, 3, 4, 4, 4, 4]}, {\"label\": \"Total data points\", \"ticktext\": [10000, 100000, 1000000], \"tickvals\": [1, 2, 3], \"values\": [1, 1, 1, 1, 1, 1, 1, 1, 1, 1, 1, 1, 1, 1, 1, 1, 1, 1, 1, 1, 1, 1, 1, 1, 1, 1, 1, 1, 1, 1, 1, 1, 1, 1, 1, 1, 1, 1, 1, 1, 1, 1, 1, 1, 1, 1, 1, 1, 1, 1, 1, 1, 1, 1, 1, 1, 1, 1, 1, 1, 1, 1, 1, 1, 3, 3, 3, 3, 3, 3, 3, 3, 3, 3, 3, 3, 3, 3, 3, 3, 2, 2, 2, 2, 2, 2, 2, 2, 2, 2, 2, 2, 2, 2, 2, 2, 2, 2, 2, 2, 2, 2, 2, 2, 2, 2, 2, 2, 2, 2, 2, 2, 3, 3, 1, 1, 1, 1, 1, 1, 1, 1, 1, 1, 1, 1, 1, 1, 1, 1, 1, 1, 1, 1, 2, 2, 2, 2, 1, 1, 1, 1, 1, 1, 1, 1, 1, 1, 1, 1, 1, 1, 1, 1, 1, 1, 1, 1, 1, 1, 1, 1]}, {\"label\": \"Data points dim\", \"ticktext\": [2, 4, 10, 50], \"tickvals\": [1, 2, 3, 4], \"values\": [2, 2, 2, 2, 2, 2, 2, 2, 2, 2, 2, 2, 2, 2, 2, 2, 2, 2, 2, 2, 2, 2, 2, 2, 2, 2, 2, 2, 2, 2, 2, 2, 2, 2, 2, 2, 2, 2, 2, 2, 2, 2, 2, 2, 2, 2, 2, 2, 3, 3, 3, 3, 3, 3, 3, 3, 3, 3, 3, 3, 3, 3, 3, 3, 3, 3, 3, 3, 3, 3, 3, 3, 3, 3, 3, 3, 3, 3, 3, 3, 3, 3, 3, 3, 3, 3, 3, 3, 3, 3, 3, 3, 3, 3, 3, 3, 3, 3, 3, 3, 3, 3, 3, 3, 3, 3, 3, 3, 3, 3, 3, 3, 1, 1, 2, 2, 2, 2, 2, 2, 2, 2, 2, 2, 2, 2, 2, 2, 2, 2, 3, 3, 3, 3, 3, 3, 3, 3, 3, 3, 3, 3, 3, 3, 3, 3, 4, 4, 4, 4, 4, 4, 4, 4, 4, 4, 4, 4, 4, 4, 4, 4]}, {\"label\": \"Number of Cores\", \"range\": [1, 8], \"values\": [1, 1, 1, 1, 2, 2, 2, 2, 4, 4, 4, 4, 8, 8, 8, 8, 1, 1, 1, 1, 2, 2, 2, 2, 4, 4, 4, 4, 8, 8, 8, 8, 1, 1, 1, 1, 2, 2, 2, 2, 4, 4, 4, 4, 8, 8, 8, 8, 1, 1, 1, 1, 2, 2, 2, 2, 4, 4, 4, 4, 8, 8, 8, 8, 1, 1, 1, 1, 2, 2, 2, 2, 4, 4, 4, 4, 8, 8, 8, 8, 1, 1, 1, 1, 2, 2, 2, 2, 4, 4, 4, 4, 8, 8, 8, 8, 1, 1, 1, 1, 2, 2, 2, 2, 4, 4, 4, 4, 8, 8, 8, 8, 1, 1, 1, 1, 1, 1, 2, 2, 2, 2, 4, 4, 4, 4, 8, 8, 8, 8, 1, 2, 4, 8, 1, 2, 4, 8, 1, 2, 4, 8, 1, 2, 4, 8, 8, 4, 2, 1, 8, 4, 2, 1, 8, 4, 2, 1, 8, 4, 2, 1]}, {\"label\": \"k (Number of points to return)\", \"range\": [0, 100], \"values\": [1, 10, 50, 100, 1, 10, 50, 100, 1, 10, 50, 100, 1, 10, 50, 100, 1, 10, 50, 100, 1, 10, 50, 100, 1, 10, 50, 100, 1, 10, 50, 100, 1, 10, 50, 100, 1, 10, 50, 100, 1, 10, 50, 100, 1, 10, 50, 100, 1, 10, 50, 100, 1, 10, 50, 100, 1, 10, 50, 100, 1, 10, 50, 100, 1, 10, 50, 100, 1, 10, 50, 100, 1, 10, 50, 100, 1, 10, 50, 100, 1, 10, 50, 100, 1, 10, 50, 100, 1, 10, 50, 100, 1, 10, 50, 100, 1, 10, 50, 100, 1, 10, 50, 100, 1, 10, 50, 100, 1, 10, 50, 100, 1, 10, 1, 10, 50, 100, 1, 10, 50, 100, 1, 10, 50, 100, 1, 10, 50, 100, 1, 1, 1, 1, 1, 1, 1, 1, 1, 1, 1, 1, 1, 1, 1, 1, 1, 1, 1, 1, 1, 1, 1, 1, 1, 1, 1, 1, 1, 1, 1, 1]}, {\"label\": \"Time\", \"range\": [0.009276261, 946.956744806], \"values\": [0.044212256, 0.039798562, 0.033380045, 0.029572076, 0.031901266, 0.027016502, 0.410171223, 0.403973456, 0.01560396, 0.014510651, 0.270616551, 0.453444437, 0.015269823, 0.013479096, 0.402500819, 0.410619458, 0.011664307, 0.011381626, 0.010946331, 0.011994315, 0.011634271, 0.453892715, 0.397015425, 0.392640539, 0.010578981, 0.399726952, 0.403672554, 0.400112816, 0.009811386, 0.401111802, 0.397793422, 0.392565304, 0.011353368, 0.01021246, 0.011175594, 0.010269286, 0.009688146, 0.411188213, 0.394657004, 0.395858835, 0.009598249, 0.397789698, 0.284323896, 0.395424078, 0.009276261, 0.396044694, 0.402238912, 0.389774099, 0.029816479, 0.031161525, 0.053381556, 0.098539385, 0.022256439, 0.028572494, 0.04156765, 0.046773776, 0.024993282, 0.025176986, 0.039935763, 0.044058468, 0.023701097, 0.025216058, 0.037675906, 0.054304428, 0.034452565, 0.040080218, 593.975729095, 762.337452122, 0.064623484, 0.058826584, 795.129479606, 580.506645482, 0.029934042, 0.03047349, 514.417151995, 725.729786541, 0.092893455, 0.058934435, 946.956744806, 509.908108707, 0.059417503, 0.066819578, 0.132332548, 0.216886714, 0.07511172, 0.076652769, 0.10450752, 0.133746095, 0.058566263, 0.072857112, 0.09014797, 0.146319108, 0.064390749, 0.066529727, 0.124542081, 0.165811358, 0.020998808, 0.027688222, 0.046123487, 0.048458027, 0.024648166, 0.02549775, 204.770205967, 65.521733148, 0.025079005, 0.023475018, 209.446960709, 58.82875299, 0.025716199, 0.023800546, 205.753283692, 58.278993193, 0.035603765, 256.65422702, 0.040381625, 0.028293599, 0.026229623, 0.030353421, 0.034136329, 0.678408323, 0.656446364, 0.623668468, 0.022033893, 0.648874318, 0.607751594, 0.672947322, 0.013643442, 0.570668402, 0.541283689, 0.669671852, 0.067060125, 0.041273684, 0.035110741, 0.034736093, 0.104131305, 0.077969454, 0.097721048, 0.079324479, 0.084939453, 0.042813069, 0.036010322, 0.027580129, 0.06098563, 0.043405468, 0.027219, 0.022675568, 0.119623241, 0.094160341, 0.089018169, 0.087106311, 0.120221963, 0.088098479, 0.07862873, 0.071681233, 0.140111695, 0.072219049, 0.074101374, 0.076766797, 0.142556365, 0.091191829, 0.073999618, 0.063868953]}], \"line\": {\"cmax\": 946.956744806, \"cmin\": 0.009276261, \"color\": [0.044212256, 0.039798562, 0.033380045, 0.029572076, 0.031901266, 0.027016502, 0.410171223, 0.403973456, 0.01560396, 0.014510651, 0.270616551, 0.453444437, 0.015269823, 0.013479096, 0.402500819, 0.410619458, 0.011664307, 0.011381626, 0.010946331, 0.011994315, 0.011634271, 0.453892715, 0.397015425, 0.392640539, 0.010578981, 0.399726952, 0.403672554, 0.400112816, 0.009811386, 0.401111802, 0.397793422, 0.392565304, 0.011353368, 0.01021246, 0.011175594, 0.010269286, 0.009688146, 0.411188213, 0.394657004, 0.395858835, 0.009598249, 0.397789698, 0.284323896, 0.395424078, 0.009276261, 0.396044694, 0.402238912, 0.389774099, 0.029816479, 0.031161525, 0.053381556, 0.098539385, 0.022256439, 0.028572494, 0.04156765, 0.046773776, 0.024993282, 0.025176986, 0.039935763, 0.044058468, 0.023701097, 0.025216058, 0.037675906, 0.054304428, 0.034452565, 0.040080218, 593.975729095, 762.337452122, 0.064623484, 0.058826584, 795.129479606, 580.506645482, 0.029934042, 0.03047349, 514.417151995, 725.729786541, 0.092893455, 0.058934435, 946.956744806, 509.908108707, 0.059417503, 0.066819578, 0.132332548, 0.216886714, 0.07511172, 0.076652769, 0.10450752, 0.133746095, 0.058566263, 0.072857112, 0.09014797, 0.146319108, 0.064390749, 0.066529727, 0.124542081, 0.165811358, 0.020998808, 0.027688222, 0.046123487, 0.048458027, 0.024648166, 0.02549775, 204.770205967, 65.521733148, 0.025079005, 0.023475018, 209.446960709, 58.82875299, 0.025716199, 0.023800546, 205.753283692, 58.278993193, 0.035603765, 256.65422702, 0.040381625, 0.028293599, 0.026229623, 0.030353421, 0.034136329, 0.678408323, 0.656446364, 0.623668468, 0.022033893, 0.648874318, 0.607751594, 0.672947322, 0.013643442, 0.570668402, 0.541283689, 0.669671852, 0.067060125, 0.041273684, 0.035110741, 0.034736093, 0.104131305, 0.077969454, 0.097721048, 0.079324479, 0.084939453, 0.042813069, 0.036010322, 0.027580129, 0.06098563, 0.043405468, 0.027219, 0.022675568, 0.119623241, 0.094160341, 0.089018169, 0.087106311, 0.120221963, 0.088098479, 0.07862873, 0.071681233, 0.140111695, 0.072219049, 0.074101374, 0.076766797, 0.142556365, 0.091191829, 0.073999618, 0.063868953], \"showscale\": true}, \"type\": \"parcoords\"}],                        {\"template\": {\"data\": {\"bar\": [{\"error_x\": {\"color\": \"#2a3f5f\"}, \"error_y\": {\"color\": \"#2a3f5f\"}, \"marker\": {\"line\": {\"color\": \"#E5ECF6\", \"width\": 0.5}}, \"type\": \"bar\"}], \"barpolar\": [{\"marker\": {\"line\": {\"color\": \"#E5ECF6\", \"width\": 0.5}}, \"type\": \"barpolar\"}], \"carpet\": [{\"aaxis\": {\"endlinecolor\": \"#2a3f5f\", \"gridcolor\": \"white\", \"linecolor\": \"white\", \"minorgridcolor\": \"white\", \"startlinecolor\": \"#2a3f5f\"}, \"baxis\": {\"endlinecolor\": \"#2a3f5f\", \"gridcolor\": \"white\", \"linecolor\": \"white\", \"minorgridcolor\": \"white\", \"startlinecolor\": \"#2a3f5f\"}, \"type\": \"carpet\"}], \"choropleth\": [{\"colorbar\": {\"outlinewidth\": 0, \"ticks\": \"\"}, \"type\": \"choropleth\"}], \"contour\": [{\"colorbar\": {\"outlinewidth\": 0, \"ticks\": \"\"}, \"colorscale\": [[0.0, \"#0d0887\"], [0.1111111111111111, \"#46039f\"], [0.2222222222222222, \"#7201a8\"], [0.3333333333333333, \"#9c179e\"], [0.4444444444444444, \"#bd3786\"], [0.5555555555555556, \"#d8576b\"], [0.6666666666666666, \"#ed7953\"], [0.7777777777777778, \"#fb9f3a\"], [0.8888888888888888, \"#fdca26\"], [1.0, \"#f0f921\"]], \"type\": \"contour\"}], \"contourcarpet\": [{\"colorbar\": {\"outlinewidth\": 0, \"ticks\": \"\"}, \"type\": \"contourcarpet\"}], \"heatmap\": [{\"colorbar\": {\"outlinewidth\": 0, \"ticks\": \"\"}, \"colorscale\": [[0.0, \"#0d0887\"], [0.1111111111111111, \"#46039f\"], [0.2222222222222222, \"#7201a8\"], [0.3333333333333333, \"#9c179e\"], [0.4444444444444444, \"#bd3786\"], [0.5555555555555556, \"#d8576b\"], [0.6666666666666666, \"#ed7953\"], [0.7777777777777778, \"#fb9f3a\"], [0.8888888888888888, \"#fdca26\"], [1.0, \"#f0f921\"]], \"type\": \"heatmap\"}], \"heatmapgl\": [{\"colorbar\": {\"outlinewidth\": 0, \"ticks\": \"\"}, \"colorscale\": [[0.0, \"#0d0887\"], [0.1111111111111111, \"#46039f\"], [0.2222222222222222, \"#7201a8\"], [0.3333333333333333, \"#9c179e\"], [0.4444444444444444, \"#bd3786\"], [0.5555555555555556, \"#d8576b\"], [0.6666666666666666, \"#ed7953\"], [0.7777777777777778, \"#fb9f3a\"], [0.8888888888888888, \"#fdca26\"], [1.0, \"#f0f921\"]], \"type\": \"heatmapgl\"}], \"histogram\": [{\"marker\": {\"colorbar\": {\"outlinewidth\": 0, \"ticks\": \"\"}}, \"type\": \"histogram\"}], \"histogram2d\": [{\"colorbar\": {\"outlinewidth\": 0, \"ticks\": \"\"}, \"colorscale\": [[0.0, \"#0d0887\"], [0.1111111111111111, \"#46039f\"], [0.2222222222222222, \"#7201a8\"], [0.3333333333333333, \"#9c179e\"], [0.4444444444444444, \"#bd3786\"], [0.5555555555555556, \"#d8576b\"], [0.6666666666666666, \"#ed7953\"], [0.7777777777777778, \"#fb9f3a\"], [0.8888888888888888, \"#fdca26\"], [1.0, \"#f0f921\"]], \"type\": \"histogram2d\"}], \"histogram2dcontour\": [{\"colorbar\": {\"outlinewidth\": 0, \"ticks\": \"\"}, \"colorscale\": [[0.0, \"#0d0887\"], [0.1111111111111111, \"#46039f\"], [0.2222222222222222, \"#7201a8\"], [0.3333333333333333, \"#9c179e\"], [0.4444444444444444, \"#bd3786\"], [0.5555555555555556, \"#d8576b\"], [0.6666666666666666, \"#ed7953\"], [0.7777777777777778, \"#fb9f3a\"], [0.8888888888888888, \"#fdca26\"], [1.0, \"#f0f921\"]], \"type\": \"histogram2dcontour\"}], \"mesh3d\": [{\"colorbar\": {\"outlinewidth\": 0, \"ticks\": \"\"}, \"type\": \"mesh3d\"}], \"parcoords\": [{\"line\": {\"colorbar\": {\"outlinewidth\": 0, \"ticks\": \"\"}}, \"type\": \"parcoords\"}], \"pie\": [{\"automargin\": true, \"type\": \"pie\"}], \"scatter\": [{\"marker\": {\"colorbar\": {\"outlinewidth\": 0, \"ticks\": \"\"}}, \"type\": \"scatter\"}], \"scatter3d\": [{\"line\": {\"colorbar\": {\"outlinewidth\": 0, \"ticks\": \"\"}}, \"marker\": {\"colorbar\": {\"outlinewidth\": 0, \"ticks\": \"\"}}, \"type\": \"scatter3d\"}], \"scattercarpet\": [{\"marker\": {\"colorbar\": {\"outlinewidth\": 0, \"ticks\": \"\"}}, \"type\": \"scattercarpet\"}], \"scattergeo\": [{\"marker\": {\"colorbar\": {\"outlinewidth\": 0, \"ticks\": \"\"}}, \"type\": \"scattergeo\"}], \"scattergl\": [{\"marker\": {\"colorbar\": {\"outlinewidth\": 0, \"ticks\": \"\"}}, \"type\": \"scattergl\"}], \"scattermapbox\": [{\"marker\": {\"colorbar\": {\"outlinewidth\": 0, \"ticks\": \"\"}}, \"type\": \"scattermapbox\"}], \"scatterpolar\": [{\"marker\": {\"colorbar\": {\"outlinewidth\": 0, \"ticks\": \"\"}}, \"type\": \"scatterpolar\"}], \"scatterpolargl\": [{\"marker\": {\"colorbar\": {\"outlinewidth\": 0, \"ticks\": \"\"}}, \"type\": \"scatterpolargl\"}], \"scatterternary\": [{\"marker\": {\"colorbar\": {\"outlinewidth\": 0, \"ticks\": \"\"}}, \"type\": \"scatterternary\"}], \"surface\": [{\"colorbar\": {\"outlinewidth\": 0, \"ticks\": \"\"}, \"colorscale\": [[0.0, \"#0d0887\"], [0.1111111111111111, \"#46039f\"], [0.2222222222222222, \"#7201a8\"], [0.3333333333333333, \"#9c179e\"], [0.4444444444444444, \"#bd3786\"], [0.5555555555555556, \"#d8576b\"], [0.6666666666666666, \"#ed7953\"], [0.7777777777777778, \"#fb9f3a\"], [0.8888888888888888, \"#fdca26\"], [1.0, \"#f0f921\"]], \"type\": \"surface\"}], \"table\": [{\"cells\": {\"fill\": {\"color\": \"#EBF0F8\"}, \"line\": {\"color\": \"white\"}}, \"header\": {\"fill\": {\"color\": \"#C8D4E3\"}, \"line\": {\"color\": \"white\"}}, \"type\": \"table\"}]}, \"layout\": {\"annotationdefaults\": {\"arrowcolor\": \"#2a3f5f\", \"arrowhead\": 0, \"arrowwidth\": 1}, \"coloraxis\": {\"colorbar\": {\"outlinewidth\": 0, \"ticks\": \"\"}}, \"colorscale\": {\"diverging\": [[0, \"#8e0152\"], [0.1, \"#c51b7d\"], [0.2, \"#de77ae\"], [0.3, \"#f1b6da\"], [0.4, \"#fde0ef\"], [0.5, \"#f7f7f7\"], [0.6, \"#e6f5d0\"], [0.7, \"#b8e186\"], [0.8, \"#7fbc41\"], [0.9, \"#4d9221\"], [1, \"#276419\"]], \"sequential\": [[0.0, \"#0d0887\"], [0.1111111111111111, \"#46039f\"], [0.2222222222222222, \"#7201a8\"], [0.3333333333333333, \"#9c179e\"], [0.4444444444444444, \"#bd3786\"], [0.5555555555555556, \"#d8576b\"], [0.6666666666666666, \"#ed7953\"], [0.7777777777777778, \"#fb9f3a\"], [0.8888888888888888, \"#fdca26\"], [1.0, \"#f0f921\"]], \"sequentialminus\": [[0.0, \"#0d0887\"], [0.1111111111111111, \"#46039f\"], [0.2222222222222222, \"#7201a8\"], [0.3333333333333333, \"#9c179e\"], [0.4444444444444444, \"#bd3786\"], [0.5555555555555556, \"#d8576b\"], [0.6666666666666666, \"#ed7953\"], [0.7777777777777778, \"#fb9f3a\"], [0.8888888888888888, \"#fdca26\"], [1.0, \"#f0f921\"]]}, \"colorway\": [\"#636efa\", \"#EF553B\", \"#00cc96\", \"#ab63fa\", \"#FFA15A\", \"#19d3f3\", \"#FF6692\", \"#B6E880\", \"#FF97FF\", \"#FECB52\"], \"font\": {\"color\": \"#2a3f5f\"}, \"geo\": {\"bgcolor\": \"white\", \"lakecolor\": \"white\", \"landcolor\": \"#E5ECF6\", \"showlakes\": true, \"showland\": true, \"subunitcolor\": \"white\"}, \"hoverlabel\": {\"align\": \"left\"}, \"hovermode\": \"closest\", \"mapbox\": {\"style\": \"light\"}, \"paper_bgcolor\": \"white\", \"plot_bgcolor\": \"#E5ECF6\", \"polar\": {\"angularaxis\": {\"gridcolor\": \"white\", \"linecolor\": \"white\", \"ticks\": \"\"}, \"bgcolor\": \"#E5ECF6\", \"radialaxis\": {\"gridcolor\": \"white\", \"linecolor\": \"white\", \"ticks\": \"\"}}, \"scene\": {\"xaxis\": {\"backgroundcolor\": \"#E5ECF6\", \"gridcolor\": \"white\", \"gridwidth\": 2, \"linecolor\": \"white\", \"showbackground\": true, \"ticks\": \"\", \"zerolinecolor\": \"white\"}, \"yaxis\": {\"backgroundcolor\": \"#E5ECF6\", \"gridcolor\": \"white\", \"gridwidth\": 2, \"linecolor\": \"white\", \"showbackground\": true, \"ticks\": \"\", \"zerolinecolor\": \"white\"}, \"zaxis\": {\"backgroundcolor\": \"#E5ECF6\", \"gridcolor\": \"white\", \"gridwidth\": 2, \"linecolor\": \"white\", \"showbackground\": true, \"ticks\": \"\", \"zerolinecolor\": \"white\"}}, \"shapedefaults\": {\"line\": {\"color\": \"#2a3f5f\"}}, \"ternary\": {\"aaxis\": {\"gridcolor\": \"white\", \"linecolor\": \"white\", \"ticks\": \"\"}, \"baxis\": {\"gridcolor\": \"white\", \"linecolor\": \"white\", \"ticks\": \"\"}, \"bgcolor\": \"#E5ECF6\", \"caxis\": {\"gridcolor\": \"white\", \"linecolor\": \"white\", \"ticks\": \"\"}}, \"title\": {\"x\": 0.05}, \"xaxis\": {\"automargin\": true, \"gridcolor\": \"white\", \"linecolor\": \"white\", \"ticks\": \"\", \"title\": {\"standoff\": 15}, \"zerolinecolor\": \"white\", \"zerolinewidth\": 2}, \"yaxis\": {\"automargin\": true, \"gridcolor\": \"white\", \"linecolor\": \"white\", \"ticks\": \"\", \"title\": {\"standoff\": 15}, \"zerolinecolor\": \"white\", \"zerolinewidth\": 2}}}, \"title\": {\"text\": \"Experiments: skyline_topk_time Calculations\"}},                        {\"responsive\": true}                    ).then(function(){\n",
       "                            \n",
       "var gd = document.getElementById('72295f0d-df25-4db6-acd7-10f194b21d35');\n",
       "var x = new MutationObserver(function (mutations, observer) {{\n",
       "        var display = window.getComputedStyle(gd).display;\n",
       "        if (!display || display === 'none') {{\n",
       "            console.log([gd, 'removed!']);\n",
       "            Plotly.purge(gd);\n",
       "            observer.disconnect();\n",
       "        }}\n",
       "}});\n",
       "\n",
       "// Listen for the removal of the full notebook cells\n",
       "var notebookContainer = gd.closest('#notebook-container');\n",
       "if (notebookContainer) {{\n",
       "    x.observe(notebookContainer, {childList: true});\n",
       "}}\n",
       "\n",
       "// Listen for the clearing of the current output cell\n",
       "var outputEl = gd.closest('.output');\n",
       "if (outputEl) {{\n",
       "    x.observe(outputEl, {childList: true});\n",
       "}}\n",
       "\n",
       "                        })                };                });            </script>        </div>"
      ]
     },
     "metadata": {},
     "output_type": "display_data"
    }
   ],
   "source": [
    "## Advanced Parallel Coordinates plot\n",
    "\n",
    "fig = go.Figure(data=\n",
    "    go.Parcoords(\n",
    "        line = dict(color = experiment_times[feature_time],\n",
    "                   # colorscale = 'Electric',\n",
    "                   showscale = True,\n",
    "                   cmin = experiment_times[feature_time].min(),\n",
    "                   cmax = experiment_times[feature_time].max()),\n",
    "        dimensions = list([\n",
    "            \n",
    "            # ['distribution', 'total_points', 'cores', 'k']\n",
    "            \n",
    "            # Categorical Features\n",
    "            dict(tickvals = list(distribution_map.values()),\n",
    "                 ticktext = list(distribution_map.keys()),\n",
    "                 label = 'Data distribution', values = experiment_times['distribution']),\n",
    "            \n",
    "            dict(tickvals = list(total_points_map.values()),\n",
    "                 ticktext = list(total_points_map.keys()),\n",
    "                 label = 'Total data points', values = experiment_times['total_points']),\n",
    "            \n",
    "            dict(tickvals = list(dim_map.values()),\n",
    "                 ticktext = list(dim_map.keys()),\n",
    "                 label = 'Data points dim', values = experiment_times['dim']),\n",
    "            \n",
    "            \n",
    "            # Numerical Features\n",
    "            dict(range = [1,8],\n",
    "                 label = \"Number of Cores\", values = experiment_times['cores']),\n",
    "            \n",
    "            dict(range = [0,100],\n",
    "                 label = \"k (Number of points to return)\", values = experiment_times['k']),\n",
    "            \n",
    "            dict(range = [experiment_times[feature_time].min(),experiment_times[feature_time].max()],\n",
    "                 label = \"Time\", values = experiment_times[feature_time])\n",
    "            \n",
    "        \n",
    "            ])\n",
    "    )\n",
    ")\n",
    "\n",
    "\n",
    "fig.update_layout(\n",
    "    title=f\"Experiments: {feature_time} Calculations\")\n",
    "    \n",
    "\n",
    "fig.show()"
   ]
  },
  {
   "cell_type": "code",
   "execution_count": 62,
   "metadata": {},
   "outputs": [],
   "source": [
    "# Save plot as html\n",
    "fig.write_html(\"topk_time.html\")"
   ]
  }
 ],
 "metadata": {
  "kernelspec": {
   "display_name": "Python [conda env:root] *",
   "language": "python",
   "name": "conda-root-py"
  },
  "language_info": {
   "codemirror_mode": {
    "name": "ipython",
    "version": 3
   },
   "file_extension": ".py",
   "mimetype": "text/x-python",
   "name": "python",
   "nbconvert_exporter": "python",
   "pygments_lexer": "ipython3",
   "version": "3.7.9"
  },
  "toc": {
   "base_numbering": 1,
   "nav_menu": {},
   "number_sections": true,
   "sideBar": true,
   "skip_h1_title": false,
   "title_cell": "Table of Contents",
   "title_sidebar": "Contents",
   "toc_cell": false,
   "toc_position": {},
   "toc_section_display": true,
   "toc_window_display": true
  },
  "varInspector": {
   "cols": {
    "lenName": 16,
    "lenType": 16,
    "lenVar": 40
   },
   "kernels_config": {
    "python": {
     "delete_cmd_postfix": "",
     "delete_cmd_prefix": "del ",
     "library": "var_list.py",
     "varRefreshCmd": "print(var_dic_list())"
    },
    "r": {
     "delete_cmd_postfix": ") ",
     "delete_cmd_prefix": "rm(",
     "library": "var_list.r",
     "varRefreshCmd": "cat(var_dic_list()) "
    }
   },
   "types_to_exclude": [
    "module",
    "function",
    "builtin_function_or_method",
    "instance",
    "_Feature"
   ],
   "window_display": false
  }
 },
 "nbformat": 4,
 "nbformat_minor": 4
}
